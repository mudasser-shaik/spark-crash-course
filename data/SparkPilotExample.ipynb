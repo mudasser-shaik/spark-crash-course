{
 "cells": [
  {
   "cell_type": "code",
   "execution_count": 3,
   "metadata": {},
   "outputs": [],
   "source": [
    "import findspark\n",
    "findspark.init()\n"
   ]
  },
  {
   "cell_type": "code",
   "execution_count": 4,
   "metadata": {
    "scrolled": true
   },
   "outputs": [
    {
     "name": "stdout",
     "output_type": "stream",
     "text": [
      "+---+\n",
      "| id|\n",
      "+---+\n",
      "|  0|\n",
      "|  1|\n",
      "|  2|\n",
      "|  3|\n",
      "|  4|\n",
      "|  5|\n",
      "|  6|\n",
      "|  7|\n",
      "|  8|\n",
      "|  9|\n",
      "+---+\n",
      "\n"
     ]
    }
   ],
   "source": [
    "from pyspark.sql import SparkSession\n",
    "\n",
    "spark = SparkSession \\\n",
    "    .builder \\\n",
    "    .master(\"spark://spark-master:7077\") \\\n",
    "    .config(\"spark.executor.memory\", \"512m\") \\\n",
    "    .appName(\"SparkPivotExample\") \\\n",
    "    .getOrCreate()\n",
    "\n",
    "# Check is SparkContext works\n",
    "spark.range(0, 10).show()\n",
    "\n"
   ]
  },
  {
   "cell_type": "code",
   "execution_count": 3,
   "metadata": {},
   "outputs": [
    {
     "name": "stdout",
     "output_type": "stream",
     "text": [
      "/data/churn-bigml-20.csv\r\n"
     ]
    }
   ],
   "source": [
    "ls /data/churn-bigml-20.csv\n"
   ]
  },
  {
   "cell_type": "code",
   "execution_count": 4,
   "metadata": {},
   "outputs": [],
   "source": [
    "df = spark.read.load('/data/churn-bigml-20.csv', \n",
    "                          format='com.databricks.spark.csv', \n",
    "                          header='true', \n",
    "                          inferSchema='true')"
   ]
  },
  {
   "cell_type": "code",
   "execution_count": 5,
   "metadata": {},
   "outputs": [
    {
     "name": "stdout",
     "output_type": "stream",
     "text": [
      "+-----+--------------+---------+------------------+---------------+---------------------+-----------------+---------------+----------------+-----------------+---------------+----------------+-------------------+-----------------+------------------+------------------+----------------+-----------------+----------------------+-----+\n",
      "|State|Account length|Area code|International plan|Voice mail plan|Number vmail messages|Total day minutes|Total day calls|Total day charge|Total eve minutes|Total eve calls|Total eve charge|Total night minutes|Total night calls|Total night charge|Total intl minutes|Total intl calls|Total intl charge|Customer service calls|Churn|\n",
      "+-----+--------------+---------+------------------+---------------+---------------------+-----------------+---------------+----------------+-----------------+---------------+----------------+-------------------+-----------------+------------------+------------------+----------------+-----------------+----------------------+-----+\n",
      "|   LA|           117|      408|                No|             No|                    0|            184.5|             97|           31.37|            351.6|             80|           29.89|              215.8|               90|              9.71|               8.7|               4|             2.35|                     1|false|\n",
      "|   IN|            65|      415|                No|             No|                    0|            129.1|            137|           21.95|            228.5|             83|           19.42|              208.8|              111|               9.4|              12.7|               6|             3.43|                     4| true|\n",
      "|   NY|           161|      415|                No|             No|                    0|            332.9|             67|           56.59|            317.8|             97|           27.01|              160.6|              128|              7.23|               5.4|               9|             1.46|                     4| true|\n",
      "|   SC|           111|      415|                No|             No|                    0|            110.4|            103|           18.77|            137.3|            102|           11.67|              189.6|              105|              8.53|               7.7|               6|             2.08|                     2|false|\n",
      "|   HI|            49|      510|                No|             No|                    0|            119.3|            117|           20.28|            215.1|            109|           18.28|              178.7|               90|              8.04|              11.1|               1|              3.0|                     1|false|\n",
      "|   AK|            36|      408|                No|            Yes|                   30|            146.3|            128|           24.87|            162.5|             80|           13.81|              129.3|              109|              5.82|              14.5|               6|             3.92|                     0|false|\n",
      "|   MI|            65|      415|                No|             No|                    0|            211.3|            120|           35.92|            162.6|            122|           13.82|              134.7|              118|              6.06|              13.2|               5|             3.56|                     3|false|\n",
      "|   ID|           119|      415|                No|             No|                    0|            159.1|            114|           27.05|            231.3|            117|           19.66|              143.2|               91|              6.44|               8.8|               3|             2.38|                     5| true|\n",
      "|   VA|            10|      408|                No|             No|                    0|            186.1|            112|           31.64|            190.2|             66|           16.17|              282.8|               57|             12.73|              11.4|               6|             3.08|                     2|false|\n",
      "|   WI|            68|      415|                No|             No|                    0|            148.8|             70|            25.3|            246.5|            164|           20.95|              129.8|              103|              5.84|              12.1|               3|             3.27|                     3|false|\n",
      "|   MN|            74|      510|                No|            Yes|                   33|            193.7|             91|           32.93|            246.1|             96|           20.92|              138.0|               92|              6.21|              14.6|               3|             3.94|                     2|false|\n",
      "|   HI|            85|      415|                No|             No|                    0|            235.8|            109|           40.09|            157.2|             94|           13.36|              188.2|               99|              8.47|              12.0|               3|             3.24|                     0|false|\n",
      "|   MN|            46|      415|                No|             No|                    0|            214.1|             72|            36.4|            164.4|            104|           13.97|              177.5|              113|              7.99|               8.2|               3|             2.21|                     2|false|\n",
      "|   VT|           128|      510|                No|            Yes|                   29|            179.3|            104|           30.48|            225.9|             86|            19.2|              323.0|               78|             14.54|               8.6|               7|             2.32|                     0|false|\n",
      "|   LA|           155|      415|                No|             No|                    0|            203.4|            100|           34.58|            190.9|            104|           16.23|              196.0|              119|              8.82|               8.9|               4|              2.4|                     0| true|\n",
      "|   MT|            73|      415|                No|             No|                    0|            160.1|            110|           27.22|            213.3|             72|           18.13|              174.1|               72|              7.83|              13.0|               4|             3.51|                     0|false|\n",
      "|   ID|            77|      415|                No|             No|                    0|            251.8|             72|           42.81|            205.7|            126|           17.48|              275.2|              109|             12.38|               9.8|               7|             2.65|                     2| true|\n",
      "|   MA|           108|      415|                No|             No|                    0|            178.3|            137|           30.31|            189.0|             76|           16.07|              129.1|              102|              5.81|              14.6|               5|             3.94|                     0|false|\n",
      "|   KY|            95|      408|                No|             No|                    0|            135.0|             99|           22.95|            183.6|            106|           15.61|              245.3|              102|             11.04|              12.5|               9|             3.38|                     1|false|\n",
      "|   MI|            36|      510|                No|            Yes|                   29|            281.4|            102|           47.84|            202.2|             76|           17.19|              187.2|              113|              8.42|               9.0|               6|             2.43|                     2|false|\n",
      "+-----+--------------+---------+------------------+---------------+---------------------+-----------------+---------------+----------------+-----------------+---------------+----------------+-------------------+-----------------+------------------+------------------+----------------+-----------------+----------------------+-----+\n",
      "only showing top 20 rows\n",
      "\n"
     ]
    }
   ],
   "source": [
    "df.show()"
   ]
  },
  {
   "cell_type": "code",
   "execution_count": 10,
   "metadata": {},
   "outputs": [],
   "source": [
    "# from pyspark import SparkFiles\n",
    "\n",
    "# url=\"https://raw.githubusercontent.com/bensadeghi/pyspark-churn-prediction/master/data/churn-bigml-20.csv\"\n",
    "# spark.sparkContext.addFile(url)\n",
    "# df = spark.read.csv(\"file://\"+SparkFiles.get(\"churn-bigml-20.csv\"), header=True, inferSchema= True)\n",
    "\n"
   ]
  },
  {
   "cell_type": "code",
   "execution_count": 6,
   "metadata": {},
   "outputs": [
    {
     "name": "stdout",
     "output_type": "stream",
     "text": [
      "+-----+-----+\n",
      "|State|Churn|\n",
      "+-----+-----+\n",
      "|   LA|false|\n",
      "|   IN| true|\n",
      "|   NY| true|\n",
      "|   SC|false|\n",
      "|   HI|false|\n",
      "|   AK|false|\n",
      "|   MI|false|\n",
      "|   ID| true|\n",
      "|   VA|false|\n",
      "|   WI|false|\n",
      "|   MN|false|\n",
      "|   HI|false|\n",
      "|   MN|false|\n",
      "|   VT|false|\n",
      "|   LA| true|\n",
      "|   MT|false|\n",
      "|   ID| true|\n",
      "|   MA|false|\n",
      "|   KY|false|\n",
      "|   MI|false|\n",
      "+-----+-----+\n",
      "only showing top 20 rows\n",
      "\n"
     ]
    }
   ],
   "source": [
    "df.select(\"State\",\"Churn\").show()"
   ]
  },
  {
   "cell_type": "code",
   "execution_count": 7,
   "metadata": {},
   "outputs": [
    {
     "data": {
      "text/plain": [
       "667"
      ]
     },
     "execution_count": 7,
     "metadata": {},
     "output_type": "execute_result"
    }
   ],
   "source": [
    "# count number of lines \n",
    "\n",
    "df.count()"
   ]
  },
  {
   "cell_type": "code",
   "execution_count": 8,
   "metadata": {},
   "outputs": [
    {
     "data": {
      "text/plain": [
       "['State',\n",
       " 'Account length',\n",
       " 'Area code',\n",
       " 'International plan',\n",
       " 'Voice mail plan',\n",
       " 'Number vmail messages',\n",
       " 'Total day minutes',\n",
       " 'Total day calls',\n",
       " 'Total day charge',\n",
       " 'Total eve minutes',\n",
       " 'Total eve calls',\n",
       " 'Total eve charge',\n",
       " 'Total night minutes',\n",
       " 'Total night calls',\n",
       " 'Total night charge',\n",
       " 'Total intl minutes',\n",
       " 'Total intl calls',\n",
       " 'Total intl charge',\n",
       " 'Customer service calls',\n",
       " 'Churn']"
      ]
     },
     "execution_count": 8,
     "metadata": {},
     "output_type": "execute_result"
    }
   ],
   "source": [
    "df.columns"
   ]
  },
  {
   "cell_type": "code",
   "execution_count": 9,
   "metadata": {},
   "outputs": [
    {
     "data": {
      "text/plain": [
       "Row(State='LA', Account length=117, Area code=408, International plan='No', Voice mail plan='No', Number vmail messages=0, Total day minutes=184.5, Total day calls=97, Total day charge=31.37, Total eve minutes=351.6, Total eve calls=80, Total eve charge=29.89, Total night minutes=215.8, Total night calls=90, Total night charge=9.71, Total intl minutes=8.7, Total intl calls=4, Total intl charge=2.35, Customer service calls=1, Churn=False)"
      ]
     },
     "execution_count": 9,
     "metadata": {},
     "output_type": "execute_result"
    }
   ],
   "source": [
    "# output first line\n",
    "\n",
    "df.first()"
   ]
  },
  {
   "cell_type": "code",
   "execution_count": null,
   "metadata": {},
   "outputs": [],
   "source": []
  }
 ],
 "metadata": {
  "kernelspec": {
   "display_name": "Python 3",
   "language": "python",
   "name": "python3"
  },
  "language_info": {
   "codemirror_mode": {
    "name": "ipython",
    "version": 3
   },
   "file_extension": ".py",
   "mimetype": "text/x-python",
   "name": "python",
   "nbconvert_exporter": "python",
   "pygments_lexer": "ipython3",
   "version": "3.8.6"
  }
 },
 "nbformat": 4,
 "nbformat_minor": 4
}