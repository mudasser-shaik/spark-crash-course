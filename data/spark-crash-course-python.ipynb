{
 "cells": [
  {
   "cell_type": "markdown",
   "source": [
    "-sandbox\n",
    "## Spark Crash Course\n",
    "\n",
    "\n",
    "** What you will learn today:**\n",
    "* How to Load/Extract the Data into Spark?\n",
    "* How to Understand the Data using different Plots?\n",
    "* Spark Structured and Unstructured APIs.\n",
    "* Spark DataFrames : Transformations and Actions.\n",
    "* Spark SQL intro.\n",
    "\n",
    "Ref : https://spark.apache.org/docs/2.3.0/sql-programming-guide.html \n",
    "\n",
    "[DataFrame FAQs](https://docs.databricks.com/spark/latest/dataframes-datasets/introduction-to-dataframes-python.html#dataframe-faqs)"
   ],
   "metadata": {
    "application/vnd.databricks.v1+cell": {
     "title": "",
     "showTitle": false,
     "inputWidgets": {},
     "nuid": "9a98731f-e544-4f15-b8ab-49152333f1e8"
    }
   }
  },
  {
   "cell_type": "markdown",
   "source": [
    "## The Data\n\nThe dataset contains bike rental info from 2011 and 2012 in the Capital bikeshare system, plus additional relevant information such as weather.  \n\nThis dataset is from Fanaee-T and Gama (2013) and is hosted by the <a href=\"http://archive.ics.uci.edu/ml/datasets/Bike+Sharing+Dataset\" target=\"_blank\">UCI Machine Learning Repository</a>."
   ],
   "metadata": {
    "application/vnd.databricks.v1+cell": {
     "title": "",
     "showTitle": false,
     "inputWidgets": {},
     "nuid": "1707b151-5122-44a7-b519-ad50a30cb67c"
    }
   }
  },
  {
   "cell_type": "code",
   "source": [
    "display(dbutils.fs.ls(\"dbfs:/FileStore/tables/\"))"
   ],
   "metadata": {
    "application/vnd.databricks.v1+cell": {
     "title": "",
     "showTitle": false,
     "inputWidgets": {},
     "nuid": "423a1014-787e-41f7-953f-5a5676f44b72"
    }
   },
   "outputs": [
    {
     "output_type": "display_data",
     "metadata": {
      "application/vnd.databricks.v1+output": {
       "overflow": false,
       "datasetInfos": [],
       "data": [
        [
         "dbfs:/FileStore/tables/allstate/",
         "allstate/",
         0
        ],
        [
         "dbfs:/FileStore/tables/clustering/",
         "clustering/",
         0
        ],
        [
         "dbfs:/FileStore/tables/day.csv",
         "day.csv",
         57569
        ],
        [
         "dbfs:/FileStore/tables/hour.csv",
         "hour.csv",
         1156736
        ],
        [
         "dbfs:/FileStore/tables/orangeTelecom/",
         "orangeTelecom/",
         0
        ],
        [
         "dbfs:/FileStore/tables/sample_linear_regression_data.txt",
         "sample_linear_regression_data.txt",
         119069
        ],
        [
         "dbfs:/FileStore/tables/stopwords.txt",
         "stopwords.txt",
         2557
        ],
        [
         "dbfs:/FileStore/tables/testing_bot_data.csv",
         "testing_bot_data.csv",
         980391
        ],
        [
         "dbfs:/FileStore/tables/training_bot_data.csv",
         "training_bot_data.csv",
         5745947
        ],
        [
         "dbfs:/FileStore/tables/tweet_data.csv",
         "tweet_data.csv",
         227655107
        ]
       ],
       "plotOptions": {
        "displayType": "table",
        "customPlotOptions": {},
        "pivotColumns": null,
        "pivotAggregation": null,
        "xColumns": null,
        "yColumns": null
       },
       "columnCustomDisplayInfos": {},
       "aggType": "",
       "isJsonSchema": true,
       "removedWidgets": [],
       "aggSchema": [],
       "schema": [
        {
         "name": "path",
         "type": "\"string\"",
         "metadata": "{}"
        },
        {
         "name": "name",
         "type": "\"string\"",
         "metadata": "{}"
        },
        {
         "name": "size",
         "type": "\"long\"",
         "metadata": "{}"
        }
       ],
       "aggError": "",
       "aggData": [],
       "addedWidgets": {},
       "dbfsResultPath": null,
       "type": "table",
       "aggOverflow": false,
       "aggSeriesLimitReached": false,
       "arguments": {}
      }
     },
     "data": {
      "text/html": [
       "<style scoped>\n  .table-result-container {\n    max-height: 300px;\n    overflow: auto;\n  }\n  table, th, td {\n    border: 1px solid black;\n    border-collapse: collapse;\n  }\n  th, td {\n    padding: 5px;\n  }\n  th {\n    text-align: left;\n  }\n</style><div class='table-result-container'><table class='table-result'><thead style='background-color: white'><tr><th>path</th><th>name</th><th>size</th></tr></thead><tbody><tr><td>dbfs:/FileStore/tables/allstate/</td><td>allstate/</td><td>0</td></tr><tr><td>dbfs:/FileStore/tables/clustering/</td><td>clustering/</td><td>0</td></tr><tr><td>dbfs:/FileStore/tables/day.csv</td><td>day.csv</td><td>57569</td></tr><tr><td>dbfs:/FileStore/tables/hour.csv</td><td>hour.csv</td><td>1156736</td></tr><tr><td>dbfs:/FileStore/tables/orangeTelecom/</td><td>orangeTelecom/</td><td>0</td></tr><tr><td>dbfs:/FileStore/tables/sample_linear_regression_data.txt</td><td>sample_linear_regression_data.txt</td><td>119069</td></tr><tr><td>dbfs:/FileStore/tables/stopwords.txt</td><td>stopwords.txt</td><td>2557</td></tr><tr><td>dbfs:/FileStore/tables/testing_bot_data.csv</td><td>testing_bot_data.csv</td><td>980391</td></tr><tr><td>dbfs:/FileStore/tables/training_bot_data.csv</td><td>training_bot_data.csv</td><td>5745947</td></tr><tr><td>dbfs:/FileStore/tables/tweet_data.csv</td><td>tweet_data.csv</td><td>227655107</td></tr></tbody></table></div>"
      ]
     }
    }
   ],
   "execution_count": 0
  },
  {
   "cell_type": "markdown",
   "source": [
    "### Spark APIs \n\n1. Create a Spark Context : Its required for executing Operations (Transform + Actions)\n2. Create Spark Session : Driver Process to control Spark APIs\nLink - https://spark.apache.org/docs/2.3.0/sql-programming-guide.html#starting-point-sparksession\n\n1. Low Level Unstructured APIs\n    * RDDS\n2. Higher Level Structured APIs\n    * DataFrame : Table of Data with Rows and Columns\n    * SQL \n    * DataSets : TypeSafe \n    \nNote - No performance difference between writing DataFrame Transformations or SQL queries, \nThey both “compile” to the same underlying plan that we specify in DataFrame code"
   ],
   "metadata": {
    "application/vnd.databricks.v1+cell": {
     "title": "",
     "showTitle": false,
     "inputWidgets": {},
     "nuid": "a7468a90-40b7-4cab-8f84-56f6604d19cd"
    }
   }
  },
  {
   "cell_type": "code",
   "source": [
    "from pyspark.sql import SparkSession\n\nspark\n\n# spark = SparkSession \\\n#     .builder \\\n#     .appName(\"Python Spark SQL basic example\") \\\n#     .config(\"spark.some.config.option\", \"some-value\") \\\n#     .master(\"Resourse_manager\") \\ # (local/yarn)\n#     .getOrCreate()"
   ],
   "metadata": {
    "application/vnd.databricks.v1+cell": {
     "title": "",
     "showTitle": false,
     "inputWidgets": {},
     "nuid": "4c4e5183-ba6d-4f79-baa7-fcc7f64edeca"
    }
   },
   "outputs": [
    {
     "output_type": "display_data",
     "metadata": {
      "application/vnd.databricks.v1+output": {
       "datasetInfos": [],
       "data": "\n            <div>\n                <p><b>SparkSession - hive</b></p>\n                \n        <div>\n            <p><b>SparkContext</b></p>\n\n            <p><a href=\"http://10.172.244.46:46092\">Spark UI</a></p>\n\n            <dl>\n              <dt>Version</dt>\n                <dd><code>v2.4.5</code></dd>\n              <dt>Master</dt>\n                <dd><code>local[8]</code></dd>\n              <dt>AppName</dt>\n                <dd><code>Databricks Shell</code></dd>\n            </dl>\n        </div>\n        \n            </div>\n        ",
       "textData": "<div class=\"ansiout\">Out[59]: </div>",
       "removedWidgets": [],
       "addedWidgets": {},
       "type": "htmlSandbox",
       "arguments": {}
      }
     },
     "data": {
      "text/html": [
       "\n            <div>\n                <p><b>SparkSession - hive</b></p>\n                \n        <div>\n            <p><b>SparkContext</b></p>\n\n            <p><a href=\"http://10.172.244.46:46092\">Spark UI</a></p>\n\n            <dl>\n              <dt>Version</dt>\n                <dd><code>v2.4.5</code></dd>\n              <dt>Master</dt>\n                <dd><code>local[8]</code></dd>\n              <dt>AppName</dt>\n                <dd><code>Databricks Shell</code></dd>\n            </dl>\n        </div>\n        \n            </div>\n        "
      ]
     }
    }
   ],
   "execution_count": 0
  },
  {
   "cell_type": "markdown",
   "source": [
    "### DataFrame"
   ],
   "metadata": {
    "application/vnd.databricks.v1+cell": {
     "title": "",
     "showTitle": false,
     "inputWidgets": {},
     "nuid": "e943da0c-fbfb-4073-8d33-c7e1c7caa7e4"
    }
   }
  },
  {
   "cell_type": "markdown",
   "source": [
    "Why DataFrame?\n\nIn Apache Spark , DataFrame is a distributed collection of Rows under Named Columns. (like Tables in SQL and Excel Sheet)\n1. Immutable : we can Create DataFrames/RDDs but cannot change it.\n     * DF1 --> Transformer --> DF2\n     * Lineage can be tracked easily \n2. Lazy Evalution : Task will not be executed until an action is performed.\n3. Distributed : distribued across the Cluster (partitions)\n4. Resilient : replication of Partitions \n\nNOTE : \n\n* For implicit conversions like converting RDDs to DataFrames \n```import spark.implicits._```\n\n* You can find the similar functionality/ transformations as in Pandas DataFrame.\n\nBUT major differences are: \n1. Running tasks parallel on different nodes\n2. Lazy evaluation \n3. DFs are immutable in Nature \n4. Pandas API support more (statistical) operations than PySpark DataFrame."
   ],
   "metadata": {
    "application/vnd.databricks.v1+cell": {
     "title": "",
     "showTitle": false,
     "inputWidgets": {},
     "nuid": "f4ef3d64-66b0-4679-b828-eeafc231a3c8"
    }
   }
  },
  {
   "cell_type": "markdown",
   "source": [
    "Spark ML uses DataFrame from Spark SQL as an ML dataset.\n\nDataframe of data types : \n```DataFrame [col_TEXT, \n           col_NUMERICAL, \n           col_ARRAY, \n           col_MAP, \n           col_FEATURE_VECTOR, \n           col_TRUE_LABELS, \n           col_PREDICTIONS\n          ]```"
   ],
   "metadata": {
    "application/vnd.databricks.v1+cell": {
     "title": "",
     "showTitle": false,
     "inputWidgets": {},
     "nuid": "7c4c80f5-6dee-4950-a68b-edd77eb26870"
    }
   }
  },
  {
   "cell_type": "markdown",
   "source": [
    "#### You can also Load Data from\n* Different DataFormats \n* * JSON, CSV, Parquet, ORC, Avro, LibSVM, Image\n* Different DataStores\n* * mySQL , Hbase, Hive, cassandra, MongoDB, Kafka, ElasticSearch\n\nhttps://spark.apache.org/docs/latest/sql-data-sources.html\n\nExample - \n* hdfs://FileStore/tables/\n* s3://FileStore/tables/hour.csv\n* dbfs://FileStore/tables/hour.csv"
   ],
   "metadata": {
    "application/vnd.databricks.v1+cell": {
     "title": "",
     "showTitle": false,
     "inputWidgets": {},
     "nuid": "d52a0dd5-1e2a-4352-b598-38230c89ac53"
    }
   }
  },
  {
   "cell_type": "markdown",
   "source": [
    "#### Create Dataframe from a file \n \n```\n// from json file\nspark.read.json(path_file.json)\n// from text file \nspark.read.textFile(\"path_file.txt\")\n// from CSV file \nspark.read.csv(\"path_file.csv\")    \n    ```"
   ],
   "metadata": {
    "application/vnd.databricks.v1+cell": {
     "title": "",
     "showTitle": false,
     "inputWidgets": {},
     "nuid": "4804d237-3c86-4437-a48b-458ad48214b9"
    }
   }
  },
  {
   "cell_type": "code",
   "source": [
    "fileName = \"dbfs:/FileStore/tables/hour.csv\"\n\ninitialDF = (spark.read          # Our DataFrameReader\n  .option(\"header\", \"true\")      # Let Spark know we have a header\n  .option(\"inferSchema\", \"true\") # Infering the schema (it is a small dataset)\n  .csv(fileName)                 # Location of our data\n  .cache()                       # Mark the DataFrame as cached.\n)\n\ninitialDF.count()                # Materialize the cache\n\ninitialDF.printSchema()"
   ],
   "metadata": {
    "application/vnd.databricks.v1+cell": {
     "title": "",
     "showTitle": false,
     "inputWidgets": {},
     "nuid": "c79be662-1e37-48f4-93a4-ad7dc99c5c6d"
    }
   },
   "outputs": [
    {
     "output_type": "display_data",
     "metadata": {
      "application/vnd.databricks.v1+output": {
       "datasetInfos": [
        {
         "name": "initialDF",
         "typeStr": "pyspark.sql.dataframe.DataFrame",
         "schema": {
          "fields": [
           {
            "metadata": {},
            "name": "instant",
            "nullable": true,
            "type": "integer"
           },
           {
            "metadata": {},
            "name": "dteday",
            "nullable": true,
            "type": "timestamp"
           },
           {
            "metadata": {},
            "name": "season",
            "nullable": true,
            "type": "integer"
           },
           {
            "metadata": {},
            "name": "yr",
            "nullable": true,
            "type": "integer"
           },
           {
            "metadata": {},
            "name": "mnth",
            "nullable": true,
            "type": "integer"
           },
           {
            "metadata": {},
            "name": "hr",
            "nullable": true,
            "type": "integer"
           },
           {
            "metadata": {},
            "name": "holiday",
            "nullable": true,
            "type": "integer"
           },
           {
            "metadata": {},
            "name": "weekday",
            "nullable": true,
            "type": "integer"
           },
           {
            "metadata": {},
            "name": "workingday",
            "nullable": true,
            "type": "integer"
           },
           {
            "metadata": {},
            "name": "weathersit",
            "nullable": true,
            "type": "integer"
           },
           {
            "metadata": {},
            "name": "temp",
            "nullable": true,
            "type": "double"
           },
           {
            "metadata": {},
            "name": "atemp",
            "nullable": true,
            "type": "double"
           },
           {
            "metadata": {},
            "name": "hum",
            "nullable": true,
            "type": "double"
           },
           {
            "metadata": {},
            "name": "windspeed",
            "nullable": true,
            "type": "double"
           },
           {
            "metadata": {},
            "name": "casual",
            "nullable": true,
            "type": "integer"
           },
           {
            "metadata": {},
            "name": "registered",
            "nullable": true,
            "type": "integer"
           },
           {
            "metadata": {},
            "name": "cnt",
            "nullable": true,
            "type": "integer"
           }
          ],
          "type": "struct"
         },
         "tableIdentifier": null
        }
       ],
       "data": "<div class=\"ansiout\">root\n |-- instant: integer (nullable = true)\n |-- dteday: timestamp (nullable = true)\n |-- season: integer (nullable = true)\n |-- yr: integer (nullable = true)\n |-- mnth: integer (nullable = true)\n |-- hr: integer (nullable = true)\n |-- holiday: integer (nullable = true)\n |-- weekday: integer (nullable = true)\n |-- workingday: integer (nullable = true)\n |-- weathersit: integer (nullable = true)\n |-- temp: double (nullable = true)\n |-- atemp: double (nullable = true)\n |-- hum: double (nullable = true)\n |-- windspeed: double (nullable = true)\n |-- casual: integer (nullable = true)\n |-- registered: integer (nullable = true)\n |-- cnt: integer (nullable = true)\n\n</div>",
       "removedWidgets": [],
       "addedWidgets": {},
       "type": "html",
       "arguments": {}
      }
     },
     "data": {
      "text/html": [
       "<style scoped>\n  .ansiout {\n    display: block;\n    unicode-bidi: embed;\n    white-space: pre-wrap;\n    word-wrap: break-word;\n    word-break: break-all;\n    font-family: \"Source Code Pro\", \"Menlo\", monospace;;\n    font-size: 13px;\n    color: #555;\n    margin-left: 4px;\n    line-height: 19px;\n  }\n</style>\n<div class=\"ansiout\">root\n-- instant: integer (nullable = true)\n-- dteday: timestamp (nullable = true)\n-- season: integer (nullable = true)\n-- yr: integer (nullable = true)\n-- mnth: integer (nullable = true)\n-- hr: integer (nullable = true)\n-- holiday: integer (nullable = true)\n-- weekday: integer (nullable = true)\n-- workingday: integer (nullable = true)\n-- weathersit: integer (nullable = true)\n-- temp: double (nullable = true)\n-- atemp: double (nullable = true)\n-- hum: double (nullable = true)\n-- windspeed: double (nullable = true)\n-- casual: integer (nullable = true)\n-- registered: integer (nullable = true)\n-- cnt: integer (nullable = true)\n\n</div>"
      ]
     }
    }
   ],
   "execution_count": 0
  },
  {
   "cell_type": "code",
   "source": [
    "initialDF.explain()"
   ],
   "metadata": {
    "application/vnd.databricks.v1+cell": {
     "title": "",
     "showTitle": false,
     "inputWidgets": {},
     "nuid": "f4975b13-5b20-4a71-a960-8b50ae81f208"
    }
   },
   "outputs": [
    {
     "output_type": "display_data",
     "metadata": {
      "application/vnd.databricks.v1+output": {
       "datasetInfos": [],
       "data": "<div class=\"ansiout\">== Physical Plan ==\nInMemoryTableScan [instant#168, dteday#169, season#170, yr#171, mnth#172, hr#173, holiday#174, weekday#175, workingday#176, weathersit#177, temp#178, atemp#179, hum#180, windspeed#181, casual#182, registered#183, cnt#184]\n   +- InMemoryRelation [instant#168, dteday#169, season#170, yr#171, mnth#172, hr#173, holiday#174, weekday#175, workingday#176, weathersit#177, temp#178, atemp#179, hum#180, windspeed#181, casual#182, registered#183, cnt#184], StorageLevel(disk, memory, deserialized, 1 replicas)\n         +- *(1) FileScan csv [instant#168,dteday#169,season#170,yr#171,mnth#172,hr#173,holiday#174,weekday#175,workingday#176,weathersit#177,temp#178,atemp#179,hum#180,windspeed#181,casual#182,registered#183,cnt#184] Batched: false, DataFilters: [], Format: CSV, Location: InMemoryFileIndex[dbfs:/FileStore/tables/hour.csv], PartitionFilters: [], PushedFilters: [], ReadSchema: struct&lt;instant:int,dteday:timestamp,season:int,yr:int,mnth:int,hr:int,holiday:int,weekday:int,wor...\n</div>",
       "removedWidgets": [],
       "addedWidgets": {},
       "type": "html",
       "arguments": {}
      }
     },
     "data": {
      "text/html": [
       "<style scoped>\n  .ansiout {\n    display: block;\n    unicode-bidi: embed;\n    white-space: pre-wrap;\n    word-wrap: break-word;\n    word-break: break-all;\n    font-family: \"Source Code Pro\", \"Menlo\", monospace;;\n    font-size: 13px;\n    color: #555;\n    margin-left: 4px;\n    line-height: 19px;\n  }\n</style>\n<div class=\"ansiout\">== Physical Plan ==\nInMemoryTableScan [instant#168, dteday#169, season#170, yr#171, mnth#172, hr#173, holiday#174, weekday#175, workingday#176, weathersit#177, temp#178, atemp#179, hum#180, windspeed#181, casual#182, registered#183, cnt#184]\n   +- InMemoryRelation [instant#168, dteday#169, season#170, yr#171, mnth#172, hr#173, holiday#174, weekday#175, workingday#176, weathersit#177, temp#178, atemp#179, hum#180, windspeed#181, casual#182, registered#183, cnt#184], StorageLevel(disk, memory, deserialized, 1 replicas)\n         +- *(1) FileScan csv [instant#168,dteday#169,season#170,yr#171,mnth#172,hr#173,holiday#174,weekday#175,workingday#176,weathersit#177,temp#178,atemp#179,hum#180,windspeed#181,casual#182,registered#183,cnt#184] Batched: false, DataFilters: [], Format: CSV, Location: InMemoryFileIndex[dbfs:/FileStore/tables/hour.csv], PartitionFilters: [], PushedFilters: [], ReadSchema: struct&lt;instant:int,dteday:timestamp,season:int,yr:int,mnth:int,hr:int,holiday:int,weekday:int,wor...\n</div>"
      ]
     }
    }
   ],
   "execution_count": 0
  },
  {
   "cell_type": "code",
   "source": [
    "from pyspark.sql.functions import udf\nfrom pyspark.sql.types import StringType\ndef weathersit_values(r):\n    if r == 1 : return \"Clear\"\n    elif r == 2 : return \"Mist\"\n    elif r == 3 : return \"Light Rain-Snow\"\n    else: return \"Heavy Rain\"\n\ndef season_values(r):\n    if r == 1 : return \"spring\"\n    elif r == 2 : return \"summer\"\n    elif r == 3 : return \"fall\"\n    else: return \"winter\"\n    \n    \nweathersitTransorm = udf(weathersit_values, StringType())\nseasonTransorm = udf(season_values, StringType())\n\nnewDF = initialDF.\\\nwithColumn(\"weathersit\",weathersitTransorm(initialDF.weathersit)).\\\nwithColumn(\"season\",seasonTransorm(initialDF.season))"
   ],
   "metadata": {
    "application/vnd.databricks.v1+cell": {
     "title": "",
     "showTitle": false,
     "inputWidgets": {},
     "nuid": "eeb67a28-629c-4500-9d65-bbb568807294"
    }
   },
   "outputs": [
    {
     "output_type": "display_data",
     "metadata": {
      "application/vnd.databricks.v1+output": {
       "datasetInfos": [
        {
         "name": "newDF",
         "typeStr": "pyspark.sql.dataframe.DataFrame",
         "schema": {
          "fields": [
           {
            "metadata": {},
            "name": "instant",
            "nullable": true,
            "type": "integer"
           },
           {
            "metadata": {},
            "name": "dteday",
            "nullable": true,
            "type": "timestamp"
           },
           {
            "metadata": {},
            "name": "season",
            "nullable": true,
            "type": "string"
           },
           {
            "metadata": {},
            "name": "yr",
            "nullable": true,
            "type": "integer"
           },
           {
            "metadata": {},
            "name": "mnth",
            "nullable": true,
            "type": "integer"
           },
           {
            "metadata": {},
            "name": "hr",
            "nullable": true,
            "type": "integer"
           },
           {
            "metadata": {},
            "name": "holiday",
            "nullable": true,
            "type": "integer"
           },
           {
            "metadata": {},
            "name": "weekday",
            "nullable": true,
            "type": "integer"
           },
           {
            "metadata": {},
            "name": "workingday",
            "nullable": true,
            "type": "integer"
           },
           {
            "metadata": {},
            "name": "weathersit",
            "nullable": true,
            "type": "string"
           },
           {
            "metadata": {},
            "name": "temp",
            "nullable": true,
            "type": "double"
           },
           {
            "metadata": {},
            "name": "atemp",
            "nullable": true,
            "type": "double"
           },
           {
            "metadata": {},
            "name": "hum",
            "nullable": true,
            "type": "double"
           },
           {
            "metadata": {},
            "name": "windspeed",
            "nullable": true,
            "type": "double"
           },
           {
            "metadata": {},
            "name": "casual",
            "nullable": true,
            "type": "integer"
           },
           {
            "metadata": {},
            "name": "registered",
            "nullable": true,
            "type": "integer"
           },
           {
            "metadata": {},
            "name": "cnt",
            "nullable": true,
            "type": "integer"
           }
          ],
          "type": "struct"
         },
         "tableIdentifier": null
        }
       ],
       "data": "<div class=\"ansiout\"></div>",
       "removedWidgets": [],
       "addedWidgets": {},
       "type": "html",
       "arguments": {}
      }
     },
     "data": {
      "text/html": [
       "<style scoped>\n  .ansiout {\n    display: block;\n    unicode-bidi: embed;\n    white-space: pre-wrap;\n    word-wrap: break-word;\n    word-break: break-all;\n    font-family: \"Source Code Pro\", \"Menlo\", monospace;;\n    font-size: 13px;\n    color: #555;\n    margin-left: 4px;\n    line-height: 19px;\n  }\n</style>\n<div class=\"ansiout\"></div>"
      ]
     }
    }
   ],
   "execution_count": 0
  },
  {
   "cell_type": "markdown",
   "source": [
    "### Display Data in different Styles"
   ],
   "metadata": {
    "application/vnd.databricks.v1+cell": {
     "title": "",
     "showTitle": false,
     "inputWidgets": {},
     "nuid": "92fc200f-d3e9-49b8-b420-fdbe34f37f07"
    }
   }
  },
  {
   "cell_type": "code",
   "source": [
    "initialDF.printSchema()"
   ],
   "metadata": {
    "application/vnd.databricks.v1+cell": {
     "title": "",
     "showTitle": false,
     "inputWidgets": {},
     "nuid": "ec091525-aaa5-4ed8-bdfd-16867349169a"
    }
   },
   "outputs": [
    {
     "output_type": "display_data",
     "metadata": {
      "application/vnd.databricks.v1+output": {
       "datasetInfos": [],
       "data": "<div class=\"ansiout\">root\n |-- instant: integer (nullable = true)\n |-- dteday: timestamp (nullable = true)\n |-- season: integer (nullable = true)\n |-- yr: integer (nullable = true)\n |-- mnth: integer (nullable = true)\n |-- hr: integer (nullable = true)\n |-- holiday: integer (nullable = true)\n |-- weekday: integer (nullable = true)\n |-- workingday: integer (nullable = true)\n |-- weathersit: integer (nullable = true)\n |-- temp: double (nullable = true)\n |-- atemp: double (nullable = true)\n |-- hum: double (nullable = true)\n |-- windspeed: double (nullable = true)\n |-- casual: integer (nullable = true)\n |-- registered: integer (nullable = true)\n |-- cnt: integer (nullable = true)\n\n</div>",
       "removedWidgets": [],
       "addedWidgets": {},
       "type": "html",
       "arguments": {}
      }
     },
     "data": {
      "text/html": [
       "<style scoped>\n  .ansiout {\n    display: block;\n    unicode-bidi: embed;\n    white-space: pre-wrap;\n    word-wrap: break-word;\n    word-break: break-all;\n    font-family: \"Source Code Pro\", \"Menlo\", monospace;;\n    font-size: 13px;\n    color: #555;\n    margin-left: 4px;\n    line-height: 19px;\n  }\n</style>\n<div class=\"ansiout\">root\n-- instant: integer (nullable = true)\n-- dteday: timestamp (nullable = true)\n-- season: integer (nullable = true)\n-- yr: integer (nullable = true)\n-- mnth: integer (nullable = true)\n-- hr: integer (nullable = true)\n-- holiday: integer (nullable = true)\n-- weekday: integer (nullable = true)\n-- workingday: integer (nullable = true)\n-- weathersit: integer (nullable = true)\n-- temp: double (nullable = true)\n-- atemp: double (nullable = true)\n-- hum: double (nullable = true)\n-- windspeed: double (nullable = true)\n-- casual: integer (nullable = true)\n-- registered: integer (nullable = true)\n-- cnt: integer (nullable = true)\n\n</div>"
      ]
     }
    }
   ],
   "execution_count": 0
  },
  {
   "cell_type": "code",
   "source": [
    "newDF.printSchema()"
   ],
   "metadata": {
    "application/vnd.databricks.v1+cell": {
     "title": "",
     "showTitle": false,
     "inputWidgets": {},
     "nuid": "903277bd-39c5-490c-adbc-0fbba5f4bdd9"
    }
   },
   "outputs": [
    {
     "output_type": "display_data",
     "metadata": {
      "application/vnd.databricks.v1+output": {
       "datasetInfos": [],
       "data": "<div class=\"ansiout\">root\n |-- instant: integer (nullable = true)\n |-- dteday: timestamp (nullable = true)\n |-- season: string (nullable = true)\n |-- yr: integer (nullable = true)\n |-- mnth: integer (nullable = true)\n |-- hr: integer (nullable = true)\n |-- holiday: integer (nullable = true)\n |-- weekday: integer (nullable = true)\n |-- workingday: integer (nullable = true)\n |-- weathersit: string (nullable = true)\n |-- temp: double (nullable = true)\n |-- atemp: double (nullable = true)\n |-- hum: double (nullable = true)\n |-- windspeed: double (nullable = true)\n |-- casual: integer (nullable = true)\n |-- registered: integer (nullable = true)\n |-- cnt: integer (nullable = true)\n\n</div>",
       "removedWidgets": [],
       "addedWidgets": {},
       "type": "html",
       "arguments": {}
      }
     },
     "data": {
      "text/html": [
       "<style scoped>\n  .ansiout {\n    display: block;\n    unicode-bidi: embed;\n    white-space: pre-wrap;\n    word-wrap: break-word;\n    word-break: break-all;\n    font-family: \"Source Code Pro\", \"Menlo\", monospace;;\n    font-size: 13px;\n    color: #555;\n    margin-left: 4px;\n    line-height: 19px;\n  }\n</style>\n<div class=\"ansiout\">root\n-- instant: integer (nullable = true)\n-- dteday: timestamp (nullable = true)\n-- season: string (nullable = true)\n-- yr: integer (nullable = true)\n-- mnth: integer (nullable = true)\n-- hr: integer (nullable = true)\n-- holiday: integer (nullable = true)\n-- weekday: integer (nullable = true)\n-- workingday: integer (nullable = true)\n-- weathersit: string (nullable = true)\n-- temp: double (nullable = true)\n-- atemp: double (nullable = true)\n-- hum: double (nullable = true)\n-- windspeed: double (nullable = true)\n-- casual: integer (nullable = true)\n-- registered: integer (nullable = true)\n-- cnt: integer (nullable = true)\n\n</div>"
      ]
     }
    }
   ],
   "execution_count": 0
  },
  {
   "cell_type": "code",
   "source": [
    "# Display first Row\ninitialDF.first()"
   ],
   "metadata": {
    "application/vnd.databricks.v1+cell": {
     "title": "",
     "showTitle": false,
     "inputWidgets": {},
     "nuid": "74783a16-4382-4099-85c5-62593df10e7c"
    }
   },
   "outputs": [
    {
     "output_type": "display_data",
     "metadata": {
      "application/vnd.databricks.v1+output": {
       "datasetInfos": [],
       "data": "<div class=\"ansiout\">Out[64]: Row(instant=1, dteday=datetime.datetime(2011, 1, 1, 0, 0), season=1, yr=0, mnth=1, hr=0, holiday=0, weekday=6, workingday=0, weathersit=1, temp=0.24, atemp=0.2879, hum=0.81, windspeed=0.0, casual=3, registered=13, cnt=16)</div>",
       "removedWidgets": [],
       "addedWidgets": {},
       "type": "html",
       "arguments": {}
      }
     },
     "data": {
      "text/html": [
       "<style scoped>\n  .ansiout {\n    display: block;\n    unicode-bidi: embed;\n    white-space: pre-wrap;\n    word-wrap: break-word;\n    word-break: break-all;\n    font-family: \"Source Code Pro\", \"Menlo\", monospace;;\n    font-size: 13px;\n    color: #555;\n    margin-left: 4px;\n    line-height: 19px;\n  }\n</style>\n<div class=\"ansiout\">Out[64]: Row(instant=1, dteday=datetime.datetime(2011, 1, 1, 0, 0), season=1, yr=0, mnth=1, hr=0, holiday=0, weekday=6, workingday=0, weathersit=1, temp=0.24, atemp=0.2879, hum=0.81, windspeed=0.0, casual=3, registered=13, cnt=16)</div>"
      ]
     }
    }
   ],
   "execution_count": 0
  },
  {
   "cell_type": "code",
   "source": [
    "# Display First 5 Rows\ninitialDF.head(5)"
   ],
   "metadata": {
    "application/vnd.databricks.v1+cell": {
     "title": "",
     "showTitle": false,
     "inputWidgets": {},
     "nuid": "26ecd870-6687-4db5-94c1-fff9850631b7"
    }
   },
   "outputs": [
    {
     "output_type": "display_data",
     "metadata": {
      "application/vnd.databricks.v1+output": {
       "datasetInfos": [],
       "data": "<div class=\"ansiout\">Out[9]: [Row(instant=1, dteday=datetime.datetime(2011, 1, 1, 0, 0), season=1, yr=0, mnth=1, hr=0, holiday=0, weekday=6, workingday=0, weathersit=1, temp=0.24, atemp=0.2879, hum=0.81, windspeed=0.0, casual=3, registered=13, cnt=16),\n Row(instant=2, dteday=datetime.datetime(2011, 1, 1, 0, 0), season=1, yr=0, mnth=1, hr=1, holiday=0, weekday=6, workingday=0, weathersit=1, temp=0.22, atemp=0.2727, hum=0.8, windspeed=0.0, casual=8, registered=32, cnt=40),\n Row(instant=3, dteday=datetime.datetime(2011, 1, 1, 0, 0), season=1, yr=0, mnth=1, hr=2, holiday=0, weekday=6, workingday=0, weathersit=1, temp=0.22, atemp=0.2727, hum=0.8, windspeed=0.0, casual=5, registered=27, cnt=32),\n Row(instant=4, dteday=datetime.datetime(2011, 1, 1, 0, 0), season=1, yr=0, mnth=1, hr=3, holiday=0, weekday=6, workingday=0, weathersit=1, temp=0.24, atemp=0.2879, hum=0.75, windspeed=0.0, casual=3, registered=10, cnt=13),\n Row(instant=5, dteday=datetime.datetime(2011, 1, 1, 0, 0), season=1, yr=0, mnth=1, hr=4, holiday=0, weekday=6, workingday=0, weathersit=1, temp=0.24, atemp=0.2879, hum=0.75, windspeed=0.0, casual=0, registered=1, cnt=1)]</div>",
       "removedWidgets": [],
       "addedWidgets": {},
       "type": "html",
       "arguments": {}
      }
     },
     "data": {
      "text/html": [
       "<style scoped>\n  .ansiout {\n    display: block;\n    unicode-bidi: embed;\n    white-space: pre-wrap;\n    word-wrap: break-word;\n    word-break: break-all;\n    font-family: \"Source Code Pro\", \"Menlo\", monospace;;\n    font-size: 13px;\n    color: #555;\n    margin-left: 4px;\n    line-height: 19px;\n  }\n</style>\n<div class=\"ansiout\">Out[9]: [Row(instant=1, dteday=datetime.datetime(2011, 1, 1, 0, 0), season=1, yr=0, mnth=1, hr=0, holiday=0, weekday=6, workingday=0, weathersit=1, temp=0.24, atemp=0.2879, hum=0.81, windspeed=0.0, casual=3, registered=13, cnt=16),\n Row(instant=2, dteday=datetime.datetime(2011, 1, 1, 0, 0), season=1, yr=0, mnth=1, hr=1, holiday=0, weekday=6, workingday=0, weathersit=1, temp=0.22, atemp=0.2727, hum=0.8, windspeed=0.0, casual=8, registered=32, cnt=40),\n Row(instant=3, dteday=datetime.datetime(2011, 1, 1, 0, 0), season=1, yr=0, mnth=1, hr=2, holiday=0, weekday=6, workingday=0, weathersit=1, temp=0.22, atemp=0.2727, hum=0.8, windspeed=0.0, casual=5, registered=27, cnt=32),\n Row(instant=4, dteday=datetime.datetime(2011, 1, 1, 0, 0), season=1, yr=0, mnth=1, hr=3, holiday=0, weekday=6, workingday=0, weathersit=1, temp=0.24, atemp=0.2879, hum=0.75, windspeed=0.0, casual=3, registered=10, cnt=13),\n Row(instant=5, dteday=datetime.datetime(2011, 1, 1, 0, 0), season=1, yr=0, mnth=1, hr=4, holiday=0, weekday=6, workingday=0, weathersit=1, temp=0.24, atemp=0.2879, hum=0.75, windspeed=0.0, casual=0, registered=1, cnt=1)]</div>"
      ]
     }
    }
   ],
   "execution_count": 0
  },
  {
   "cell_type": "code",
   "source": [
    "# Results in Table format\ninitialDF.show(2,truncate= True)"
   ],
   "metadata": {
    "application/vnd.databricks.v1+cell": {
     "title": "",
     "showTitle": false,
     "inputWidgets": {},
     "nuid": "998b2854-a3af-4fea-b6b1-bf370aec5fd2"
    }
   },
   "outputs": [
    {
     "output_type": "display_data",
     "metadata": {
      "application/vnd.databricks.v1+output": {
       "datasetInfos": [],
       "data": "<div class=\"ansiout\">+-------+-------------------+------+---+----+---+-------+-------+----------+----------+----+------+----+---------+------+----------+---+\n|instant|             dteday|season| yr|mnth| hr|holiday|weekday|workingday|weathersit|temp| atemp| hum|windspeed|casual|registered|cnt|\n+-------+-------------------+------+---+----+---+-------+-------+----------+----------+----+------+----+---------+------+----------+---+\n|      1|2011-01-01 00:00:00|     1|  0|   1|  0|      0|      6|         0|         1|0.24|0.2879|0.81|      0.0|     3|        13| 16|\n|      2|2011-01-01 00:00:00|     1|  0|   1|  1|      0|      6|         0|         1|0.22|0.2727| 0.8|      0.0|     8|        32| 40|\n+-------+-------------------+------+---+----+---+-------+-------+----------+----------+----+------+----+---------+------+----------+---+\nonly showing top 2 rows\n\n</div>",
       "removedWidgets": [],
       "addedWidgets": {},
       "type": "html",
       "arguments": {}
      }
     },
     "data": {
      "text/html": [
       "<style scoped>\n  .ansiout {\n    display: block;\n    unicode-bidi: embed;\n    white-space: pre-wrap;\n    word-wrap: break-word;\n    word-break: break-all;\n    font-family: \"Source Code Pro\", \"Menlo\", monospace;;\n    font-size: 13px;\n    color: #555;\n    margin-left: 4px;\n    line-height: 19px;\n  }\n</style>\n<div class=\"ansiout\">+-------+-------------------+------+---+----+---+-------+-------+----------+----------+----+------+----+---------+------+----------+---+\ninstant|             dteday|season| yr|mnth| hr|holiday|weekday|workingday|weathersit|temp| atemp| hum|windspeed|casual|registered|cnt|\n+-------+-------------------+------+---+----+---+-------+-------+----------+----------+----+------+----+---------+------+----------+---+\n      1|2011-01-01 00:00:00|     1|  0|   1|  0|      0|      6|         0|         1|0.24|0.2879|0.81|      0.0|     3|        13| 16|\n      2|2011-01-01 00:00:00|     1|  0|   1|  1|      0|      6|         0|         1|0.22|0.2727| 0.8|      0.0|     8|        32| 40|\n+-------+-------------------+------+---+----+---+-------+-------+----------+----------+----+------+----+---------+------+----------+---+\nonly showing top 2 rows\n\n</div>"
      ]
     }
    }
   ],
   "execution_count": 0
  },
  {
   "cell_type": "markdown",
   "source": [
    "#### Range"
   ],
   "metadata": {
    "application/vnd.databricks.v1+cell": {
     "title": "",
     "showTitle": false,
     "inputWidgets": {},
     "nuid": "50f8df83-018b-4df3-9315-6030c77caddb"
    }
   }
  },
  {
   "cell_type": "code",
   "source": [
    "myRangeDF = spark.range(1000)\nmyRangeDF.show()\nmyRangeDF.show(4,truncate= True)"
   ],
   "metadata": {
    "application/vnd.databricks.v1+cell": {
     "title": "",
     "showTitle": false,
     "inputWidgets": {},
     "nuid": "30820d95-2ad3-4725-b2dd-75c84d3919a9"
    }
   },
   "outputs": [
    {
     "output_type": "display_data",
     "metadata": {
      "application/vnd.databricks.v1+output": {
       "datasetInfos": [
        {
         "name": "myRangeDF",
         "typeStr": "pyspark.sql.dataframe.DataFrame",
         "schema": {
          "fields": [
           {
            "metadata": {},
            "name": "id",
            "nullable": false,
            "type": "long"
           }
          ],
          "type": "struct"
         },
         "tableIdentifier": null
        }
       ],
       "data": "<div class=\"ansiout\">+---+\n| id|\n+---+\n|  0|\n|  1|\n|  2|\n|  3|\n|  4|\n|  5|\n|  6|\n|  7|\n|  8|\n|  9|\n| 10|\n| 11|\n| 12|\n| 13|\n| 14|\n| 15|\n| 16|\n| 17|\n| 18|\n| 19|\n+---+\nonly showing top 20 rows\n\n+---+\n| id|\n+---+\n|  0|\n|  1|\n|  2|\n|  3|\n+---+\nonly showing top 4 rows\n\n</div>",
       "removedWidgets": [],
       "addedWidgets": {},
       "type": "html",
       "arguments": {}
      }
     },
     "data": {
      "text/html": [
       "<style scoped>\n  .ansiout {\n    display: block;\n    unicode-bidi: embed;\n    white-space: pre-wrap;\n    word-wrap: break-word;\n    word-break: break-all;\n    font-family: \"Source Code Pro\", \"Menlo\", monospace;;\n    font-size: 13px;\n    color: #555;\n    margin-left: 4px;\n    line-height: 19px;\n  }\n</style>\n<div class=\"ansiout\">+---+\n id|\n+---+\n  0|\n  1|\n  2|\n  3|\n  4|\n  5|\n  6|\n  7|\n  8|\n  9|\n 10|\n 11|\n 12|\n 13|\n 14|\n 15|\n 16|\n 17|\n 18|\n 19|\n+---+\nonly showing top 20 rows\n\n+---+\n id|\n+---+\n  0|\n  1|\n  2|\n  3|\n+---+\nonly showing top 4 rows\n\n</div>"
      ]
     }
    }
   ],
   "execution_count": 0
  },
  {
   "cell_type": "markdown",
   "source": [
    "### Different Ways to Access Columns"
   ],
   "metadata": {
    "application/vnd.databricks.v1+cell": {
     "title": "",
     "showTitle": false,
     "inputWidgets": {},
     "nuid": "6293056d-bb08-4a9f-a155-7857e61d8a4a"
    }
   }
  },
  {
   "cell_type": "code",
   "source": [
    "from pyspark.sql.functions import *\nfrom pyspark.sql.types import StringType\n\n#import org.apache.spark.sql.functions.{expr, col, column}\n\nnewDF.select(\n  expr(\"season\"),\n  col(\"season\"),\n  column(\"season\"))\\\n  .show(3)\n"
   ],
   "metadata": {
    "application/vnd.databricks.v1+cell": {
     "title": "",
     "showTitle": false,
     "inputWidgets": {},
     "nuid": "ee49bf93-7f04-4528-ae42-de2731892b3f"
    }
   },
   "outputs": [
    {
     "output_type": "display_data",
     "metadata": {
      "application/vnd.databricks.v1+output": {
       "datasetInfos": [],
       "data": "<div class=\"ansiout\">+------+------+------+\n|season|season|season|\n+------+------+------+\n|spring|spring|spring|\n|spring|spring|spring|\n|spring|spring|spring|\n+------+------+------+\nonly showing top 3 rows\n\n</div>",
       "removedWidgets": [],
       "addedWidgets": {},
       "type": "html",
       "arguments": {}
      }
     },
     "data": {
      "text/html": [
       "<style scoped>\n  .ansiout {\n    display: block;\n    unicode-bidi: embed;\n    white-space: pre-wrap;\n    word-wrap: break-word;\n    word-break: break-all;\n    font-family: \"Source Code Pro\", \"Menlo\", monospace;;\n    font-size: 13px;\n    color: #555;\n    margin-left: 4px;\n    line-height: 19px;\n  }\n</style>\n<div class=\"ansiout\">+------+------+------+\nseason|season|season|\n+------+------+------+\nspring|spring|spring|\nspring|spring|spring|\nspring|spring|spring|\n+------+------+------+\nonly showing top 3 rows\n\n</div>"
      ]
     }
    }
   ],
   "execution_count": 0
  },
  {
   "cell_type": "markdown",
   "source": [
    "### How many Rows and Columns"
   ],
   "metadata": {
    "application/vnd.databricks.v1+cell": {
     "title": "",
     "showTitle": false,
     "inputWidgets": {},
     "nuid": "45ed2c6a-0958-4f01-97a2-3084d989f398"
    }
   }
  },
  {
   "cell_type": "code",
   "source": [
    "# How many rows ?\nnewDF.count()"
   ],
   "metadata": {
    "application/vnd.databricks.v1+cell": {
     "title": "",
     "showTitle": false,
     "inputWidgets": {},
     "nuid": "0fa976b6-65c1-4b9b-9732-93b0e3d226ba"
    }
   },
   "outputs": [
    {
     "output_type": "display_data",
     "metadata": {
      "application/vnd.databricks.v1+output": {
       "datasetInfos": [],
       "data": "<div class=\"ansiout\">Out[13]: 17379</div>",
       "removedWidgets": [],
       "addedWidgets": {},
       "type": "html",
       "arguments": {}
      }
     },
     "data": {
      "text/html": [
       "<style scoped>\n  .ansiout {\n    display: block;\n    unicode-bidi: embed;\n    white-space: pre-wrap;\n    word-wrap: break-word;\n    word-break: break-all;\n    font-family: \"Source Code Pro\", \"Menlo\", monospace;;\n    font-size: 13px;\n    color: #555;\n    margin-left: 4px;\n    line-height: 19px;\n  }\n</style>\n<div class=\"ansiout\">Out[13]: 17379</div>"
      ]
     }
    }
   ],
   "execution_count": 0
  },
  {
   "cell_type": "code",
   "source": [
    "#  How many columns ?\nlen(newDF.columns)"
   ],
   "metadata": {
    "application/vnd.databricks.v1+cell": {
     "title": "",
     "showTitle": false,
     "inputWidgets": {},
     "nuid": "be92c24a-96de-4b66-b01a-14319e1741a3"
    }
   },
   "outputs": [
    {
     "output_type": "display_data",
     "metadata": {
      "application/vnd.databricks.v1+output": {
       "datasetInfos": [],
       "data": "<div class=\"ansiout\">Out[14]: 17</div>",
       "removedWidgets": [],
       "addedWidgets": {},
       "type": "html",
       "arguments": {}
      }
     },
     "data": {
      "text/html": [
       "<style scoped>\n  .ansiout {\n    display: block;\n    unicode-bidi: embed;\n    white-space: pre-wrap;\n    word-wrap: break-word;\n    word-break: break-all;\n    font-family: \"Source Code Pro\", \"Menlo\", monospace;;\n    font-size: 13px;\n    color: #555;\n    margin-left: 4px;\n    line-height: 19px;\n  }\n</style>\n<div class=\"ansiout\">Out[14]: 17</div>"
      ]
     }
    }
   ],
   "execution_count": 0
  },
  {
   "cell_type": "markdown",
   "source": [
    "### Select Columns"
   ],
   "metadata": {
    "application/vnd.databricks.v1+cell": {
     "title": "",
     "showTitle": false,
     "inputWidgets": {},
     "nuid": "9d0c36ee-4fb9-4bde-917c-405d170d465b"
    }
   }
  },
  {
   "cell_type": "code",
   "source": [
    "# How to Select column(s)  \n# first 5 rows \nnewDF.select(\"atemp\",\"temp\",\"windspeed\").show(5)"
   ],
   "metadata": {
    "application/vnd.databricks.v1+cell": {
     "title": "",
     "showTitle": false,
     "inputWidgets": {},
     "nuid": "3418ca4c-e58a-45f5-9e69-a38197dea27d"
    }
   },
   "outputs": [
    {
     "output_type": "display_data",
     "metadata": {
      "application/vnd.databricks.v1+output": {
       "datasetInfos": [],
       "data": "<div class=\"ansiout\">+------+----+---------+\n| atemp|temp|windspeed|\n+------+----+---------+\n|0.2879|0.24|      0.0|\n|0.2727|0.22|      0.0|\n|0.2727|0.22|      0.0|\n|0.2879|0.24|      0.0|\n|0.2879|0.24|      0.0|\n+------+----+---------+\nonly showing top 5 rows\n\n</div>",
       "removedWidgets": [],
       "addedWidgets": {},
       "type": "html",
       "arguments": {}
      }
     },
     "data": {
      "text/html": [
       "<style scoped>\n  .ansiout {\n    display: block;\n    unicode-bidi: embed;\n    white-space: pre-wrap;\n    word-wrap: break-word;\n    word-break: break-all;\n    font-family: \"Source Code Pro\", \"Menlo\", monospace;;\n    font-size: 13px;\n    color: #555;\n    margin-left: 4px;\n    line-height: 19px;\n  }\n</style>\n<div class=\"ansiout\">+------+----+---------+\n atemp|temp|windspeed|\n+------+----+---------+\n0.2879|0.24|      0.0|\n0.2727|0.22|      0.0|\n0.2727|0.22|      0.0|\n0.2879|0.24|      0.0|\n0.2879|0.24|      0.0|\n+------+----+---------+\nonly showing top 5 rows\n\n</div>"
      ]
     }
    }
   ],
   "execution_count": 0
  },
  {
   "cell_type": "markdown",
   "source": [
    "### Distinct numbers"
   ],
   "metadata": {
    "application/vnd.databricks.v1+cell": {
     "title": "",
     "showTitle": false,
     "inputWidgets": {},
     "nuid": "28904c62-c68a-4e4f-b76d-85385a00cf8b"
    }
   }
  },
  {
   "cell_type": "code",
   "source": [
    "# Distinct numbers\nnewDF.select(\"season\").distinct().show()\n\n# Count of Distinct Numbers\nnewDF.select(\"windspeed\").distinct().count()"
   ],
   "metadata": {
    "application/vnd.databricks.v1+cell": {
     "title": "",
     "showTitle": false,
     "inputWidgets": {},
     "nuid": "d8d8592d-c38d-489b-bf8d-239f491b7dd3"
    }
   },
   "outputs": [
    {
     "output_type": "display_data",
     "metadata": {
      "application/vnd.databricks.v1+output": {
       "datasetInfos": [],
       "data": "<div class=\"ansiout\">+------+\n|season|\n+------+\n|winter|\n|summer|\n|spring|\n|  fall|\n+------+\n\nOut[16]: 30</div>",
       "removedWidgets": [],
       "addedWidgets": {},
       "type": "html",
       "arguments": {}
      }
     },
     "data": {
      "text/html": [
       "<style scoped>\n  .ansiout {\n    display: block;\n    unicode-bidi: embed;\n    white-space: pre-wrap;\n    word-wrap: break-word;\n    word-break: break-all;\n    font-family: \"Source Code Pro\", \"Menlo\", monospace;;\n    font-size: 13px;\n    color: #555;\n    margin-left: 4px;\n    line-height: 19px;\n  }\n</style>\n<div class=\"ansiout\">+------+\nseason|\n+------+\nwinter|\nsummer|\nspring|\n  fall|\n+------+\n\nOut[16]: 30</div>"
      ]
     }
    }
   ],
   "execution_count": 0
  },
  {
   "cell_type": "code",
   "source": [
    "# check df empty\nnewDF.rdd.isEmpty()"
   ],
   "metadata": {
    "application/vnd.databricks.v1+cell": {
     "title": "",
     "showTitle": false,
     "inputWidgets": {},
     "nuid": "09b6acc5-0ebc-453e-8f3d-dedb190b49db"
    }
   },
   "outputs": [
    {
     "output_type": "display_data",
     "metadata": {
      "application/vnd.databricks.v1+output": {
       "datasetInfos": [],
       "data": "<div class=\"ansiout\">Out[17]: False</div>",
       "removedWidgets": [],
       "addedWidgets": {},
       "type": "html",
       "arguments": {}
      }
     },
     "data": {
      "text/html": [
       "<style scoped>\n  .ansiout {\n    display: block;\n    unicode-bidi: embed;\n    white-space: pre-wrap;\n    word-wrap: break-word;\n    word-break: break-all;\n    font-family: \"Source Code Pro\", \"Menlo\", monospace;;\n    font-size: 13px;\n    color: #555;\n    margin-left: 4px;\n    line-height: 19px;\n  }\n</style>\n<div class=\"ansiout\">Out[17]: False</div>"
      ]
     }
    }
   ],
   "execution_count": 0
  },
  {
   "cell_type": "code",
   "source": [
    "# convert a RDD to DF \nrdd_df = newDF.rdd\n\n# convert DF back to RDD\nrdd_df.toDF()"
   ],
   "metadata": {
    "application/vnd.databricks.v1+cell": {
     "title": "",
     "showTitle": false,
     "inputWidgets": {},
     "nuid": "2c30bdfa-4b20-4b8b-8a46-261a56d70c44"
    }
   },
   "outputs": [
    {
     "output_type": "display_data",
     "metadata": {
      "application/vnd.databricks.v1+output": {
       "datasetInfos": [],
       "data": "<div class=\"ansiout\">Out[18]: DataFrame[instant: bigint, dteday: timestamp, season: string, yr: bigint, mnth: bigint, hr: bigint, holiday: bigint, weekday: bigint, workingday: bigint, weathersit: string, temp: double, atemp: double, hum: double, windspeed: double, casual: bigint, registered: bigint, cnt: bigint]</div>",
       "removedWidgets": [],
       "addedWidgets": {},
       "type": "html",
       "arguments": {}
      }
     },
     "data": {
      "text/html": [
       "<style scoped>\n  .ansiout {\n    display: block;\n    unicode-bidi: embed;\n    white-space: pre-wrap;\n    word-wrap: break-word;\n    word-break: break-all;\n    font-family: \"Source Code Pro\", \"Menlo\", monospace;;\n    font-size: 13px;\n    color: #555;\n    margin-left: 4px;\n    line-height: 19px;\n  }\n</style>\n<div class=\"ansiout\">Out[18]: DataFrame[instant: bigint, dteday: timestamp, season: string, yr: bigint, mnth: bigint, hr: bigint, holiday: bigint, weekday: bigint, workingday: bigint, weathersit: string, temp: double, atemp: double, hum: double, windspeed: double, casual: bigint, registered: bigint, cnt: bigint]</div>"
      ]
     }
    }
   ],
   "execution_count": 0
  },
  {
   "cell_type": "markdown",
   "source": [
    "### Filter Rows"
   ],
   "metadata": {
    "application/vnd.databricks.v1+cell": {
     "title": "",
     "showTitle": false,
     "inputWidgets": {},
     "nuid": "dd2a5b5f-2f6e-47c0-8353-9a932f896c54"
    }
   }
  },
  {
   "cell_type": "code",
   "source": [
    "springFilerDF = newDF.filter(newDF.season != \"spring\")\nspringFilerDF.show()"
   ],
   "metadata": {
    "application/vnd.databricks.v1+cell": {
     "title": "",
     "showTitle": false,
     "inputWidgets": {},
     "nuid": "94674495-a4d7-4c08-a682-31d09a5f3fd8"
    }
   },
   "outputs": [
    {
     "output_type": "display_data",
     "metadata": {
      "application/vnd.databricks.v1+output": {
       "datasetInfos": [
        {
         "name": "springFilerDF",
         "typeStr": "pyspark.sql.dataframe.DataFrame",
         "schema": {
          "fields": [
           {
            "metadata": {},
            "name": "instant",
            "nullable": true,
            "type": "integer"
           },
           {
            "metadata": {},
            "name": "dteday",
            "nullable": true,
            "type": "timestamp"
           },
           {
            "metadata": {},
            "name": "season",
            "nullable": true,
            "type": "string"
           },
           {
            "metadata": {},
            "name": "yr",
            "nullable": true,
            "type": "integer"
           },
           {
            "metadata": {},
            "name": "mnth",
            "nullable": true,
            "type": "integer"
           },
           {
            "metadata": {},
            "name": "hr",
            "nullable": true,
            "type": "integer"
           },
           {
            "metadata": {},
            "name": "holiday",
            "nullable": true,
            "type": "integer"
           },
           {
            "metadata": {},
            "name": "weekday",
            "nullable": true,
            "type": "integer"
           },
           {
            "metadata": {},
            "name": "workingday",
            "nullable": true,
            "type": "integer"
           },
           {
            "metadata": {},
            "name": "weathersit",
            "nullable": true,
            "type": "string"
           },
           {
            "metadata": {},
            "name": "temp",
            "nullable": true,
            "type": "double"
           },
           {
            "metadata": {},
            "name": "atemp",
            "nullable": true,
            "type": "double"
           },
           {
            "metadata": {},
            "name": "hum",
            "nullable": true,
            "type": "double"
           },
           {
            "metadata": {},
            "name": "windspeed",
            "nullable": true,
            "type": "double"
           },
           {
            "metadata": {},
            "name": "casual",
            "nullable": true,
            "type": "integer"
           },
           {
            "metadata": {},
            "name": "registered",
            "nullable": true,
            "type": "integer"
           },
           {
            "metadata": {},
            "name": "cnt",
            "nullable": true,
            "type": "integer"
           }
          ],
          "type": "struct"
         },
         "tableIdentifier": null
        }
       ],
       "data": "<div class=\"ansiout\">+-------+-------------------+------+---+----+---+-------+-------+----------+---------------+----+------+----+---------+------+----------+---+\n|instant|             dteday|season| yr|mnth| hr|holiday|weekday|workingday|     weathersit|temp| atemp| hum|windspeed|casual|registered|cnt|\n+-------+-------------------+------+---+----+---+-------+-------+----------+---------------+----+------+----+---------+------+----------+---+\n|   1808|2011-03-21 00:00:00|summer|  0|   3|  0|      0|      1|         1|Light Rain-Snow|0.34| 0.303|0.66|   0.3881|     2|        11| 13|\n|   1809|2011-03-21 00:00:00|summer|  0|   3|  1|      0|      1|         1|           Mist|0.34| 0.303|0.71|   0.3881|     1|         6|  7|\n|   1810|2011-03-21 00:00:00|summer|  0|   3|  2|      0|      1|         1|           Mist|0.34| 0.303|0.71|   0.3284|     1|         5|  6|\n|   1811|2011-03-21 00:00:00|summer|  0|   3|  3|      0|      1|         1|           Mist|0.34| 0.303|0.71|   0.3284|     0|         1|  1|\n|   1812|2011-03-21 00:00:00|summer|  0|   3|  5|      0|      1|         1|          Clear|0.32| 0.303|0.81|   0.2985|     1|         1|  2|\n|   1813|2011-03-21 00:00:00|summer|  0|   3|  6|      0|      1|         1|Light Rain-Snow|0.32| 0.303|0.76|   0.2537|     2|        30| 32|\n|   1814|2011-03-21 00:00:00|summer|  0|   3|  7|      0|      1|         1|Light Rain-Snow| 0.3|0.2727|0.87|   0.4179|     3|        15| 18|\n|   1815|2011-03-21 00:00:00|summer|  0|   3|  8|      0|      1|         1|           Mist| 0.3|0.2727|0.87|   0.4179|     3|        95| 98|\n|   1816|2011-03-21 00:00:00|summer|  0|   3|  9|      0|      1|         1|           Mist|0.34| 0.303|0.81|   0.3284|    12|       115|127|\n|   1817|2011-03-21 00:00:00|summer|  0|   3| 10|      0|      1|         1|           Mist|0.38|0.3939|0.76|   0.3881|    17|        45| 62|\n|   1818|2011-03-21 00:00:00|summer|  0|   3| 11|      0|      1|         1|           Mist|0.42|0.4242|0.71|   0.2985|    32|        47| 79|\n|   1819|2011-03-21 00:00:00|summer|  0|   3| 12|      0|      1|         1|           Mist|0.44|0.4394|0.77|   0.2537|    25|        56| 81|\n|   1820|2011-03-21 00:00:00|summer|  0|   3| 13|      0|      1|         1|           Mist| 0.5|0.4848|0.63|   0.2239|    35|        77|112|\n|   1821|2011-03-21 00:00:00|summer|  0|   3| 14|      0|      1|         1|           Mist|0.54|0.5152|0.64|   0.2239|    36|        65|101|\n|   1822|2011-03-21 00:00:00|summer|  0|   3| 15|      0|      1|         1|           Mist|0.56|0.5303| 0.6|   0.2239|    41|        66|107|\n|   1823|2011-03-21 00:00:00|summer|  0|   3| 16|      0|      1|         1|           Mist|0.54|0.5152|0.64|   0.2836|    29|       112|141|\n|   1824|2011-03-21 00:00:00|summer|  0|   3| 17|      0|      1|         1|           Mist|0.54|0.5152|0.64|   0.2537|    41|       231|272|\n|   1825|2011-03-21 00:00:00|summer|  0|   3| 18|      0|      1|         1|           Mist|0.52|   0.5|0.72|   0.2239|    44|       232|276|\n|   1826|2011-03-21 00:00:00|summer|  0|   3| 19|      0|      1|         1|          Clear|0.58|0.5455| 0.6|   0.4179|    22|       199|221|\n|   1827|2011-03-21 00:00:00|summer|  0|   3| 20|      0|      1|         1|          Clear|0.56|0.5303|0.64|    0.194|    16|       106|122|\n+-------+-------------------+------+---+----+---+-------+-------+----------+---------------+----+------+----+---------+------+----------+---+\nonly showing top 20 rows\n\n</div>",
       "removedWidgets": [],
       "addedWidgets": {},
       "type": "html",
       "arguments": {}
      }
     },
     "data": {
      "text/html": [
       "<style scoped>\n  .ansiout {\n    display: block;\n    unicode-bidi: embed;\n    white-space: pre-wrap;\n    word-wrap: break-word;\n    word-break: break-all;\n    font-family: \"Source Code Pro\", \"Menlo\", monospace;;\n    font-size: 13px;\n    color: #555;\n    margin-left: 4px;\n    line-height: 19px;\n  }\n</style>\n<div class=\"ansiout\">+-------+-------------------+------+---+----+---+-------+-------+----------+---------------+----+------+----+---------+------+----------+---+\ninstant|             dteday|season| yr|mnth| hr|holiday|weekday|workingday|     weathersit|temp| atemp| hum|windspeed|casual|registered|cnt|\n+-------+-------------------+------+---+----+---+-------+-------+----------+---------------+----+------+----+---------+------+----------+---+\n   1808|2011-03-21 00:00:00|summer|  0|   3|  0|      0|      1|         1|Light Rain-Snow|0.34| 0.303|0.66|   0.3881|     2|        11| 13|\n   1809|2011-03-21 00:00:00|summer|  0|   3|  1|      0|      1|         1|           Mist|0.34| 0.303|0.71|   0.3881|     1|         6|  7|\n   1810|2011-03-21 00:00:00|summer|  0|   3|  2|      0|      1|         1|           Mist|0.34| 0.303|0.71|   0.3284|     1|         5|  6|\n   1811|2011-03-21 00:00:00|summer|  0|   3|  3|      0|      1|         1|           Mist|0.34| 0.303|0.71|   0.3284|     0|         1|  1|\n   1812|2011-03-21 00:00:00|summer|  0|   3|  5|      0|      1|         1|          Clear|0.32| 0.303|0.81|   0.2985|     1|         1|  2|\n   1813|2011-03-21 00:00:00|summer|  0|   3|  6|      0|      1|         1|Light Rain-Snow|0.32| 0.303|0.76|   0.2537|     2|        30| 32|\n   1814|2011-03-21 00:00:00|summer|  0|   3|  7|      0|      1|         1|Light Rain-Snow| 0.3|0.2727|0.87|   0.4179|     3|        15| 18|\n   1815|2011-03-21 00:00:00|summer|  0|   3|  8|      0|      1|         1|           Mist| 0.3|0.2727|0.87|   0.4179|     3|        95| 98|\n   1816|2011-03-21 00:00:00|summer|  0|   3|  9|      0|      1|         1|           Mist|0.34| 0.303|0.81|   0.3284|    12|       115|127|\n   1817|2011-03-21 00:00:00|summer|  0|   3| 10|      0|      1|         1|           Mist|0.38|0.3939|0.76|   0.3881|    17|        45| 62|\n   1818|2011-03-21 00:00:00|summer|  0|   3| 11|      0|      1|         1|           Mist|0.42|0.4242|0.71|   0.2985|    32|        47| 79|\n   1819|2011-03-21 00:00:00|summer|  0|   3| 12|      0|      1|         1|           Mist|0.44|0.4394|0.77|   0.2537|    25|        56| 81|\n   1820|2011-03-21 00:00:00|summer|  0|   3| 13|      0|      1|         1|           Mist| 0.5|0.4848|0.63|   0.2239|    35|        77|112|\n   1821|2011-03-21 00:00:00|summer|  0|   3| 14|      0|      1|         1|           Mist|0.54|0.5152|0.64|   0.2239|    36|        65|101|\n   1822|2011-03-21 00:00:00|summer|  0|   3| 15|      0|      1|         1|           Mist|0.56|0.5303| 0.6|   0.2239|    41|        66|107|\n   1823|2011-03-21 00:00:00|summer|  0|   3| 16|      0|      1|         1|           Mist|0.54|0.5152|0.64|   0.2836|    29|       112|141|\n   1824|2011-03-21 00:00:00|summer|  0|   3| 17|      0|      1|         1|           Mist|0.54|0.5152|0.64|   0.2537|    41|       231|272|\n   1825|2011-03-21 00:00:00|summer|  0|   3| 18|      0|      1|         1|           Mist|0.52|   0.5|0.72|   0.2239|    44|       232|276|\n   1826|2011-03-21 00:00:00|summer|  0|   3| 19|      0|      1|         1|          Clear|0.58|0.5455| 0.6|   0.4179|    22|       199|221|\n   1827|2011-03-21 00:00:00|summer|  0|   3| 20|      0|      1|         1|          Clear|0.56|0.5303|0.64|    0.194|    16|       106|122|\n+-------+-------------------+------+---+----+---+-------+-------+----------+---------------+----+------+----+---------+------+----------+---+\nonly showing top 20 rows\n\n</div>"
      ]
     }
    }
   ],
   "execution_count": 0
  },
  {
   "cell_type": "code",
   "source": [
    "newDF.filter(newDF.season==\"summer\") \nnewDF.filter(newDF.season.contains(\"mmer\")).show()\nnewDF.filter(newDF.season.like(\"%mmer\")).show()"
   ],
   "metadata": {
    "application/vnd.databricks.v1+cell": {
     "title": "",
     "showTitle": false,
     "inputWidgets": {},
     "nuid": "594ff3e6-61a1-4eed-bdd5-10f120dfef67"
    }
   },
   "outputs": [
    {
     "output_type": "display_data",
     "metadata": {
      "application/vnd.databricks.v1+output": {
       "datasetInfos": [],
       "data": "<div class=\"ansiout\">+-------+-------------------+------+---+----+---+-------+-------+----------+---------------+----+------+----+---------+------+----------+---+\n|instant|             dteday|season| yr|mnth| hr|holiday|weekday|workingday|     weathersit|temp| atemp| hum|windspeed|casual|registered|cnt|\n+-------+-------------------+------+---+----+---+-------+-------+----------+---------------+----+------+----+---------+------+----------+---+\n|   1808|2011-03-21 00:00:00|summer|  0|   3|  0|      0|      1|         1|Light Rain-Snow|0.34| 0.303|0.66|   0.3881|     2|        11| 13|\n|   1809|2011-03-21 00:00:00|summer|  0|   3|  1|      0|      1|         1|           Mist|0.34| 0.303|0.71|   0.3881|     1|         6|  7|\n|   1810|2011-03-21 00:00:00|summer|  0|   3|  2|      0|      1|         1|           Mist|0.34| 0.303|0.71|   0.3284|     1|         5|  6|\n|   1811|2011-03-21 00:00:00|summer|  0|   3|  3|      0|      1|         1|           Mist|0.34| 0.303|0.71|   0.3284|     0|         1|  1|\n|   1812|2011-03-21 00:00:00|summer|  0|   3|  5|      0|      1|         1|          Clear|0.32| 0.303|0.81|   0.2985|     1|         1|  2|\n|   1813|2011-03-21 00:00:00|summer|  0|   3|  6|      0|      1|         1|Light Rain-Snow|0.32| 0.303|0.76|   0.2537|     2|        30| 32|\n|   1814|2011-03-21 00:00:00|summer|  0|   3|  7|      0|      1|         1|Light Rain-Snow| 0.3|0.2727|0.87|   0.4179|     3|        15| 18|\n|   1815|2011-03-21 00:00:00|summer|  0|   3|  8|      0|      1|         1|           Mist| 0.3|0.2727|0.87|   0.4179|     3|        95| 98|\n|   1816|2011-03-21 00:00:00|summer|  0|   3|  9|      0|      1|         1|           Mist|0.34| 0.303|0.81|   0.3284|    12|       115|127|\n|   1817|2011-03-21 00:00:00|summer|  0|   3| 10|      0|      1|         1|           Mist|0.38|0.3939|0.76|   0.3881|    17|        45| 62|\n|   1818|2011-03-21 00:00:00|summer|  0|   3| 11|      0|      1|         1|           Mist|0.42|0.4242|0.71|   0.2985|    32|        47| 79|\n|   1819|2011-03-21 00:00:00|summer|  0|   3| 12|      0|      1|         1|           Mist|0.44|0.4394|0.77|   0.2537|    25|        56| 81|\n|   1820|2011-03-21 00:00:00|summer|  0|   3| 13|      0|      1|         1|           Mist| 0.5|0.4848|0.63|   0.2239|    35|        77|112|\n|   1821|2011-03-21 00:00:00|summer|  0|   3| 14|      0|      1|         1|           Mist|0.54|0.5152|0.64|   0.2239|    36|        65|101|\n|   1822|2011-03-21 00:00:00|summer|  0|   3| 15|      0|      1|         1|           Mist|0.56|0.5303| 0.6|   0.2239|    41|        66|107|\n|   1823|2011-03-21 00:00:00|summer|  0|   3| 16|      0|      1|         1|           Mist|0.54|0.5152|0.64|   0.2836|    29|       112|141|\n|   1824|2011-03-21 00:00:00|summer|  0|   3| 17|      0|      1|         1|           Mist|0.54|0.5152|0.64|   0.2537|    41|       231|272|\n|   1825|2011-03-21 00:00:00|summer|  0|   3| 18|      0|      1|         1|           Mist|0.52|   0.5|0.72|   0.2239|    44|       232|276|\n|   1826|2011-03-21 00:00:00|summer|  0|   3| 19|      0|      1|         1|          Clear|0.58|0.5455| 0.6|   0.4179|    22|       199|221|\n|   1827|2011-03-21 00:00:00|summer|  0|   3| 20|      0|      1|         1|          Clear|0.56|0.5303|0.64|    0.194|    16|       106|122|\n+-------+-------------------+------+---+----+---+-------+-------+----------+---------------+----+------+----+---------+------+----------+---+\nonly showing top 20 rows\n\n+-------+-------------------+------+---+----+---+-------+-------+----------+---------------+----+------+----+---------+------+----------+---+\n|instant|             dteday|season| yr|mnth| hr|holiday|weekday|workingday|     weathersit|temp| atemp| hum|windspeed|casual|registered|cnt|\n+-------+-------------------+------+---+----+---+-------+-------+----------+---------------+----+------+----+---------+------+----------+---+\n|   1808|2011-03-21 00:00:00|summer|  0|   3|  0|      0|      1|         1|Light Rain-Snow|0.34| 0.303|0.66|   0.3881|     2|        11| 13|\n|   1809|2011-03-21 00:00:00|summer|  0|   3|  1|      0|      1|         1|           Mist|0.34| 0.303|0.71|   0.3881|     1|         6|  7|\n|   1810|2011-03-21 00:00:00|summer|  0|   3|  2|      0|      1|         1|           Mist|0.34| 0.303|0.71|   0.3284|     1|         5|  6|\n|   1811|2011-03-21 00:00:00|summer|  0|   3|  3|      0|      1|         1|           Mist|0.34| 0.303|0.71|   0.3284|     0|         1|  1|\n|   1812|2011-03-21 00:00:00|summer|  0|   3|  5|      0|      1|         1|          Clear|0.32| 0.303|0.81|   0.2985|     1|         1|  2|\n|   1813|2011-03-21 00:00:00|summer|  0|   3|  6|      0|      1|         1|Light Rain-Snow|0.32| 0.303|0.76|   0.2537|     2|        30| 32|\n|   1814|2011-03-21 00:00:00|summer|  0|   3|  7|      0|      1|         1|Light Rain-Snow| 0.3|0.2727|0.87|   0.4179|     3|        15| 18|\n|   1815|2011-03-21 00:00:00|summer|  0|   3|  8|      0|      1|         1|           Mist| 0.3|0.2727|0.87|   0.4179|     3|        95| 98|\n|   1816|2011-03-21 00:00:00|summer|  0|   3|  9|      0|      1|         1|           Mist|0.34| 0.303|0.81|   0.3284|    12|       115|127|\n|   1817|2011-03-21 00:00:00|summer|  0|   3| 10|      0|      1|         1|           Mist|0.38|0.3939|0.76|   0.3881|    17|        45| 62|\n|   1818|2011-03-21 00:00:00|summer|  0|   3| 11|      0|      1|         1|           Mist|0.42|0.4242|0.71|   0.2985|    32|        47| 79|\n|   1819|2011-03-21 00:00:00|summer|  0|   3| 12|      0|      1|         1|           Mist|0.44|0.4394|0.77|   0.2537|    25|        56| 81|\n|   1820|2011-03-21 00:00:00|summer|  0|   3| 13|      0|      1|         1|           Mist| 0.5|0.4848|0.63|   0.2239|    35|        77|112|\n|   1821|2011-03-21 00:00:00|summer|  0|   3| 14|      0|      1|         1|           Mist|0.54|0.5152|0.64|   0.2239|    36|        65|101|\n|   1822|2011-03-21 00:00:00|summer|  0|   3| 15|      0|      1|         1|           Mist|0.56|0.5303| 0.6|   0.2239|    41|        66|107|\n|   1823|2011-03-21 00:00:00|summer|  0|   3| 16|      0|      1|         1|           Mist|0.54|0.5152|0.64|   0.2836|    29|       112|141|\n|   1824|2011-03-21 00:00:00|summer|  0|   3| 17|      0|      1|         1|           Mist|0.54|0.5152|0.64|   0.2537|    41|       231|272|\n|   1825|2011-03-21 00:00:00|summer|  0|   3| 18|      0|      1|         1|           Mist|0.52|   0.5|0.72|   0.2239|    44|       232|276|\n|   1826|2011-03-21 00:00:00|summer|  0|   3| 19|      0|      1|         1|          Clear|0.58|0.5455| 0.6|   0.4179|    22|       199|221|\n|   1827|2011-03-21 00:00:00|summer|  0|   3| 20|      0|      1|         1|          Clear|0.56|0.5303|0.64|    0.194|    16|       106|122|\n+-------+-------------------+------+---+----+---+-------+-------+----------+---------------+----+------+----+---------+------+----------+---+\nonly showing top 20 rows\n\n</div>",
       "removedWidgets": [],
       "addedWidgets": {},
       "type": "html",
       "arguments": {}
      }
     },
     "data": {
      "text/html": [
       "<style scoped>\n  .ansiout {\n    display: block;\n    unicode-bidi: embed;\n    white-space: pre-wrap;\n    word-wrap: break-word;\n    word-break: break-all;\n    font-family: \"Source Code Pro\", \"Menlo\", monospace;;\n    font-size: 13px;\n    color: #555;\n    margin-left: 4px;\n    line-height: 19px;\n  }\n</style>\n<div class=\"ansiout\">+-------+-------------------+------+---+----+---+-------+-------+----------+---------------+----+------+----+---------+------+----------+---+\ninstant|             dteday|season| yr|mnth| hr|holiday|weekday|workingday|     weathersit|temp| atemp| hum|windspeed|casual|registered|cnt|\n+-------+-------------------+------+---+----+---+-------+-------+----------+---------------+----+------+----+---------+------+----------+---+\n   1808|2011-03-21 00:00:00|summer|  0|   3|  0|      0|      1|         1|Light Rain-Snow|0.34| 0.303|0.66|   0.3881|     2|        11| 13|\n   1809|2011-03-21 00:00:00|summer|  0|   3|  1|      0|      1|         1|           Mist|0.34| 0.303|0.71|   0.3881|     1|         6|  7|\n   1810|2011-03-21 00:00:00|summer|  0|   3|  2|      0|      1|         1|           Mist|0.34| 0.303|0.71|   0.3284|     1|         5|  6|\n   1811|2011-03-21 00:00:00|summer|  0|   3|  3|      0|      1|         1|           Mist|0.34| 0.303|0.71|   0.3284|     0|         1|  1|\n   1812|2011-03-21 00:00:00|summer|  0|   3|  5|      0|      1|         1|          Clear|0.32| 0.303|0.81|   0.2985|     1|         1|  2|\n   1813|2011-03-21 00:00:00|summer|  0|   3|  6|      0|      1|         1|Light Rain-Snow|0.32| 0.303|0.76|   0.2537|     2|        30| 32|\n   1814|2011-03-21 00:00:00|summer|  0|   3|  7|      0|      1|         1|Light Rain-Snow| 0.3|0.2727|0.87|   0.4179|     3|        15| 18|\n   1815|2011-03-21 00:00:00|summer|  0|   3|  8|      0|      1|         1|           Mist| 0.3|0.2727|0.87|   0.4179|     3|        95| 98|\n   1816|2011-03-21 00:00:00|summer|  0|   3|  9|      0|      1|         1|           Mist|0.34| 0.303|0.81|   0.3284|    12|       115|127|\n   1817|2011-03-21 00:00:00|summer|  0|   3| 10|      0|      1|         1|           Mist|0.38|0.3939|0.76|   0.3881|    17|        45| 62|\n   1818|2011-03-21 00:00:00|summer|  0|   3| 11|      0|      1|         1|           Mist|0.42|0.4242|0.71|   0.2985|    32|        47| 79|\n   1819|2011-03-21 00:00:00|summer|  0|   3| 12|      0|      1|         1|           Mist|0.44|0.4394|0.77|   0.2537|    25|        56| 81|\n   1820|2011-03-21 00:00:00|summer|  0|   3| 13|      0|      1|         1|           Mist| 0.5|0.4848|0.63|   0.2239|    35|        77|112|\n   1821|2011-03-21 00:00:00|summer|  0|   3| 14|      0|      1|         1|           Mist|0.54|0.5152|0.64|   0.2239|    36|        65|101|\n   1822|2011-03-21 00:00:00|summer|  0|   3| 15|      0|      1|         1|           Mist|0.56|0.5303| 0.6|   0.2239|    41|        66|107|\n   1823|2011-03-21 00:00:00|summer|  0|   3| 16|      0|      1|         1|           Mist|0.54|0.5152|0.64|   0.2836|    29|       112|141|\n   1824|2011-03-21 00:00:00|summer|  0|   3| 17|      0|      1|         1|           Mist|0.54|0.5152|0.64|   0.2537|    41|       231|272|\n   1825|2011-03-21 00:00:00|summer|  0|   3| 18|      0|      1|         1|           Mist|0.52|   0.5|0.72|   0.2239|    44|       232|276|\n   1826|2011-03-21 00:00:00|summer|  0|   3| 19|      0|      1|         1|          Clear|0.58|0.5455| 0.6|   0.4179|    22|       199|221|\n   1827|2011-03-21 00:00:00|summer|  0|   3| 20|      0|      1|         1|          Clear|0.56|0.5303|0.64|    0.194|    16|       106|122|\n+-------+-------------------+------+---+----+---+-------+-------+----------+---------------+----+------+----+---------+------+----------+---+\nonly showing top 20 rows\n\n+-------+-------------------+------+---+----+---+-------+-------+----------+---------------+----+------+----+---------+------+----------+---+\ninstant|             dteday|season| yr|mnth| hr|holiday|weekday|workingday|     weathersit|temp| atemp| hum|windspeed|casual|registered|cnt|\n+-------+-------------------+------+---+----+---+-------+-------+----------+---------------+----+------+----+---------+------+----------+---+\n   1808|2011-03-21 00:00:00|summer|  0|   3|  0|      0|      1|         1|Light Rain-Snow|0.34| 0.303|0.66|   0.3881|     2|        11| 13|\n   1809|2011-03-21 00:00:00|summer|  0|   3|  1|      0|      1|         1|           Mist|0.34| 0.303|0.71|   0.3881|     1|         6|  7|\n   1810|2011-03-21 00:00:00|summer|  0|   3|  2|      0|      1|         1|           Mist|0.34| 0.303|0.71|   0.3284|     1|         5|  6|\n   1811|2011-03-21 00:00:00|summer|  0|   3|  3|      0|      1|         1|           Mist|0.34| 0.303|0.71|   0.3284|     0|         1|  1|\n   1812|2011-03-21 00:00:00|summer|  0|   3|  5|      0|      1|         1|          Clear|0.32| 0.303|0.81|   0.2985|     1|         1|  2|\n   1813|2011-03-21 00:00:00|summer|  0|   3|  6|      0|      1|         1|Light Rain-Snow|0.32| 0.303|0.76|   0.2537|     2|        30| 32|\n   1814|2011-03-21 00:00:00|summer|  0|   3|  7|      0|      1|         1|Light Rain-Snow| 0.3|0.2727|0.87|   0.4179|     3|        15| 18|\n   1815|2011-03-21 00:00:00|summer|  0|   3|  8|      0|      1|         1|           Mist| 0.3|0.2727|0.87|   0.4179|     3|        95| 98|\n   1816|2011-03-21 00:00:00|summer|  0|   3|  9|      0|      1|         1|           Mist|0.34| 0.303|0.81|   0.3284|    12|       115|127|\n   1817|2011-03-21 00:00:00|summer|  0|   3| 10|      0|      1|         1|           Mist|0.38|0.3939|0.76|   0.3881|    17|        45| 62|\n   1818|2011-03-21 00:00:00|summer|  0|   3| 11|      0|      1|         1|           Mist|0.42|0.4242|0.71|   0.2985|    32|        47| 79|\n   1819|2011-03-21 00:00:00|summer|  0|   3| 12|      0|      1|         1|           Mist|0.44|0.4394|0.77|   0.2537|    25|        56| 81|\n   1820|2011-03-21 00:00:00|summer|  0|   3| 13|      0|      1|         1|           Mist| 0.5|0.4848|0.63|   0.2239|    35|        77|112|\n   1821|2011-03-21 00:00:00|summer|  0|   3| 14|      0|      1|         1|           Mist|0.54|0.5152|0.64|   0.2239|    36|        65|101|\n   1822|2011-03-21 00:00:00|summer|  0|   3| 15|      0|      1|         1|           Mist|0.56|0.5303| 0.6|   0.2239|    41|        66|107|\n   1823|2011-03-21 00:00:00|summer|  0|   3| 16|      0|      1|         1|           Mist|0.54|0.5152|0.64|   0.2836|    29|       112|141|\n   1824|2011-03-21 00:00:00|summer|  0|   3| 17|      0|      1|         1|           Mist|0.54|0.5152|0.64|   0.2537|    41|       231|272|\n   1825|2011-03-21 00:00:00|summer|  0|   3| 18|      0|      1|         1|           Mist|0.52|   0.5|0.72|   0.2239|    44|       232|276|\n   1826|2011-03-21 00:00:00|summer|  0|   3| 19|      0|      1|         1|          Clear|0.58|0.5455| 0.6|   0.4179|    22|       199|221|\n   1827|2011-03-21 00:00:00|summer|  0|   3| 20|      0|      1|         1|          Clear|0.56|0.5303|0.64|    0.194|    16|       106|122|\n+-------+-------------------+------+---+----+---+-------+-------+----------+---------------+----+------+----+---------+------+----------+---+\nonly showing top 20 rows\n\n</div>"
      ]
     }
    }
   ],
   "execution_count": 0
  },
  {
   "cell_type": "markdown",
   "source": [
    "### Type CASTing \n\nSyntax - dataFrame[\"columnName\"].cast(DataType())"
   ],
   "metadata": {
    "application/vnd.databricks.v1+cell": {
     "title": "",
     "showTitle": false,
     "inputWidgets": {},
     "nuid": "467503d2-4222-4aa4-af91-27ab4497682d"
    }
   }
  },
  {
   "cell_type": "code",
   "source": [
    "newDF.schema\n# newDF.printSchema()"
   ],
   "metadata": {
    "application/vnd.databricks.v1+cell": {
     "title": "",
     "showTitle": false,
     "inputWidgets": {},
     "nuid": "852e9a93-e146-4711-bcbb-597e01f40683"
    }
   },
   "outputs": [
    {
     "output_type": "display_data",
     "metadata": {
      "application/vnd.databricks.v1+output": {
       "datasetInfos": [],
       "data": "<div class=\"ansiout\">Out[72]: StructType(List(StructField(instant,IntegerType,true),StructField(dteday,TimestampType,true),StructField(season,StringType,true),StructField(yr,IntegerType,true),StructField(mnth,IntegerType,true),StructField(hr,IntegerType,true),StructField(holiday,IntegerType,true),StructField(weekday,IntegerType,true),StructField(workingday,IntegerType,true),StructField(weathersit,StringType,true),StructField(temp,DoubleType,true),StructField(atemp,DoubleType,true),StructField(hum,DoubleType,true),StructField(windspeed,DoubleType,true),StructField(casual,IntegerType,true),StructField(registered,IntegerType,true),StructField(cnt,IntegerType,true)))</div>",
       "removedWidgets": [],
       "addedWidgets": {},
       "type": "html",
       "arguments": {}
      }
     },
     "data": {
      "text/html": [
       "<style scoped>\n  .ansiout {\n    display: block;\n    unicode-bidi: embed;\n    white-space: pre-wrap;\n    word-wrap: break-word;\n    word-break: break-all;\n    font-family: \"Source Code Pro\", \"Menlo\", monospace;;\n    font-size: 13px;\n    color: #555;\n    margin-left: 4px;\n    line-height: 19px;\n  }\n</style>\n<div class=\"ansiout\">Out[72]: StructType(List(StructField(instant,IntegerType,true),StructField(dteday,TimestampType,true),StructField(season,StringType,true),StructField(yr,IntegerType,true),StructField(mnth,IntegerType,true),StructField(hr,IntegerType,true),StructField(holiday,IntegerType,true),StructField(weekday,IntegerType,true),StructField(workingday,IntegerType,true),StructField(weathersit,StringType,true),StructField(temp,DoubleType,true),StructField(atemp,DoubleType,true),StructField(hum,DoubleType,true),StructField(windspeed,DoubleType,true),StructField(casual,IntegerType,true),StructField(registered,IntegerType,true),StructField(cnt,IntegerType,true)))</div>"
      ]
     }
    }
   ],
   "execution_count": 0
  },
  {
   "cell_type": "code",
   "source": [
    "newDF.select(\"cnt\").schema"
   ],
   "metadata": {
    "application/vnd.databricks.v1+cell": {
     "title": "",
     "showTitle": false,
     "inputWidgets": {},
     "nuid": "983f07c9-3770-4bf9-923e-98e6a81f7eb6"
    }
   },
   "outputs": [
    {
     "output_type": "display_data",
     "metadata": {
      "application/vnd.databricks.v1+output": {
       "datasetInfos": [],
       "data": "<div class=\"ansiout\">Out[22]: StructType(List(StructField(cnt,IntegerType,true)))</div>",
       "removedWidgets": [],
       "addedWidgets": {},
       "type": "html",
       "arguments": {}
      }
     },
     "data": {
      "text/html": [
       "<style scoped>\n  .ansiout {\n    display: block;\n    unicode-bidi: embed;\n    white-space: pre-wrap;\n    word-wrap: break-word;\n    word-break: break-all;\n    font-family: \"Source Code Pro\", \"Menlo\", monospace;;\n    font-size: 13px;\n    color: #555;\n    margin-left: 4px;\n    line-height: 19px;\n  }\n</style>\n<div class=\"ansiout\">Out[22]: StructType(List(StructField(cnt,IntegerType,true)))</div>"
      ]
     }
    }
   ],
   "execution_count": 0
  },
  {
   "cell_type": "code",
   "source": [
    "from pyspark.sql.types import DoubleType\n\ntotalCnt = col(\"cnt\")\nnewDF.select(totalCnt.cast(DoubleType()))"
   ],
   "metadata": {
    "application/vnd.databricks.v1+cell": {
     "title": "",
     "showTitle": false,
     "inputWidgets": {},
     "nuid": "34f3780c-ee5f-4646-9e37-36d07219a5a5"
    }
   },
   "outputs": [
    {
     "output_type": "display_data",
     "metadata": {
      "application/vnd.databricks.v1+output": {
       "datasetInfos": [],
       "data": "<div class=\"ansiout\">Out[73]: DataFrame[cnt: double]</div>",
       "removedWidgets": [],
       "addedWidgets": {},
       "type": "html",
       "arguments": {}
      }
     },
     "data": {
      "text/html": [
       "<style scoped>\n  .ansiout {\n    display: block;\n    unicode-bidi: embed;\n    white-space: pre-wrap;\n    word-wrap: break-word;\n    word-break: break-all;\n    font-family: \"Source Code Pro\", \"Menlo\", monospace;;\n    font-size: 13px;\n    color: #555;\n    margin-left: 4px;\n    line-height: 19px;\n  }\n</style>\n<div class=\"ansiout\">Out[73]: DataFrame[cnt: double]</div>"
      ]
     }
    }
   ],
   "execution_count": 0
  },
  {
   "cell_type": "markdown",
   "source": [
    "### Group By"
   ],
   "metadata": {
    "application/vnd.databricks.v1+cell": {
     "title": "",
     "showTitle": false,
     "inputWidgets": {},
     "nuid": "a41dd62c-3cd4-4a45-9487-4133aeec4423"
    }
   }
  },
  {
   "cell_type": "code",
   "source": [
    "newDF.groupby('season').count().show()"
   ],
   "metadata": {
    "application/vnd.databricks.v1+cell": {
     "title": "",
     "showTitle": false,
     "inputWidgets": {},
     "nuid": "4dd61ebe-9a8d-4a3b-a603-2c7a83b67116"
    }
   },
   "outputs": [
    {
     "output_type": "display_data",
     "metadata": {
      "application/vnd.databricks.v1+output": {
       "datasetInfos": [],
       "data": "<div class=\"ansiout\">+------+-----+\n|season|count|\n+------+-----+\n|winter| 4232|\n|summer| 4409|\n|spring| 4242|\n|  fall| 4496|\n+------+-----+\n\n</div>",
       "removedWidgets": [],
       "addedWidgets": {},
       "type": "html",
       "arguments": {}
      }
     },
     "data": {
      "text/html": [
       "<style scoped>\n  .ansiout {\n    display: block;\n    unicode-bidi: embed;\n    white-space: pre-wrap;\n    word-wrap: break-word;\n    word-break: break-all;\n    font-family: \"Source Code Pro\", \"Menlo\", monospace;;\n    font-size: 13px;\n    color: #555;\n    margin-left: 4px;\n    line-height: 19px;\n  }\n</style>\n<div class=\"ansiout\">+------+-----+\nseason|count|\n+------+-----+\nwinter| 4232|\nsummer| 4409|\nspring| 4242|\n  fall| 4496|\n+------+-----+\n\n</div>"
      ]
     }
    }
   ],
   "execution_count": 0
  },
  {
   "cell_type": "code",
   "source": [
    "count_seasons = newDF.groupby('season').count()\ncount_seasons.explain()"
   ],
   "metadata": {
    "application/vnd.databricks.v1+cell": {
     "title": "",
     "showTitle": false,
     "inputWidgets": {},
     "nuid": "664ce276-bec8-43d5-9ce9-9cc1c6088070"
    }
   },
   "outputs": [
    {
     "output_type": "display_data",
     "metadata": {
      "application/vnd.databricks.v1+output": {
       "datasetInfos": [
        {
         "name": "count_seasons",
         "typeStr": "pyspark.sql.dataframe.DataFrame",
         "schema": {
          "fields": [
           {
            "metadata": {},
            "name": "season",
            "nullable": true,
            "type": "string"
           },
           {
            "metadata": {},
            "name": "count",
            "nullable": false,
            "type": "long"
           }
          ],
          "type": "struct"
         },
         "tableIdentifier": null
        }
       ],
       "data": "<div class=\"ansiout\">== Physical Plan ==\n*(2) HashAggregate(keys=[season#7244], functions=[finalmerge_count(merge count#8247L) AS count(1)#8157L])\n+- Exchange hashpartitioning(season#7244, 200), [id=#2786]\n   +- *(1) HashAggregate(keys=[season#7244], functions=[partial_count(1) AS count#8247L])\n      +- *(1) Project [pythonUDF0#8248 AS season#7244]\n         +- BatchEvalPython [season_values(season#7000)], [pythonUDF0#8248]\n            +- InMemoryTableScan [season#7000]\n                  +- InMemoryRelation [instant#6998, dteday#6999, season#7000, yr#7001, mnth#7002, hr#7003, holiday#7004, weekday#7005, workingday#7006, weathersit#7007, temp#7008, atemp#7009, hum#7010, windspeed#7011, casual#7012, registered#7013, cnt#7014], StorageLevel(disk, memory, deserialized, 1 replicas)\n                        +- *(1) FileScan csv [instant#168,dteday#169,season#170,yr#171,mnth#172,hr#173,holiday#174,weekday#175,workingday#176,weathersit#177,temp#178,atemp#179,hum#180,windspeed#181,casual#182,registered#183,cnt#184] Batched: false, DataFilters: [], Format: CSV, Location: InMemoryFileIndex[dbfs:/FileStore/tables/hour.csv], PartitionFilters: [], PushedFilters: [], ReadSchema: struct&lt;instant:int,dteday:timestamp,season:int,yr:int,mnth:int,hr:int,holiday:int,weekday:int,wor...\n</div>",
       "removedWidgets": [],
       "addedWidgets": {},
       "type": "html",
       "arguments": {}
      }
     },
     "data": {
      "text/html": [
       "<style scoped>\n  .ansiout {\n    display: block;\n    unicode-bidi: embed;\n    white-space: pre-wrap;\n    word-wrap: break-word;\n    word-break: break-all;\n    font-family: \"Source Code Pro\", \"Menlo\", monospace;;\n    font-size: 13px;\n    color: #555;\n    margin-left: 4px;\n    line-height: 19px;\n  }\n</style>\n<div class=\"ansiout\">== Physical Plan ==\n*(2) HashAggregate(keys=[season#7244], functions=[finalmerge_count(merge count#8247L) AS count(1)#8157L])\n+- Exchange hashpartitioning(season#7244, 200), [id=#2786]\n   +- *(1) HashAggregate(keys=[season#7244], functions=[partial_count(1) AS count#8247L])\n      +- *(1) Project [pythonUDF0#8248 AS season#7244]\n         +- BatchEvalPython [season_values(season#7000)], [pythonUDF0#8248]\n            +- InMemoryTableScan [season#7000]\n                  +- InMemoryRelation [instant#6998, dteday#6999, season#7000, yr#7001, mnth#7002, hr#7003, holiday#7004, weekday#7005, workingday#7006, weathersit#7007, temp#7008, atemp#7009, hum#7010, windspeed#7011, casual#7012, registered#7013, cnt#7014], StorageLevel(disk, memory, deserialized, 1 replicas)\n                        +- *(1) FileScan csv [instant#168,dteday#169,season#170,yr#171,mnth#172,hr#173,holiday#174,weekday#175,workingday#176,weathersit#177,temp#178,atemp#179,hum#180,windspeed#181,casual#182,registered#183,cnt#184] Batched: false, DataFilters: [], Format: CSV, Location: InMemoryFileIndex[dbfs:/FileStore/tables/hour.csv], PartitionFilters: [], PushedFilters: [], ReadSchema: struct&lt;instant:int,dteday:timestamp,season:int,yr:int,mnth:int,hr:int,holiday:int,weekday:int,wor...\n</div>"
      ]
     }
    }
   ],
   "execution_count": 0
  },
  {
   "cell_type": "markdown",
   "source": [
    "### Order By"
   ],
   "metadata": {
    "application/vnd.databricks.v1+cell": {
     "title": "",
     "showTitle": false,
     "inputWidgets": {},
     "nuid": "c9106f39-ce86-40eb-8bf8-92b513b3299e"
    }
   }
  },
  {
   "cell_type": "code",
   "source": [
    "newDF.orderBy(newDF.cnt.desc()).show(5)\nnewDF.orderBy(newDF.casual.desc(),newDF.cnt ).printSchema()"
   ],
   "metadata": {
    "application/vnd.databricks.v1+cell": {
     "title": "",
     "showTitle": false,
     "inputWidgets": {},
     "nuid": "c2147514-df89-4d2b-8347-791d8db8edea"
    }
   },
   "outputs": [
    {
     "output_type": "display_data",
     "metadata": {
      "application/vnd.databricks.v1+output": {
       "datasetInfos": [],
       "data": "<div class=\"ansiout\">+-------+-------------------+------+---+----+---+-------+-------+----------+----------+----+------+----+---------+------+----------+---+\n|instant|             dteday|season| yr|mnth| hr|holiday|weekday|workingday|weathersit|temp| atemp| hum|windspeed|casual|registered|cnt|\n+-------+-------------------+------+---+----+---+-------+-------+----------+----------+----+------+----+---------+------+----------+---+\n|  14774|2012-09-12 00:00:00|  fall|  1|   9| 18|      0|      3|         1|     Clear|0.66|0.6212|0.44|   0.2537|    91|       886|977|\n|  14965|2012-09-20 00:00:00|  fall|  1|   9| 17|      0|      4|         1|     Clear|0.64|0.6212| 0.5|   0.2239|    91|       885|976|\n|  14749|2012-09-11 00:00:00|  fall|  1|   9| 17|      0|      2|         1|     Clear| 0.7|0.6364|0.28|      0.0|   168|       802|970|\n|  14726|2012-09-10 00:00:00|  fall|  1|   9| 18|      0|      1|         1|     Clear|0.62|0.6212|0.35|   0.2985|   111|       857|968|\n|  15085|2012-09-25 00:00:00|winter|  1|   9| 17|      0|      2|         1|     Clear|0.66|0.6212|0.39|   0.2836|   107|       860|967|\n+-------+-------------------+------+---+----+---+-------+-------+----------+----------+----+------+----+---------+------+----------+---+\nonly showing top 5 rows\n\nroot\n |-- instant: integer (nullable = true)\n |-- dteday: timestamp (nullable = true)\n |-- season: string (nullable = true)\n |-- yr: integer (nullable = true)\n |-- mnth: integer (nullable = true)\n |-- hr: integer (nullable = true)\n |-- holiday: integer (nullable = true)\n |-- weekday: integer (nullable = true)\n |-- workingday: integer (nullable = true)\n |-- weathersit: string (nullable = true)\n |-- temp: double (nullable = true)\n |-- atemp: double (nullable = true)\n |-- hum: double (nullable = true)\n |-- windspeed: double (nullable = true)\n |-- casual: integer (nullable = true)\n |-- registered: integer (nullable = true)\n |-- cnt: integer (nullable = true)\n\n</div>",
       "removedWidgets": [],
       "addedWidgets": {},
       "type": "html",
       "arguments": {}
      }
     },
     "data": {
      "text/html": [
       "<style scoped>\n  .ansiout {\n    display: block;\n    unicode-bidi: embed;\n    white-space: pre-wrap;\n    word-wrap: break-word;\n    word-break: break-all;\n    font-family: \"Source Code Pro\", \"Menlo\", monospace;;\n    font-size: 13px;\n    color: #555;\n    margin-left: 4px;\n    line-height: 19px;\n  }\n</style>\n<div class=\"ansiout\">+-------+-------------------+------+---+----+---+-------+-------+----------+----------+----+------+----+---------+------+----------+---+\ninstant|             dteday|season| yr|mnth| hr|holiday|weekday|workingday|weathersit|temp| atemp| hum|windspeed|casual|registered|cnt|\n+-------+-------------------+------+---+----+---+-------+-------+----------+----------+----+------+----+---------+------+----------+---+\n  14774|2012-09-12 00:00:00|  fall|  1|   9| 18|      0|      3|         1|     Clear|0.66|0.6212|0.44|   0.2537|    91|       886|977|\n  14965|2012-09-20 00:00:00|  fall|  1|   9| 17|      0|      4|         1|     Clear|0.64|0.6212| 0.5|   0.2239|    91|       885|976|\n  14749|2012-09-11 00:00:00|  fall|  1|   9| 17|      0|      2|         1|     Clear| 0.7|0.6364|0.28|      0.0|   168|       802|970|\n  14726|2012-09-10 00:00:00|  fall|  1|   9| 18|      0|      1|         1|     Clear|0.62|0.6212|0.35|   0.2985|   111|       857|968|\n  15085|2012-09-25 00:00:00|winter|  1|   9| 17|      0|      2|         1|     Clear|0.66|0.6212|0.39|   0.2836|   107|       860|967|\n+-------+-------------------+------+---+----+---+-------+-------+----------+----------+----+------+----+---------+------+----------+---+\nonly showing top 5 rows\n\nroot\n-- instant: integer (nullable = true)\n-- dteday: timestamp (nullable = true)\n-- season: string (nullable = true)\n-- yr: integer (nullable = true)\n-- mnth: integer (nullable = true)\n-- hr: integer (nullable = true)\n-- holiday: integer (nullable = true)\n-- weekday: integer (nullable = true)\n-- workingday: integer (nullable = true)\n-- weathersit: string (nullable = true)\n-- temp: double (nullable = true)\n-- atemp: double (nullable = true)\n-- hum: double (nullable = true)\n-- windspeed: double (nullable = true)\n-- casual: integer (nullable = true)\n-- registered: integer (nullable = true)\n-- cnt: integer (nullable = true)\n\n</div>"
      ]
     }
    }
   ],
   "execution_count": 0
  },
  {
   "cell_type": "markdown",
   "source": [
    "### Add New Column or Replace"
   ],
   "metadata": {
    "application/vnd.databricks.v1+cell": {
     "title": "",
     "showTitle": false,
     "inputWidgets": {},
     "nuid": "88199a43-e35b-477a-bccf-914737b2a25c"
    }
   }
  },
  {
   "cell_type": "code",
   "source": [
    "# The withColumn operation will take 2 parameters.\n###  Column name which we want add /replace.\n###  Expression on column."
   ],
   "metadata": {
    "application/vnd.databricks.v1+cell": {
     "title": "",
     "showTitle": false,
     "inputWidgets": {},
     "nuid": "77fdc36c-2c9a-48d9-9f1c-ff82dab6d1dd"
    }
   },
   "outputs": [
    {
     "output_type": "display_data",
     "metadata": {
      "application/vnd.databricks.v1+output": {
       "datasetInfos": [],
       "data": "<div class=\"ansiout\"></div>",
       "removedWidgets": [],
       "addedWidgets": {},
       "type": "html",
       "arguments": {}
      }
     },
     "data": {
      "text/html": [
       "<style scoped>\n  .ansiout {\n    display: block;\n    unicode-bidi: embed;\n    white-space: pre-wrap;\n    word-wrap: break-word;\n    word-break: break-all;\n    font-family: \"Source Code Pro\", \"Menlo\", monospace;;\n    font-size: 13px;\n    color: #555;\n    margin-left: 4px;\n    line-height: 19px;\n  }\n</style>\n<div class=\"ansiout\"></div>"
      ]
     }
    }
   ],
   "execution_count": 0
  },
  {
   "cell_type": "markdown",
   "source": [
    "* **hum**: Normalized humidity. The values are divided to 100 (max)\n* **windspeed**: Normalized wind speed. The values are divided to 67 (max)"
   ],
   "metadata": {
    "application/vnd.databricks.v1+cell": {
     "title": "",
     "showTitle": false,
     "inputWidgets": {},
     "nuid": "a05d5052-d11e-4d58-b5ec-f8c0c982be3f"
    }
   }
  },
  {
   "cell_type": "code",
   "source": [
    "hum_new_DF = newDF.withColumn(\"hum_new\",newDF.hum * 100)\nhum_new_DF.printSchema()\nhum_new_DF.show()"
   ],
   "metadata": {
    "application/vnd.databricks.v1+cell": {
     "title": "",
     "showTitle": false,
     "inputWidgets": {},
     "nuid": "593570ff-95ff-4cfd-bfd3-8a9967a2354f"
    }
   },
   "outputs": [
    {
     "output_type": "display_data",
     "metadata": {
      "application/vnd.databricks.v1+output": {
       "datasetInfos": [
        {
         "name": "hum_new_DF",
         "typeStr": "pyspark.sql.dataframe.DataFrame",
         "schema": {
          "fields": [
           {
            "metadata": {},
            "name": "instant",
            "nullable": true,
            "type": "integer"
           },
           {
            "metadata": {},
            "name": "dteday",
            "nullable": true,
            "type": "timestamp"
           },
           {
            "metadata": {},
            "name": "season",
            "nullable": true,
            "type": "string"
           },
           {
            "metadata": {},
            "name": "yr",
            "nullable": true,
            "type": "integer"
           },
           {
            "metadata": {},
            "name": "mnth",
            "nullable": true,
            "type": "integer"
           },
           {
            "metadata": {},
            "name": "hr",
            "nullable": true,
            "type": "integer"
           },
           {
            "metadata": {},
            "name": "holiday",
            "nullable": true,
            "type": "integer"
           },
           {
            "metadata": {},
            "name": "weekday",
            "nullable": true,
            "type": "integer"
           },
           {
            "metadata": {},
            "name": "workingday",
            "nullable": true,
            "type": "integer"
           },
           {
            "metadata": {},
            "name": "weathersit",
            "nullable": true,
            "type": "string"
           },
           {
            "metadata": {},
            "name": "temp",
            "nullable": true,
            "type": "double"
           },
           {
            "metadata": {},
            "name": "atemp",
            "nullable": true,
            "type": "double"
           },
           {
            "metadata": {},
            "name": "hum",
            "nullable": true,
            "type": "double"
           },
           {
            "metadata": {},
            "name": "windspeed",
            "nullable": true,
            "type": "double"
           },
           {
            "metadata": {},
            "name": "casual",
            "nullable": true,
            "type": "integer"
           },
           {
            "metadata": {},
            "name": "registered",
            "nullable": true,
            "type": "integer"
           },
           {
            "metadata": {},
            "name": "cnt",
            "nullable": true,
            "type": "integer"
           },
           {
            "metadata": {},
            "name": "hum_new",
            "nullable": true,
            "type": "double"
           }
          ],
          "type": "struct"
         },
         "tableIdentifier": null
        }
       ],
       "data": "<div class=\"ansiout\">root\n |-- instant: integer (nullable = true)\n |-- dteday: timestamp (nullable = true)\n |-- season: string (nullable = true)\n |-- yr: integer (nullable = true)\n |-- mnth: integer (nullable = true)\n |-- hr: integer (nullable = true)\n |-- holiday: integer (nullable = true)\n |-- weekday: integer (nullable = true)\n |-- workingday: integer (nullable = true)\n |-- weathersit: string (nullable = true)\n |-- temp: double (nullable = true)\n |-- atemp: double (nullable = true)\n |-- hum: double (nullable = true)\n |-- windspeed: double (nullable = true)\n |-- casual: integer (nullable = true)\n |-- registered: integer (nullable = true)\n |-- cnt: integer (nullable = true)\n |-- hum_new: double (nullable = true)\n\n+-------+-------------------+------+---+----+---+-------+-------+----------+---------------+----+------+----+---------+------+----------+---+-------+\n|instant|             dteday|season| yr|mnth| hr|holiday|weekday|workingday|     weathersit|temp| atemp| hum|windspeed|casual|registered|cnt|hum_new|\n+-------+-------------------+------+---+----+---+-------+-------+----------+---------------+----+------+----+---------+------+----------+---+-------+\n|      1|2011-01-01 00:00:00|spring|  0|   1|  0|      0|      6|         0|          Clear|0.24|0.2879|0.81|      0.0|     3|        13| 16|   81.0|\n|      2|2011-01-01 00:00:00|spring|  0|   1|  1|      0|      6|         0|          Clear|0.22|0.2727| 0.8|      0.0|     8|        32| 40|   80.0|\n|      3|2011-01-01 00:00:00|spring|  0|   1|  2|      0|      6|         0|          Clear|0.22|0.2727| 0.8|      0.0|     5|        27| 32|   80.0|\n|      4|2011-01-01 00:00:00|spring|  0|   1|  3|      0|      6|         0|          Clear|0.24|0.2879|0.75|      0.0|     3|        10| 13|   75.0|\n|      5|2011-01-01 00:00:00|spring|  0|   1|  4|      0|      6|         0|          Clear|0.24|0.2879|0.75|      0.0|     0|         1|  1|   75.0|\n|      6|2011-01-01 00:00:00|spring|  0|   1|  5|      0|      6|         0|           Mist|0.24|0.2576|0.75|   0.0896|     0|         1|  1|   75.0|\n|      7|2011-01-01 00:00:00|spring|  0|   1|  6|      0|      6|         0|          Clear|0.22|0.2727| 0.8|      0.0|     2|         0|  2|   80.0|\n|      8|2011-01-01 00:00:00|spring|  0|   1|  7|      0|      6|         0|          Clear| 0.2|0.2576|0.86|      0.0|     1|         2|  3|   86.0|\n|      9|2011-01-01 00:00:00|spring|  0|   1|  8|      0|      6|         0|          Clear|0.24|0.2879|0.75|      0.0|     1|         7|  8|   75.0|\n|     10|2011-01-01 00:00:00|spring|  0|   1|  9|      0|      6|         0|          Clear|0.32|0.3485|0.76|      0.0|     8|         6| 14|   76.0|\n|     11|2011-01-01 00:00:00|spring|  0|   1| 10|      0|      6|         0|          Clear|0.38|0.3939|0.76|   0.2537|    12|        24| 36|   76.0|\n|     12|2011-01-01 00:00:00|spring|  0|   1| 11|      0|      6|         0|          Clear|0.36|0.3333|0.81|   0.2836|    26|        30| 56|   81.0|\n|     13|2011-01-01 00:00:00|spring|  0|   1| 12|      0|      6|         0|          Clear|0.42|0.4242|0.77|   0.2836|    29|        55| 84|   77.0|\n|     14|2011-01-01 00:00:00|spring|  0|   1| 13|      0|      6|         0|           Mist|0.46|0.4545|0.72|   0.2985|    47|        47| 94|   72.0|\n|     15|2011-01-01 00:00:00|spring|  0|   1| 14|      0|      6|         0|           Mist|0.46|0.4545|0.72|   0.2836|    35|        71|106|   72.0|\n|     16|2011-01-01 00:00:00|spring|  0|   1| 15|      0|      6|         0|           Mist|0.44|0.4394|0.77|   0.2985|    40|        70|110|   77.0|\n|     17|2011-01-01 00:00:00|spring|  0|   1| 16|      0|      6|         0|           Mist|0.42|0.4242|0.82|   0.2985|    41|        52| 93|   82.0|\n|     18|2011-01-01 00:00:00|spring|  0|   1| 17|      0|      6|         0|           Mist|0.44|0.4394|0.82|   0.2836|    15|        52| 67|   82.0|\n|     19|2011-01-01 00:00:00|spring|  0|   1| 18|      0|      6|         0|Light Rain-Snow|0.42|0.4242|0.88|   0.2537|     9|        26| 35|   88.0|\n|     20|2011-01-01 00:00:00|spring|  0|   1| 19|      0|      6|         0|Light Rain-Snow|0.42|0.4242|0.88|   0.2537|     6|        31| 37|   88.0|\n+-------+-------------------+------+---+----+---+-------+-------+----------+---------------+----+------+----+---------+------+----------+---+-------+\nonly showing top 20 rows\n\n</div>",
       "removedWidgets": [],
       "addedWidgets": {},
       "type": "html",
       "arguments": {}
      }
     },
     "data": {
      "text/html": [
       "<style scoped>\n  .ansiout {\n    display: block;\n    unicode-bidi: embed;\n    white-space: pre-wrap;\n    word-wrap: break-word;\n    word-break: break-all;\n    font-family: \"Source Code Pro\", \"Menlo\", monospace;;\n    font-size: 13px;\n    color: #555;\n    margin-left: 4px;\n    line-height: 19px;\n  }\n</style>\n<div class=\"ansiout\">root\n-- instant: integer (nullable = true)\n-- dteday: timestamp (nullable = true)\n-- season: string (nullable = true)\n-- yr: integer (nullable = true)\n-- mnth: integer (nullable = true)\n-- hr: integer (nullable = true)\n-- holiday: integer (nullable = true)\n-- weekday: integer (nullable = true)\n-- workingday: integer (nullable = true)\n-- weathersit: string (nullable = true)\n-- temp: double (nullable = true)\n-- atemp: double (nullable = true)\n-- hum: double (nullable = true)\n-- windspeed: double (nullable = true)\n-- casual: integer (nullable = true)\n-- registered: integer (nullable = true)\n-- cnt: integer (nullable = true)\n-- hum_new: double (nullable = true)\n\n+-------+-------------------+------+---+----+---+-------+-------+----------+---------------+----+------+----+---------+------+----------+---+-------+\ninstant|             dteday|season| yr|mnth| hr|holiday|weekday|workingday|     weathersit|temp| atemp| hum|windspeed|casual|registered|cnt|hum_new|\n+-------+-------------------+------+---+----+---+-------+-------+----------+---------------+----+------+----+---------+------+----------+---+-------+\n      1|2011-01-01 00:00:00|spring|  0|   1|  0|      0|      6|         0|          Clear|0.24|0.2879|0.81|      0.0|     3|        13| 16|   81.0|\n      2|2011-01-01 00:00:00|spring|  0|   1|  1|      0|      6|         0|          Clear|0.22|0.2727| 0.8|      0.0|     8|        32| 40|   80.0|\n      3|2011-01-01 00:00:00|spring|  0|   1|  2|      0|      6|         0|          Clear|0.22|0.2727| 0.8|      0.0|     5|        27| 32|   80.0|\n      4|2011-01-01 00:00:00|spring|  0|   1|  3|      0|      6|         0|          Clear|0.24|0.2879|0.75|      0.0|     3|        10| 13|   75.0|\n      5|2011-01-01 00:00:00|spring|  0|   1|  4|      0|      6|         0|          Clear|0.24|0.2879|0.75|      0.0|     0|         1|  1|   75.0|\n      6|2011-01-01 00:00:00|spring|  0|   1|  5|      0|      6|         0|           Mist|0.24|0.2576|0.75|   0.0896|     0|         1|  1|   75.0|\n      7|2011-01-01 00:00:00|spring|  0|   1|  6|      0|      6|         0|          Clear|0.22|0.2727| 0.8|      0.0|     2|         0|  2|   80.0|\n      8|2011-01-01 00:00:00|spring|  0|   1|  7|      0|      6|         0|          Clear| 0.2|0.2576|0.86|      0.0|     1|         2|  3|   86.0|\n      9|2011-01-01 00:00:00|spring|  0|   1|  8|      0|      6|         0|          Clear|0.24|0.2879|0.75|      0.0|     1|         7|  8|   75.0|\n     10|2011-01-01 00:00:00|spring|  0|   1|  9|      0|      6|         0|          Clear|0.32|0.3485|0.76|      0.0|     8|         6| 14|   76.0|\n     11|2011-01-01 00:00:00|spring|  0|   1| 10|      0|      6|         0|          Clear|0.38|0.3939|0.76|   0.2537|    12|        24| 36|   76.0|\n     12|2011-01-01 00:00:00|spring|  0|   1| 11|      0|      6|         0|          Clear|0.36|0.3333|0.81|   0.2836|    26|        30| 56|   81.0|\n     13|2011-01-01 00:00:00|spring|  0|   1| 12|      0|      6|         0|          Clear|0.42|0.4242|0.77|   0.2836|    29|        55| 84|   77.0|\n     14|2011-01-01 00:00:00|spring|  0|   1| 13|      0|      6|         0|           Mist|0.46|0.4545|0.72|   0.2985|    47|        47| 94|   72.0|\n     15|2011-01-01 00:00:00|spring|  0|   1| 14|      0|      6|         0|           Mist|0.46|0.4545|0.72|   0.2836|    35|        71|106|   72.0|\n     16|2011-01-01 00:00:00|spring|  0|   1| 15|      0|      6|         0|           Mist|0.44|0.4394|0.77|   0.2985|    40|        70|110|   77.0|\n     17|2011-01-01 00:00:00|spring|  0|   1| 16|      0|      6|         0|           Mist|0.42|0.4242|0.82|   0.2985|    41|        52| 93|   82.0|\n     18|2011-01-01 00:00:00|spring|  0|   1| 17|      0|      6|         0|           Mist|0.44|0.4394|0.82|   0.2836|    15|        52| 67|   82.0|\n     19|2011-01-01 00:00:00|spring|  0|   1| 18|      0|      6|         0|Light Rain-Snow|0.42|0.4242|0.88|   0.2537|     9|        26| 35|   88.0|\n     20|2011-01-01 00:00:00|spring|  0|   1| 19|      0|      6|         0|Light Rain-Snow|0.42|0.4242|0.88|   0.2537|     6|        31| 37|   88.0|\n+-------+-------------------+------+---+----+---+-------+-------+----------+---------------+----+------+----+---------+------+----------+---+-------+\nonly showing top 20 rows\n\n</div>"
      ]
     }
    }
   ],
   "execution_count": 0
  },
  {
   "cell_type": "code",
   "source": [
    "windspeed_new_DF = newDF.withColumn(\"windspeed\", newDF.windspeed * 67)\nwindspeed_new_DF.printSchema()\nwindspeed_new_DF.select(\"windspeed\").show()"
   ],
   "metadata": {
    "application/vnd.databricks.v1+cell": {
     "title": "",
     "showTitle": false,
     "inputWidgets": {},
     "nuid": "3d4949b5-6b01-420b-9b38-6b613deacdc8"
    }
   },
   "outputs": [
    {
     "output_type": "display_data",
     "metadata": {
      "application/vnd.databricks.v1+output": {
       "datasetInfos": [
        {
         "name": "windspeed_new_DF",
         "typeStr": "pyspark.sql.dataframe.DataFrame",
         "schema": {
          "fields": [
           {
            "metadata": {},
            "name": "instant",
            "nullable": true,
            "type": "integer"
           },
           {
            "metadata": {},
            "name": "dteday",
            "nullable": true,
            "type": "timestamp"
           },
           {
            "metadata": {},
            "name": "season",
            "nullable": true,
            "type": "string"
           },
           {
            "metadata": {},
            "name": "yr",
            "nullable": true,
            "type": "integer"
           },
           {
            "metadata": {},
            "name": "mnth",
            "nullable": true,
            "type": "integer"
           },
           {
            "metadata": {},
            "name": "hr",
            "nullable": true,
            "type": "integer"
           },
           {
            "metadata": {},
            "name": "holiday",
            "nullable": true,
            "type": "integer"
           },
           {
            "metadata": {},
            "name": "weekday",
            "nullable": true,
            "type": "integer"
           },
           {
            "metadata": {},
            "name": "workingday",
            "nullable": true,
            "type": "integer"
           },
           {
            "metadata": {},
            "name": "weathersit",
            "nullable": true,
            "type": "string"
           },
           {
            "metadata": {},
            "name": "temp",
            "nullable": true,
            "type": "double"
           },
           {
            "metadata": {},
            "name": "atemp",
            "nullable": true,
            "type": "double"
           },
           {
            "metadata": {},
            "name": "hum",
            "nullable": true,
            "type": "double"
           },
           {
            "metadata": {},
            "name": "windspeed",
            "nullable": true,
            "type": "double"
           },
           {
            "metadata": {},
            "name": "casual",
            "nullable": true,
            "type": "integer"
           },
           {
            "metadata": {},
            "name": "registered",
            "nullable": true,
            "type": "integer"
           },
           {
            "metadata": {},
            "name": "cnt",
            "nullable": true,
            "type": "integer"
           }
          ],
          "type": "struct"
         },
         "tableIdentifier": null
        }
       ],
       "data": "<div class=\"ansiout\">root\n |-- instant: integer (nullable = true)\n |-- dteday: timestamp (nullable = true)\n |-- season: string (nullable = true)\n |-- yr: integer (nullable = true)\n |-- mnth: integer (nullable = true)\n |-- hr: integer (nullable = true)\n |-- holiday: integer (nullable = true)\n |-- weekday: integer (nullable = true)\n |-- workingday: integer (nullable = true)\n |-- weathersit: string (nullable = true)\n |-- temp: double (nullable = true)\n |-- atemp: double (nullable = true)\n |-- hum: double (nullable = true)\n |-- windspeed: double (nullable = true)\n |-- casual: integer (nullable = true)\n |-- registered: integer (nullable = true)\n |-- cnt: integer (nullable = true)\n\n+------------------+\n|         windspeed|\n+------------------+\n|               0.0|\n|               0.0|\n|               0.0|\n|               0.0|\n|               0.0|\n|            6.0032|\n|               0.0|\n|               0.0|\n|               0.0|\n|               0.0|\n|16.997899999999998|\n|           19.0012|\n|           19.0012|\n|19.999499999999998|\n|           19.0012|\n|19.999499999999998|\n|19.999499999999998|\n|           19.0012|\n|16.997899999999998|\n|16.997899999999998|\n+------------------+\nonly showing top 20 rows\n\n</div>",
       "removedWidgets": [],
       "addedWidgets": {},
       "type": "html",
       "arguments": {}
      }
     },
     "data": {
      "text/html": [
       "<style scoped>\n  .ansiout {\n    display: block;\n    unicode-bidi: embed;\n    white-space: pre-wrap;\n    word-wrap: break-word;\n    word-break: break-all;\n    font-family: \"Source Code Pro\", \"Menlo\", monospace;;\n    font-size: 13px;\n    color: #555;\n    margin-left: 4px;\n    line-height: 19px;\n  }\n</style>\n<div class=\"ansiout\">root\n-- instant: integer (nullable = true)\n-- dteday: timestamp (nullable = true)\n-- season: string (nullable = true)\n-- yr: integer (nullable = true)\n-- mnth: integer (nullable = true)\n-- hr: integer (nullable = true)\n-- holiday: integer (nullable = true)\n-- weekday: integer (nullable = true)\n-- workingday: integer (nullable = true)\n-- weathersit: string (nullable = true)\n-- temp: double (nullable = true)\n-- atemp: double (nullable = true)\n-- hum: double (nullable = true)\n-- windspeed: double (nullable = true)\n-- casual: integer (nullable = true)\n-- registered: integer (nullable = true)\n-- cnt: integer (nullable = true)\n\n+------------------+\n         windspeed|\n+------------------+\n               0.0|\n               0.0|\n               0.0|\n               0.0|\n               0.0|\n            6.0032|\n               0.0|\n               0.0|\n               0.0|\n               0.0|\n16.997899999999998|\n           19.0012|\n           19.0012|\n19.999499999999998|\n           19.0012|\n19.999499999999998|\n19.999499999999998|\n           19.0012|\n16.997899999999998|\n16.997899999999998|\n+------------------+\nonly showing top 20 rows\n\n</div>"
      ]
     }
    }
   ],
   "execution_count": 0
  },
  {
   "cell_type": "code",
   "source": [
    "# Spark SQL functions lit() and typedLit() are used to add a new column by assigning a literal or constant value to Spark DataFrame. Both functions return Column as return type.\n\n# Both of these are available in Spark by importing org.apache.spark.sql.functions\n\nfrom pyspark.sql.functions import lit\n\n## New Column - Replace a Column with Constants\nnewDF.withColumn(\"cnt\", lit(10)).show()\n\n## Add Integer to a column\nnewDF.select('*', (newDF.cnt + 10000).alias('newCnt')).show()"
   ],
   "metadata": {
    "application/vnd.databricks.v1+cell": {
     "title": "",
     "showTitle": false,
     "inputWidgets": {},
     "nuid": "6d775804-d038-46c0-b7da-8b364cdfc093"
    }
   },
   "outputs": [
    {
     "output_type": "display_data",
     "metadata": {
      "application/vnd.databricks.v1+output": {
       "datasetInfos": [],
       "data": "<div class=\"ansiout\">+-------+-------------------+------+---+----+---+-------+-------+----------+---------------+----+------+----+---------+------+----------+---+\n|instant|             dteday|season| yr|mnth| hr|holiday|weekday|workingday|     weathersit|temp| atemp| hum|windspeed|casual|registered|cnt|\n+-------+-------------------+------+---+----+---+-------+-------+----------+---------------+----+------+----+---------+------+----------+---+\n|      1|2011-01-01 00:00:00|spring|  0|   1|  0|      0|      6|         0|          Clear|0.24|0.2879|0.81|      0.0|     3|        13| 10|\n|      2|2011-01-01 00:00:00|spring|  0|   1|  1|      0|      6|         0|          Clear|0.22|0.2727| 0.8|      0.0|     8|        32| 10|\n|      3|2011-01-01 00:00:00|spring|  0|   1|  2|      0|      6|         0|          Clear|0.22|0.2727| 0.8|      0.0|     5|        27| 10|\n|      4|2011-01-01 00:00:00|spring|  0|   1|  3|      0|      6|         0|          Clear|0.24|0.2879|0.75|      0.0|     3|        10| 10|\n|      5|2011-01-01 00:00:00|spring|  0|   1|  4|      0|      6|         0|          Clear|0.24|0.2879|0.75|      0.0|     0|         1| 10|\n|      6|2011-01-01 00:00:00|spring|  0|   1|  5|      0|      6|         0|           Mist|0.24|0.2576|0.75|   0.0896|     0|         1| 10|\n|      7|2011-01-01 00:00:00|spring|  0|   1|  6|      0|      6|         0|          Clear|0.22|0.2727| 0.8|      0.0|     2|         0| 10|\n|      8|2011-01-01 00:00:00|spring|  0|   1|  7|      0|      6|         0|          Clear| 0.2|0.2576|0.86|      0.0|     1|         2| 10|\n|      9|2011-01-01 00:00:00|spring|  0|   1|  8|      0|      6|         0|          Clear|0.24|0.2879|0.75|      0.0|     1|         7| 10|\n|     10|2011-01-01 00:00:00|spring|  0|   1|  9|      0|      6|         0|          Clear|0.32|0.3485|0.76|      0.0|     8|         6| 10|\n|     11|2011-01-01 00:00:00|spring|  0|   1| 10|      0|      6|         0|          Clear|0.38|0.3939|0.76|   0.2537|    12|        24| 10|\n|     12|2011-01-01 00:00:00|spring|  0|   1| 11|      0|      6|         0|          Clear|0.36|0.3333|0.81|   0.2836|    26|        30| 10|\n|     13|2011-01-01 00:00:00|spring|  0|   1| 12|      0|      6|         0|          Clear|0.42|0.4242|0.77|   0.2836|    29|        55| 10|\n|     14|2011-01-01 00:00:00|spring|  0|   1| 13|      0|      6|         0|           Mist|0.46|0.4545|0.72|   0.2985|    47|        47| 10|\n|     15|2011-01-01 00:00:00|spring|  0|   1| 14|      0|      6|         0|           Mist|0.46|0.4545|0.72|   0.2836|    35|        71| 10|\n|     16|2011-01-01 00:00:00|spring|  0|   1| 15|      0|      6|         0|           Mist|0.44|0.4394|0.77|   0.2985|    40|        70| 10|\n|     17|2011-01-01 00:00:00|spring|  0|   1| 16|      0|      6|         0|           Mist|0.42|0.4242|0.82|   0.2985|    41|        52| 10|\n|     18|2011-01-01 00:00:00|spring|  0|   1| 17|      0|      6|         0|           Mist|0.44|0.4394|0.82|   0.2836|    15|        52| 10|\n|     19|2011-01-01 00:00:00|spring|  0|   1| 18|      0|      6|         0|Light Rain-Snow|0.42|0.4242|0.88|   0.2537|     9|        26| 10|\n|     20|2011-01-01 00:00:00|spring|  0|   1| 19|      0|      6|         0|Light Rain-Snow|0.42|0.4242|0.88|   0.2537|     6|        31| 10|\n+-------+-------------------+------+---+----+---+-------+-------+----------+---------------+----+------+----+---------+------+----------+---+\nonly showing top 20 rows\n\n+-------+-------------------+------+---+----+---+-------+-------+----------+---------------+----+------+----+---------+------+----------+---+------+\n|instant|             dteday|season| yr|mnth| hr|holiday|weekday|workingday|     weathersit|temp| atemp| hum|windspeed|casual|registered|cnt|newCnt|\n+-------+-------------------+------+---+----+---+-------+-------+----------+---------------+----+------+----+---------+------+----------+---+------+\n|      1|2011-01-01 00:00:00|spring|  0|   1|  0|      0|      6|         0|          Clear|0.24|0.2879|0.81|      0.0|     3|        13| 16| 10016|\n|      2|2011-01-01 00:00:00|spring|  0|   1|  1|      0|      6|         0|          Clear|0.22|0.2727| 0.8|      0.0|     8|        32| 40| 10040|\n|      3|2011-01-01 00:00:00|spring|  0|   1|  2|      0|      6|         0|          Clear|0.22|0.2727| 0.8|      0.0|     5|        27| 32| 10032|\n|      4|2011-01-01 00:00:00|spring|  0|   1|  3|      0|      6|         0|          Clear|0.24|0.2879|0.75|      0.0|     3|        10| 13| 10013|\n|      5|2011-01-01 00:00:00|spring|  0|   1|  4|      0|      6|         0|          Clear|0.24|0.2879|0.75|      0.0|     0|         1|  1| 10001|\n|      6|2011-01-01 00:00:00|spring|  0|   1|  5|      0|      6|         0|           Mist|0.24|0.2576|0.75|   0.0896|     0|         1|  1| 10001|\n|      7|2011-01-01 00:00:00|spring|  0|   1|  6|      0|      6|         0|          Clear|0.22|0.2727| 0.8|      0.0|     2|         0|  2| 10002|\n|      8|2011-01-01 00:00:00|spring|  0|   1|  7|      0|      6|         0|          Clear| 0.2|0.2576|0.86|      0.0|     1|         2|  3| 10003|\n|      9|2011-01-01 00:00:00|spring|  0|   1|  8|      0|      6|         0|          Clear|0.24|0.2879|0.75|      0.0|     1|         7|  8| 10008|\n|     10|2011-01-01 00:00:00|spring|  0|   1|  9|      0|      6|         0|          Clear|0.32|0.3485|0.76|      0.0|     8|         6| 14| 10014|\n|     11|2011-01-01 00:00:00|spring|  0|   1| 10|      0|      6|         0|          Clear|0.38|0.3939|0.76|   0.2537|    12|        24| 36| 10036|\n|     12|2011-01-01 00:00:00|spring|  0|   1| 11|      0|      6|         0|          Clear|0.36|0.3333|0.81|   0.2836|    26|        30| 56| 10056|\n|     13|2011-01-01 00:00:00|spring|  0|   1| 12|      0|      6|         0|          Clear|0.42|0.4242|0.77|   0.2836|    29|        55| 84| 10084|\n|     14|2011-01-01 00:00:00|spring|  0|   1| 13|      0|      6|         0|           Mist|0.46|0.4545|0.72|   0.2985|    47|        47| 94| 10094|\n|     15|2011-01-01 00:00:00|spring|  0|   1| 14|      0|      6|         0|           Mist|0.46|0.4545|0.72|   0.2836|    35|        71|106| 10106|\n|     16|2011-01-01 00:00:00|spring|  0|   1| 15|      0|      6|         0|           Mist|0.44|0.4394|0.77|   0.2985|    40|        70|110| 10110|\n|     17|2011-01-01 00:00:00|spring|  0|   1| 16|      0|      6|         0|           Mist|0.42|0.4242|0.82|   0.2985|    41|        52| 93| 10093|\n|     18|2011-01-01 00:00:00|spring|  0|   1| 17|      0|      6|         0|           Mist|0.44|0.4394|0.82|   0.2836|    15|        52| 67| 10067|\n|     19|2011-01-01 00:00:00|spring|  0|   1| 18|      0|      6|         0|Light Rain-Snow|0.42|0.4242|0.88|   0.2537|     9|        26| 35| 10035|\n|     20|2011-01-01 00:00:00|spring|  0|   1| 19|      0|      6|         0|Light Rain-Snow|0.42|0.4242|0.88|   0.2537|     6|        31| 37| 10037|\n+-------+-------------------+------+---+----+---+-------+-------+----------+---------------+----+------+----+---------+------+----------+---+------+\nonly showing top 20 rows\n\n</div>",
       "removedWidgets": [],
       "addedWidgets": {},
       "type": "html",
       "arguments": {}
      }
     },
     "data": {
      "text/html": [
       "<style scoped>\n  .ansiout {\n    display: block;\n    unicode-bidi: embed;\n    white-space: pre-wrap;\n    word-wrap: break-word;\n    word-break: break-all;\n    font-family: \"Source Code Pro\", \"Menlo\", monospace;;\n    font-size: 13px;\n    color: #555;\n    margin-left: 4px;\n    line-height: 19px;\n  }\n</style>\n<div class=\"ansiout\">+-------+-------------------+------+---+----+---+-------+-------+----------+---------------+----+------+----+---------+------+----------+---+\ninstant|             dteday|season| yr|mnth| hr|holiday|weekday|workingday|     weathersit|temp| atemp| hum|windspeed|casual|registered|cnt|\n+-------+-------------------+------+---+----+---+-------+-------+----------+---------------+----+------+----+---------+------+----------+---+\n      1|2011-01-01 00:00:00|spring|  0|   1|  0|      0|      6|         0|          Clear|0.24|0.2879|0.81|      0.0|     3|        13| 10|\n      2|2011-01-01 00:00:00|spring|  0|   1|  1|      0|      6|         0|          Clear|0.22|0.2727| 0.8|      0.0|     8|        32| 10|\n      3|2011-01-01 00:00:00|spring|  0|   1|  2|      0|      6|         0|          Clear|0.22|0.2727| 0.8|      0.0|     5|        27| 10|\n      4|2011-01-01 00:00:00|spring|  0|   1|  3|      0|      6|         0|          Clear|0.24|0.2879|0.75|      0.0|     3|        10| 10|\n      5|2011-01-01 00:00:00|spring|  0|   1|  4|      0|      6|         0|          Clear|0.24|0.2879|0.75|      0.0|     0|         1| 10|\n      6|2011-01-01 00:00:00|spring|  0|   1|  5|      0|      6|         0|           Mist|0.24|0.2576|0.75|   0.0896|     0|         1| 10|\n      7|2011-01-01 00:00:00|spring|  0|   1|  6|      0|      6|         0|          Clear|0.22|0.2727| 0.8|      0.0|     2|         0| 10|\n      8|2011-01-01 00:00:00|spring|  0|   1|  7|      0|      6|         0|          Clear| 0.2|0.2576|0.86|      0.0|     1|         2| 10|\n      9|2011-01-01 00:00:00|spring|  0|   1|  8|      0|      6|         0|          Clear|0.24|0.2879|0.75|      0.0|     1|         7| 10|\n     10|2011-01-01 00:00:00|spring|  0|   1|  9|      0|      6|         0|          Clear|0.32|0.3485|0.76|      0.0|     8|         6| 10|\n     11|2011-01-01 00:00:00|spring|  0|   1| 10|      0|      6|         0|          Clear|0.38|0.3939|0.76|   0.2537|    12|        24| 10|\n     12|2011-01-01 00:00:00|spring|  0|   1| 11|      0|      6|         0|          Clear|0.36|0.3333|0.81|   0.2836|    26|        30| 10|\n     13|2011-01-01 00:00:00|spring|  0|   1| 12|      0|      6|         0|          Clear|0.42|0.4242|0.77|   0.2836|    29|        55| 10|\n     14|2011-01-01 00:00:00|spring|  0|   1| 13|      0|      6|         0|           Mist|0.46|0.4545|0.72|   0.2985|    47|        47| 10|\n     15|2011-01-01 00:00:00|spring|  0|   1| 14|      0|      6|         0|           Mist|0.46|0.4545|0.72|   0.2836|    35|        71| 10|\n     16|2011-01-01 00:00:00|spring|  0|   1| 15|      0|      6|         0|           Mist|0.44|0.4394|0.77|   0.2985|    40|        70| 10|\n     17|2011-01-01 00:00:00|spring|  0|   1| 16|      0|      6|         0|           Mist|0.42|0.4242|0.82|   0.2985|    41|        52| 10|\n     18|2011-01-01 00:00:00|spring|  0|   1| 17|      0|      6|         0|           Mist|0.44|0.4394|0.82|   0.2836|    15|        52| 10|\n     19|2011-01-01 00:00:00|spring|  0|   1| 18|      0|      6|         0|Light Rain-Snow|0.42|0.4242|0.88|   0.2537|     9|        26| 10|\n     20|2011-01-01 00:00:00|spring|  0|   1| 19|      0|      6|         0|Light Rain-Snow|0.42|0.4242|0.88|   0.2537|     6|        31| 10|\n+-------+-------------------+------+---+----+---+-------+-------+----------+---------------+----+------+----+---------+------+----------+---+\nonly showing top 20 rows\n\n+-------+-------------------+------+---+----+---+-------+-------+----------+---------------+----+------+----+---------+------+----------+---+------+\ninstant|             dteday|season| yr|mnth| hr|holiday|weekday|workingday|     weathersit|temp| atemp| hum|windspeed|casual|registered|cnt|newCnt|\n+-------+-------------------+------+---+----+---+-------+-------+----------+---------------+----+------+----+---------+------+----------+---+------+\n      1|2011-01-01 00:00:00|spring|  0|   1|  0|      0|      6|         0|          Clear|0.24|0.2879|0.81|      0.0|     3|        13| 16| 10016|\n      2|2011-01-01 00:00:00|spring|  0|   1|  1|      0|      6|         0|          Clear|0.22|0.2727| 0.8|      0.0|     8|        32| 40| 10040|\n      3|2011-01-01 00:00:00|spring|  0|   1|  2|      0|      6|         0|          Clear|0.22|0.2727| 0.8|      0.0|     5|        27| 32| 10032|\n      4|2011-01-01 00:00:00|spring|  0|   1|  3|      0|      6|         0|          Clear|0.24|0.2879|0.75|      0.0|     3|        10| 13| 10013|\n      5|2011-01-01 00:00:00|spring|  0|   1|  4|      0|      6|         0|          Clear|0.24|0.2879|0.75|      0.0|     0|         1|  1| 10001|\n      6|2011-01-01 00:00:00|spring|  0|   1|  5|      0|      6|         0|           Mist|0.24|0.2576|0.75|   0.0896|     0|         1|  1| 10001|\n      7|2011-01-01 00:00:00|spring|  0|   1|  6|      0|      6|         0|          Clear|0.22|0.2727| 0.8|      0.0|     2|         0|  2| 10002|\n      8|2011-01-01 00:00:00|spring|  0|   1|  7|      0|      6|         0|          Clear| 0.2|0.2576|0.86|      0.0|     1|         2|  3| 10003|\n      9|2011-01-01 00:00:00|spring|  0|   1|  8|      0|      6|         0|          Clear|0.24|0.2879|0.75|      0.0|     1|         7|  8| 10008|\n     10|2011-01-01 00:00:00|spring|  0|   1|  9|      0|      6|         0|          Clear|0.32|0.3485|0.76|      0.0|     8|         6| 14| 10014|\n     11|2011-01-01 00:00:00|spring|  0|   1| 10|      0|      6|         0|          Clear|0.38|0.3939|0.76|   0.2537|    12|        24| 36| 10036|\n     12|2011-01-01 00:00:00|spring|  0|   1| 11|      0|      6|         0|          Clear|0.36|0.3333|0.81|   0.2836|    26|        30| 56| 10056|\n     13|2011-01-01 00:00:00|spring|  0|   1| 12|      0|      6|         0|          Clear|0.42|0.4242|0.77|   0.2836|    29|        55| 84| 10084|\n     14|2011-01-01 00:00:00|spring|  0|   1| 13|      0|      6|         0|           Mist|0.46|0.4545|0.72|   0.2985|    47|        47| 94| 10094|\n     15|2011-01-01 00:00:00|spring|  0|   1| 14|      0|      6|         0|           Mist|0.46|0.4545|0.72|   0.2836|    35|        71|106| 10106|\n     16|2011-01-01 00:00:00|spring|  0|   1| 15|      0|      6|         0|           Mist|0.44|0.4394|0.77|   0.2985|    40|        70|110| 10110|\n     17|2011-01-01 00:00:00|spring|  0|   1| 16|      0|      6|         0|           Mist|0.42|0.4242|0.82|   0.2985|    41|        52| 93| 10093|\n     18|2011-01-01 00:00:00|spring|  0|   1| 17|      0|      6|         0|           Mist|0.44|0.4394|0.82|   0.2836|    15|        52| 67| 10067|\n     19|2011-01-01 00:00:00|spring|  0|   1| 18|      0|      6|         0|Light Rain-Snow|0.42|0.4242|0.88|   0.2537|     9|        26| 35| 10035|\n     20|2011-01-01 00:00:00|spring|  0|   1| 19|      0|      6|         0|Light Rain-Snow|0.42|0.4242|0.88|   0.2537|     6|        31| 37| 10037|\n+-------+-------------------+------+---+----+---+-------+-------+----------+---------------+----+------+----+---------+------+----------+---+------+\nonly showing top 20 rows\n\n</div>"
      ]
     }
    }
   ],
   "execution_count": 0
  },
  {
   "cell_type": "code",
   "source": [
    "newDF.select(col(\"cnt\").alias(\"totalCnt\")).show()\nnewDF.withColumnRenamed(\"cnt\", \"totalCnt\").show()"
   ],
   "metadata": {
    "application/vnd.databricks.v1+cell": {
     "title": "",
     "showTitle": false,
     "inputWidgets": {},
     "nuid": "e0769f81-dd2c-4952-beb3-742f51e9a65c"
    }
   },
   "outputs": [
    {
     "output_type": "display_data",
     "metadata": {
      "application/vnd.databricks.v1+output": {
       "datasetInfos": [],
       "data": "<div class=\"ansiout\">+--------+\n|totalCnt|\n+--------+\n|      16|\n|      40|\n|      32|\n|      13|\n|       1|\n|       1|\n|       2|\n|       3|\n|       8|\n|      14|\n|      36|\n|      56|\n|      84|\n|      94|\n|     106|\n|     110|\n|      93|\n|      67|\n|      35|\n|      37|\n+--------+\nonly showing top 20 rows\n\n+-------+-------------------+------+---+----+---+-------+-------+----------+---------------+----+------+----+---------+------+----------+--------+\n|instant|             dteday|season| yr|mnth| hr|holiday|weekday|workingday|     weathersit|temp| atemp| hum|windspeed|casual|registered|totalCnt|\n+-------+-------------------+------+---+----+---+-------+-------+----------+---------------+----+------+----+---------+------+----------+--------+\n|      1|2011-01-01 00:00:00|spring|  0|   1|  0|      0|      6|         0|          Clear|0.24|0.2879|0.81|      0.0|     3|        13|      16|\n|      2|2011-01-01 00:00:00|spring|  0|   1|  1|      0|      6|         0|          Clear|0.22|0.2727| 0.8|      0.0|     8|        32|      40|\n|      3|2011-01-01 00:00:00|spring|  0|   1|  2|      0|      6|         0|          Clear|0.22|0.2727| 0.8|      0.0|     5|        27|      32|\n|      4|2011-01-01 00:00:00|spring|  0|   1|  3|      0|      6|         0|          Clear|0.24|0.2879|0.75|      0.0|     3|        10|      13|\n|      5|2011-01-01 00:00:00|spring|  0|   1|  4|      0|      6|         0|          Clear|0.24|0.2879|0.75|      0.0|     0|         1|       1|\n|      6|2011-01-01 00:00:00|spring|  0|   1|  5|      0|      6|         0|           Mist|0.24|0.2576|0.75|   0.0896|     0|         1|       1|\n|      7|2011-01-01 00:00:00|spring|  0|   1|  6|      0|      6|         0|          Clear|0.22|0.2727| 0.8|      0.0|     2|         0|       2|\n|      8|2011-01-01 00:00:00|spring|  0|   1|  7|      0|      6|         0|          Clear| 0.2|0.2576|0.86|      0.0|     1|         2|       3|\n|      9|2011-01-01 00:00:00|spring|  0|   1|  8|      0|      6|         0|          Clear|0.24|0.2879|0.75|      0.0|     1|         7|       8|\n|     10|2011-01-01 00:00:00|spring|  0|   1|  9|      0|      6|         0|          Clear|0.32|0.3485|0.76|      0.0|     8|         6|      14|\n|     11|2011-01-01 00:00:00|spring|  0|   1| 10|      0|      6|         0|          Clear|0.38|0.3939|0.76|   0.2537|    12|        24|      36|\n|     12|2011-01-01 00:00:00|spring|  0|   1| 11|      0|      6|         0|          Clear|0.36|0.3333|0.81|   0.2836|    26|        30|      56|\n|     13|2011-01-01 00:00:00|spring|  0|   1| 12|      0|      6|         0|          Clear|0.42|0.4242|0.77|   0.2836|    29|        55|      84|\n|     14|2011-01-01 00:00:00|spring|  0|   1| 13|      0|      6|         0|           Mist|0.46|0.4545|0.72|   0.2985|    47|        47|      94|\n|     15|2011-01-01 00:00:00|spring|  0|   1| 14|      0|      6|         0|           Mist|0.46|0.4545|0.72|   0.2836|    35|        71|     106|\n|     16|2011-01-01 00:00:00|spring|  0|   1| 15|      0|      6|         0|           Mist|0.44|0.4394|0.77|   0.2985|    40|        70|     110|\n|     17|2011-01-01 00:00:00|spring|  0|   1| 16|      0|      6|         0|           Mist|0.42|0.4242|0.82|   0.2985|    41|        52|      93|\n|     18|2011-01-01 00:00:00|spring|  0|   1| 17|      0|      6|         0|           Mist|0.44|0.4394|0.82|   0.2836|    15|        52|      67|\n|     19|2011-01-01 00:00:00|spring|  0|   1| 18|      0|      6|         0|Light Rain-Snow|0.42|0.4242|0.88|   0.2537|     9|        26|      35|\n|     20|2011-01-01 00:00:00|spring|  0|   1| 19|      0|      6|         0|Light Rain-Snow|0.42|0.4242|0.88|   0.2537|     6|        31|      37|\n+-------+-------------------+------+---+----+---+-------+-------+----------+---------------+----+------+----+---------+------+----------+--------+\nonly showing top 20 rows\n\n</div>",
       "removedWidgets": [],
       "addedWidgets": {},
       "type": "html",
       "arguments": {}
      }
     },
     "data": {
      "text/html": [
       "<style scoped>\n  .ansiout {\n    display: block;\n    unicode-bidi: embed;\n    white-space: pre-wrap;\n    word-wrap: break-word;\n    word-break: break-all;\n    font-family: \"Source Code Pro\", \"Menlo\", monospace;;\n    font-size: 13px;\n    color: #555;\n    margin-left: 4px;\n    line-height: 19px;\n  }\n</style>\n<div class=\"ansiout\">+--------+\ntotalCnt|\n+--------+\n      16|\n      40|\n      32|\n      13|\n       1|\n       1|\n       2|\n       3|\n       8|\n      14|\n      36|\n      56|\n      84|\n      94|\n     106|\n     110|\n      93|\n      67|\n      35|\n      37|\n+--------+\nonly showing top 20 rows\n\n+-------+-------------------+------+---+----+---+-------+-------+----------+---------------+----+------+----+---------+------+----------+--------+\ninstant|             dteday|season| yr|mnth| hr|holiday|weekday|workingday|     weathersit|temp| atemp| hum|windspeed|casual|registered|totalCnt|\n+-------+-------------------+------+---+----+---+-------+-------+----------+---------------+----+------+----+---------+------+----------+--------+\n      1|2011-01-01 00:00:00|spring|  0|   1|  0|      0|      6|         0|          Clear|0.24|0.2879|0.81|      0.0|     3|        13|      16|\n      2|2011-01-01 00:00:00|spring|  0|   1|  1|      0|      6|         0|          Clear|0.22|0.2727| 0.8|      0.0|     8|        32|      40|\n      3|2011-01-01 00:00:00|spring|  0|   1|  2|      0|      6|         0|          Clear|0.22|0.2727| 0.8|      0.0|     5|        27|      32|\n      4|2011-01-01 00:00:00|spring|  0|   1|  3|      0|      6|         0|          Clear|0.24|0.2879|0.75|      0.0|     3|        10|      13|\n      5|2011-01-01 00:00:00|spring|  0|   1|  4|      0|      6|         0|          Clear|0.24|0.2879|0.75|      0.0|     0|         1|       1|\n      6|2011-01-01 00:00:00|spring|  0|   1|  5|      0|      6|         0|           Mist|0.24|0.2576|0.75|   0.0896|     0|         1|       1|\n      7|2011-01-01 00:00:00|spring|  0|   1|  6|      0|      6|         0|          Clear|0.22|0.2727| 0.8|      0.0|     2|         0|       2|\n      8|2011-01-01 00:00:00|spring|  0|   1|  7|      0|      6|         0|          Clear| 0.2|0.2576|0.86|      0.0|     1|         2|       3|\n      9|2011-01-01 00:00:00|spring|  0|   1|  8|      0|      6|         0|          Clear|0.24|0.2879|0.75|      0.0|     1|         7|       8|\n     10|2011-01-01 00:00:00|spring|  0|   1|  9|      0|      6|         0|          Clear|0.32|0.3485|0.76|      0.0|     8|         6|      14|\n     11|2011-01-01 00:00:00|spring|  0|   1| 10|      0|      6|         0|          Clear|0.38|0.3939|0.76|   0.2537|    12|        24|      36|\n     12|2011-01-01 00:00:00|spring|  0|   1| 11|      0|      6|         0|          Clear|0.36|0.3333|0.81|   0.2836|    26|        30|      56|\n     13|2011-01-01 00:00:00|spring|  0|   1| 12|      0|      6|         0|          Clear|0.42|0.4242|0.77|   0.2836|    29|        55|      84|\n     14|2011-01-01 00:00:00|spring|  0|   1| 13|      0|      6|         0|           Mist|0.46|0.4545|0.72|   0.2985|    47|        47|      94|\n     15|2011-01-01 00:00:00|spring|  0|   1| 14|      0|      6|         0|           Mist|0.46|0.4545|0.72|   0.2836|    35|        71|     106|\n     16|2011-01-01 00:00:00|spring|  0|   1| 15|      0|      6|         0|           Mist|0.44|0.4394|0.77|   0.2985|    40|        70|     110|\n     17|2011-01-01 00:00:00|spring|  0|   1| 16|      0|      6|         0|           Mist|0.42|0.4242|0.82|   0.2985|    41|        52|      93|\n     18|2011-01-01 00:00:00|spring|  0|   1| 17|      0|      6|         0|           Mist|0.44|0.4394|0.82|   0.2836|    15|        52|      67|\n     19|2011-01-01 00:00:00|spring|  0|   1| 18|      0|      6|         0|Light Rain-Snow|0.42|0.4242|0.88|   0.2537|     9|        26|      35|\n     20|2011-01-01 00:00:00|spring|  0|   1| 19|      0|      6|         0|Light Rain-Snow|0.42|0.4242|0.88|   0.2537|     6|        31|      37|\n+-------+-------------------+------+---+----+---+-------+-------+----------+---------------+----+------+----+---------+------+----------+--------+\nonly showing top 20 rows\n\n</div>"
      ]
     }
    }
   ],
   "execution_count": 0
  },
  {
   "cell_type": "markdown",
   "source": [
    "### Statistical functions\n\nSummary Stats \n* Mean, \n* StandardDeviance, \n* Min ,\n* Max , \n* Count\n\nFor more [Statistical-and-mathematical-functions](https://databricks.com/blog/2015/06/02/statistical-and-mathematical-functions-with-dataframes-in-spark.html)\n\n\nNOTE : \n1. Summary statistics (Mean, Standard Deviance, Min ,Max , Count) of Categorical columns\n2. DataFrame with Categorical Columns (StringType) on Describe : \n    -  output : mean, stddev are NULL\n    -   min & max values are calculated based on ASCII value of categories"
   ],
   "metadata": {
    "application/vnd.databricks.v1+cell": {
     "title": "",
     "showTitle": false,
     "inputWidgets": {},
     "nuid": "b3e7979b-c3b3-4884-ac35-7778577182eb"
    }
   }
  },
  {
   "cell_type": "code",
   "source": [
    "# Summary statistics (Mean, StandardDeviance, Min ,Max , Count) of Numerical columns\n# initialDF.describe().show(5)\ninitialDF.select(\"atemp\",\"temp\",\"windspeed\").describe().show()"
   ],
   "metadata": {
    "application/vnd.databricks.v1+cell": {
     "title": "",
     "showTitle": false,
     "inputWidgets": {},
     "nuid": "8421e43e-9ff2-4433-9854-658c5305bbba"
    }
   },
   "outputs": [
    {
     "output_type": "display_data",
     "metadata": {
      "application/vnd.databricks.v1+output": {
       "datasetInfos": [],
       "data": "<div class=\"ansiout\">+-------+------------------+-------------------+-------------------+\n|summary|             atemp|               temp|          windspeed|\n+-------+------------------+-------------------+-------------------+\n|  count|             17379|              17379|              17379|\n|   mean|0.4757751021347581| 0.4969871684216586| 0.1900976063064631|\n| stddev|0.1718502156353594|0.19255612124972202|0.12234022857279034|\n|    min|               0.0|               0.02|                0.0|\n|    max|               1.0|                1.0|             0.8507|\n+-------+------------------+-------------------+-------------------+\n\n</div>",
       "removedWidgets": [],
       "addedWidgets": {},
       "type": "html",
       "arguments": {}
      }
     },
     "data": {
      "text/html": [
       "<style scoped>\n  .ansiout {\n    display: block;\n    unicode-bidi: embed;\n    white-space: pre-wrap;\n    word-wrap: break-word;\n    word-break: break-all;\n    font-family: \"Source Code Pro\", \"Menlo\", monospace;;\n    font-size: 13px;\n    color: #555;\n    margin-left: 4px;\n    line-height: 19px;\n  }\n</style>\n<div class=\"ansiout\">+-------+------------------+-------------------+-------------------+\nsummary|             atemp|               temp|          windspeed|\n+-------+------------------+-------------------+-------------------+\n  count|             17379|              17379|              17379|\n   mean|0.4757751021347581| 0.4969871684216586| 0.1900976063064631|\n stddev|0.1718502156353594|0.19255612124972202|0.12234022857279034|\n    min|               0.0|               0.02|                0.0|\n    max|               1.0|                1.0|             0.8507|\n+-------+------------------+-------------------+-------------------+\n\n</div>"
      ]
     }
    }
   ],
   "execution_count": 0
  },
  {
   "cell_type": "markdown",
   "source": [
    "### Pair wise frequency of categorical columns?\n\n1. First column of each row will be the Distinct values of Season and Column names will be distinct values of Weather Situation\n2. Note : Pair with no occurrences will have zero count in contingency table."
   ],
   "metadata": {
    "application/vnd.databricks.v1+cell": {
     "title": "",
     "showTitle": false,
     "inputWidgets": {},
     "nuid": "7fe45e97-2b1b-40e4-a1e9-2f677ab23906"
    }
   }
  },
  {
   "cell_type": "code",
   "source": [
    "# Calculate pair wise frequency of categorical columns?\nnewDF.crosstab('weathersit','season').show()"
   ],
   "metadata": {
    "application/vnd.databricks.v1+cell": {
     "title": "",
     "showTitle": false,
     "inputWidgets": {},
     "nuid": "4c818de8-ffc6-471c-b19a-380620822469"
    }
   },
   "outputs": [
    {
     "output_type": "display_data",
     "metadata": {
      "application/vnd.databricks.v1+output": {
       "datasetInfos": [],
       "data": "<div class=\"ansiout\">+-----------------+----+------+------+------+\n|weathersit_season|fall|spring|summer|winter|\n+-----------------+----+------+------+------+\n|  Light Rain-Snow| 269|   369|   406|   375|\n|       Heavy Rain|   0|     3|     0|     0|\n|             Mist| 947|  1205|  1144|  1248|\n|            Clear|3280|  2665|  2859|  2609|\n+-----------------+----+------+------+------+\n\n</div>",
       "removedWidgets": [],
       "addedWidgets": {},
       "type": "html",
       "arguments": {}
      }
     },
     "data": {
      "text/html": [
       "<style scoped>\n  .ansiout {\n    display: block;\n    unicode-bidi: embed;\n    white-space: pre-wrap;\n    word-wrap: break-word;\n    word-break: break-all;\n    font-family: \"Source Code Pro\", \"Menlo\", monospace;;\n    font-size: 13px;\n    color: #555;\n    margin-left: 4px;\n    line-height: 19px;\n  }\n</style>\n<div class=\"ansiout\">+-----------------+----+------+------+------+\nweathersit_season|fall|spring|summer|winter|\n+-----------------+----+------+------+------+\n  Light Rain-Snow| 269|   369|   406|   375|\n       Heavy Rain|   0|     3|     0|     0|\n             Mist| 947|  1205|  1144|  1248|\n            Clear|3280|  2665|  2859|  2609|\n+-----------------+----+------+------+------+\n\n</div>"
      ]
     }
    }
   ],
   "execution_count": 0
  },
  {
   "cell_type": "code",
   "source": [
    "newDF.stat.freqItems([\"season\"],0.4).show(truncate= False)\n# df.stat.approxQuantile(...)\n# df.stat.bloomFilter(...)\n# df.stat.countMinSketch()"
   ],
   "metadata": {
    "application/vnd.databricks.v1+cell": {
     "title": "",
     "showTitle": false,
     "inputWidgets": {},
     "nuid": "e92f96e9-47d2-46e5-9cb7-48bb7342b468"
    }
   },
   "outputs": [
    {
     "output_type": "display_data",
     "metadata": {
      "application/vnd.databricks.v1+output": {
       "datasetInfos": [],
       "data": "<div class=\"ansiout\">+----------------+\n|season_freqItems|\n+----------------+\n|[winter, fall]  |\n+----------------+\n\n</div>",
       "removedWidgets": [],
       "addedWidgets": {},
       "type": "html",
       "arguments": {}
      }
     },
     "data": {
      "text/html": [
       "<style scoped>\n  .ansiout {\n    display: block;\n    unicode-bidi: embed;\n    white-space: pre-wrap;\n    word-wrap: break-word;\n    word-break: break-all;\n    font-family: \"Source Code Pro\", \"Menlo\", monospace;;\n    font-size: 13px;\n    color: #555;\n    margin-left: 4px;\n    line-height: 19px;\n  }\n</style>\n<div class=\"ansiout\">+----------------+\nseason_freqItems|\n+----------------+\n[winter, fall]  |\n+----------------+\n\n</div>"
      ]
     }
    }
   ],
   "execution_count": 0
  },
  {
   "cell_type": "markdown",
   "source": [
    "### SQL Queries \n\n1. Register the DataFrame as a Table \n2. Use spark session.sql function \n3. Returns a new DataFrame"
   ],
   "metadata": {
    "application/vnd.databricks.v1+cell": {
     "title": "",
     "showTitle": false,
     "inputWidgets": {},
     "nuid": "3cfb0710-b8bb-40ba-8883-87c8531e8f62"
    }
   }
  },
  {
   "cell_type": "code",
   "source": [
    "newDF.createOrReplaceTempView('Bike_Prediction_Table')\n# initialDF.createOrReplaceTempView('BIKE_PRedictions_OLD')"
   ],
   "metadata": {
    "application/vnd.databricks.v1+cell": {
     "title": "",
     "showTitle": false,
     "inputWidgets": {},
     "nuid": "1ca31c7d-0807-468b-8c79-96b55c10cd56"
    }
   },
   "outputs": [
    {
     "output_type": "display_data",
     "metadata": {
      "application/vnd.databricks.v1+output": {
       "datasetInfos": [],
       "data": "<div class=\"ansiout\"></div>",
       "removedWidgets": [],
       "addedWidgets": {},
       "type": "html",
       "arguments": {}
      }
     },
     "data": {
      "text/html": [
       "<style scoped>\n  .ansiout {\n    display: block;\n    unicode-bidi: embed;\n    white-space: pre-wrap;\n    word-wrap: break-word;\n    word-break: break-all;\n    font-family: \"Source Code Pro\", \"Menlo\", monospace;;\n    font-size: 13px;\n    color: #555;\n    margin-left: 4px;\n    line-height: 19px;\n  }\n</style>\n<div class=\"ansiout\"></div>"
      ]
     }
    }
   ],
   "execution_count": 0
  },
  {
   "cell_type": "code",
   "source": [
    "sqlContext"
   ],
   "metadata": {
    "application/vnd.databricks.v1+cell": {
     "title": "",
     "showTitle": false,
     "inputWidgets": {},
     "nuid": "11e8afc8-96c5-44b3-9eb1-46d6f55f19ca"
    }
   },
   "outputs": [
    {
     "output_type": "display_data",
     "metadata": {
      "application/vnd.databricks.v1+output": {
       "datasetInfos": [],
       "data": "<div class=\"ansiout\">Out[82]: &lt;pyspark.sql.context.HiveContext at 0x7fda3f2a1ac8&gt;</div>",
       "removedWidgets": [],
       "addedWidgets": {},
       "type": "html",
       "arguments": {}
      }
     },
     "data": {
      "text/html": [
       "<style scoped>\n  .ansiout {\n    display: block;\n    unicode-bidi: embed;\n    white-space: pre-wrap;\n    word-wrap: break-word;\n    word-break: break-all;\n    font-family: \"Source Code Pro\", \"Menlo\", monospace;;\n    font-size: 13px;\n    color: #555;\n    margin-left: 4px;\n    line-height: 19px;\n  }\n</style>\n<div class=\"ansiout\">Out[82]: &lt;pyspark.sql.context.HiveContext at 0x7fda3f2a1ac8&gt;</div>"
      ]
     }
    }
   ],
   "execution_count": 0
  },
  {
   "cell_type": "code",
   "source": [
    "sqlContext.sql(\"select season, cnt from Bike_Prediction_Table \").show()\n# newDF.select(\"season\",\"cnt\")"
   ],
   "metadata": {
    "application/vnd.databricks.v1+cell": {
     "title": "",
     "showTitle": false,
     "inputWidgets": {},
     "nuid": "96d0c5b4-bfc4-4ea9-a59a-4fdd1b675a9a"
    }
   },
   "outputs": [
    {
     "output_type": "display_data",
     "metadata": {
      "application/vnd.databricks.v1+output": {
       "datasetInfos": [],
       "data": "<div class=\"ansiout\">+------+---+\n|season|cnt|\n+------+---+\n|spring| 16|\n|spring| 40|\n|spring| 32|\n|spring| 13|\n|spring|  1|\n|spring|  1|\n|spring|  2|\n|spring|  3|\n|spring|  8|\n|spring| 14|\n|spring| 36|\n|spring| 56|\n|spring| 84|\n|spring| 94|\n|spring|106|\n|spring|110|\n|spring| 93|\n|spring| 67|\n|spring| 35|\n|spring| 37|\n+------+---+\nonly showing top 20 rows\n\n</div>",
       "removedWidgets": [],
       "addedWidgets": {},
       "type": "html",
       "arguments": {}
      }
     },
     "data": {
      "text/html": [
       "<style scoped>\n  .ansiout {\n    display: block;\n    unicode-bidi: embed;\n    white-space: pre-wrap;\n    word-wrap: break-word;\n    word-break: break-all;\n    font-family: \"Source Code Pro\", \"Menlo\", monospace;;\n    font-size: 13px;\n    color: #555;\n    margin-left: 4px;\n    line-height: 19px;\n  }\n</style>\n<div class=\"ansiout\">+------+---+\nseason|cnt|\n+------+---+\nspring| 16|\nspring| 40|\nspring| 32|\nspring| 13|\nspring|  1|\nspring|  1|\nspring|  2|\nspring|  3|\nspring|  8|\nspring| 14|\nspring| 36|\nspring| 56|\nspring| 84|\nspring| 94|\nspring|106|\nspring|110|\nspring| 93|\nspring| 67|\nspring| 35|\nspring| 37|\n+------+---+\nonly showing top 20 rows\n\n</div>"
      ]
     }
    }
   ],
   "execution_count": 0
  },
  {
   "cell_type": "code",
   "source": [
    "sqlContext.sql(\"select * from Bike_Prediction_Table where season='summer' \").show(5)"
   ],
   "metadata": {
    "application/vnd.databricks.v1+cell": {
     "title": "",
     "showTitle": false,
     "inputWidgets": {},
     "nuid": "f62f2b6b-7579-457e-9c21-64dabeaf4f3a"
    }
   },
   "outputs": [
    {
     "output_type": "display_data",
     "metadata": {
      "application/vnd.databricks.v1+output": {
       "datasetInfos": [],
       "data": "<div class=\"ansiout\">+-------+-------------------+------+---+----+---+-------+-------+----------+---------------+----+-----+----+---------+------+----------+---+\n|instant|             dteday|season| yr|mnth| hr|holiday|weekday|workingday|     weathersit|temp|atemp| hum|windspeed|casual|registered|cnt|\n+-------+-------------------+------+---+----+---+-------+-------+----------+---------------+----+-----+----+---------+------+----------+---+\n|   1808|2011-03-21 00:00:00|summer|  0|   3|  0|      0|      1|         1|Light Rain-Snow|0.34|0.303|0.66|   0.3881|     2|        11| 13|\n|   1809|2011-03-21 00:00:00|summer|  0|   3|  1|      0|      1|         1|           Mist|0.34|0.303|0.71|   0.3881|     1|         6|  7|\n|   1810|2011-03-21 00:00:00|summer|  0|   3|  2|      0|      1|         1|           Mist|0.34|0.303|0.71|   0.3284|     1|         5|  6|\n|   1811|2011-03-21 00:00:00|summer|  0|   3|  3|      0|      1|         1|           Mist|0.34|0.303|0.71|   0.3284|     0|         1|  1|\n|   1812|2011-03-21 00:00:00|summer|  0|   3|  5|      0|      1|         1|          Clear|0.32|0.303|0.81|   0.2985|     1|         1|  2|\n+-------+-------------------+------+---+----+---+-------+-------+----------+---------------+----+-----+----+---------+------+----------+---+\nonly showing top 5 rows\n\n</div>",
       "removedWidgets": [],
       "addedWidgets": {},
       "type": "html",
       "arguments": {}
      }
     },
     "data": {
      "text/html": [
       "<style scoped>\n  .ansiout {\n    display: block;\n    unicode-bidi: embed;\n    white-space: pre-wrap;\n    word-wrap: break-word;\n    word-break: break-all;\n    font-family: \"Source Code Pro\", \"Menlo\", monospace;;\n    font-size: 13px;\n    color: #555;\n    margin-left: 4px;\n    line-height: 19px;\n  }\n</style>\n<div class=\"ansiout\">+-------+-------------------+------+---+----+---+-------+-------+----------+---------------+----+-----+----+---------+------+----------+---+\ninstant|             dteday|season| yr|mnth| hr|holiday|weekday|workingday|     weathersit|temp|atemp| hum|windspeed|casual|registered|cnt|\n+-------+-------------------+------+---+----+---+-------+-------+----------+---------------+----+-----+----+---------+------+----------+---+\n   1808|2011-03-21 00:00:00|summer|  0|   3|  0|      0|      1|         1|Light Rain-Snow|0.34|0.303|0.66|   0.3881|     2|        11| 13|\n   1809|2011-03-21 00:00:00|summer|  0|   3|  1|      0|      1|         1|           Mist|0.34|0.303|0.71|   0.3881|     1|         6|  7|\n   1810|2011-03-21 00:00:00|summer|  0|   3|  2|      0|      1|         1|           Mist|0.34|0.303|0.71|   0.3284|     1|         5|  6|\n   1811|2011-03-21 00:00:00|summer|  0|   3|  3|      0|      1|         1|           Mist|0.34|0.303|0.71|   0.3284|     0|         1|  1|\n   1812|2011-03-21 00:00:00|summer|  0|   3|  5|      0|      1|         1|          Clear|0.32|0.303|0.81|   0.2985|     1|         1|  2|\n+-------+-------------------+------+---+----+---+-------+-------+----------+---------------+----+-----+----+---------+------+----------+---+\nonly showing top 5 rows\n\n</div>"
      ]
     }
    }
   ],
   "execution_count": 0
  },
  {
   "cell_type": "code",
   "source": [
    "sqlContext.sql(\"select * from Bike_Prediction_Table where season='summer' and windspeed > 0.4\").show()"
   ],
   "metadata": {
    "application/vnd.databricks.v1+cell": {
     "title": "",
     "showTitle": false,
     "inputWidgets": {},
     "nuid": "bfaaf523-829a-47ba-ad81-96e6c5d8b24f"
    }
   },
   "outputs": [
    {
     "output_type": "display_data",
     "metadata": {
      "application/vnd.databricks.v1+output": {
       "datasetInfos": [],
       "data": "<div class=\"ansiout\">+-------+-------------------+------+---+----+---+-------+-------+----------+---------------+----+------+----+---------+------+----------+---+\n|instant|             dteday|season| yr|mnth| hr|holiday|weekday|workingday|     weathersit|temp| atemp| hum|windspeed|casual|registered|cnt|\n+-------+-------------------+------+---+----+---+-------+-------+----------+---------------+----+------+----+---------+------+----------+---+\n|   1814|2011-03-21 00:00:00|summer|  0|   3|  7|      0|      1|         1|Light Rain-Snow| 0.3|0.2727|0.87|   0.4179|     3|        15| 18|\n|   1815|2011-03-21 00:00:00|summer|  0|   3|  8|      0|      1|         1|           Mist| 0.3|0.2727|0.87|   0.4179|     3|        95| 98|\n|   1826|2011-03-21 00:00:00|summer|  0|   3| 19|      0|      1|         1|          Clear|0.58|0.5455| 0.6|   0.4179|    22|       199|221|\n|   1840|2011-03-22 00:00:00|summer|  0|   3|  9|      0|      2|         1|           Mist| 0.4|0.4091|0.58|   0.4627|    19|       159|178|\n|   1874|2011-03-23 00:00:00|summer|  0|   3| 20|      0|      3|         1|Light Rain-Snow|0.36| 0.303|0.87|   0.6418|     3|        72| 75|\n|   1875|2011-03-23 00:00:00|summer|  0|   3| 21|      0|      3|         1|Light Rain-Snow|0.32|0.2879| 1.0|   0.4179|     0|        22| 22|\n|   2083|2011-04-01 00:00:00|summer|  0|   4| 15|      0|      5|         1|          Clear|0.34| 0.303|0.46|   0.4179|    30|        81|111|\n|   2084|2011-04-01 00:00:00|summer|  0|   4| 16|      0|      5|         1|          Clear|0.34| 0.303|0.46|   0.4179|    42|       125|167|\n|   2125|2011-04-03 00:00:00|summer|  0|   4|  9|      0|      0|         0|          Clear|0.36|0.3182| 0.5|   0.4925|    68|        74|142|\n|   2126|2011-04-03 00:00:00|summer|  0|   4| 10|      0|      0|         0|          Clear| 0.4|0.4091|0.43|   0.4179|   111|       104|215|\n|   2152|2011-04-04 00:00:00|summer|  0|   4| 12|      0|      1|         1|          Clear|0.64|0.6212|0.36|   0.4627|    59|        98|157|\n|   2154|2011-04-04 00:00:00|summer|  0|   4| 14|      0|      1|         1|           Mist|0.74|0.6515|0.27|   0.4925|    47|        76|123|\n|   2155|2011-04-04 00:00:00|summer|  0|   4| 15|      0|      1|         1|          Clear|0.76|0.6667|0.23|   0.5522|    47|        96|143|\n|   2156|2011-04-04 00:00:00|summer|  0|   4| 16|      0|      1|         1|          Clear|0.76|0.6515|0.22|   0.5224|    59|       130|189|\n|   2157|2011-04-04 00:00:00|summer|  0|   4| 17|      0|      1|         1|          Clear|0.74|0.6515|0.23|   0.6119|    83|       283|366|\n|   2158|2011-04-04 00:00:00|summer|  0|   4| 18|      0|      1|         1|           Mist|0.72|0.6364|0.23|   0.4925|    78|       308|386|\n|   2159|2011-04-04 00:00:00|summer|  0|   4| 19|      0|      1|         1|          Clear| 0.7|0.6364|0.24|   0.4627|    51|       227|278|\n|   2160|2011-04-04 00:00:00|summer|  0|   4| 20|      0|      1|         1|           Mist| 0.7|0.6364|0.24|   0.5522|    40|       133|173|\n|   2161|2011-04-04 00:00:00|summer|  0|   4| 21|      0|      1|         1|           Mist| 0.7|0.6364| 0.3|   0.4478|    19|        76| 95|\n|   2162|2011-04-04 00:00:00|summer|  0|   4| 22|      0|      1|         1|           Mist|0.68|0.6364|0.36|   0.4627|    17|        58| 75|\n+-------+-------------------+------+---+----+---+-------+-------+----------+---------------+----+------+----+---------+------+----------+---+\nonly showing top 20 rows\n\n</div>",
       "removedWidgets": [],
       "addedWidgets": {},
       "type": "html",
       "arguments": {}
      }
     },
     "data": {
      "text/html": [
       "<style scoped>\n  .ansiout {\n    display: block;\n    unicode-bidi: embed;\n    white-space: pre-wrap;\n    word-wrap: break-word;\n    word-break: break-all;\n    font-family: \"Source Code Pro\", \"Menlo\", monospace;;\n    font-size: 13px;\n    color: #555;\n    margin-left: 4px;\n    line-height: 19px;\n  }\n</style>\n<div class=\"ansiout\">+-------+-------------------+------+---+----+---+-------+-------+----------+---------------+----+------+----+---------+------+----------+---+\ninstant|             dteday|season| yr|mnth| hr|holiday|weekday|workingday|     weathersit|temp| atemp| hum|windspeed|casual|registered|cnt|\n+-------+-------------------+------+---+----+---+-------+-------+----------+---------------+----+------+----+---------+------+----------+---+\n   1814|2011-03-21 00:00:00|summer|  0|   3|  7|      0|      1|         1|Light Rain-Snow| 0.3|0.2727|0.87|   0.4179|     3|        15| 18|\n   1815|2011-03-21 00:00:00|summer|  0|   3|  8|      0|      1|         1|           Mist| 0.3|0.2727|0.87|   0.4179|     3|        95| 98|\n   1826|2011-03-21 00:00:00|summer|  0|   3| 19|      0|      1|         1|          Clear|0.58|0.5455| 0.6|   0.4179|    22|       199|221|\n   1840|2011-03-22 00:00:00|summer|  0|   3|  9|      0|      2|         1|           Mist| 0.4|0.4091|0.58|   0.4627|    19|       159|178|\n   1874|2011-03-23 00:00:00|summer|  0|   3| 20|      0|      3|         1|Light Rain-Snow|0.36| 0.303|0.87|   0.6418|     3|        72| 75|\n   1875|2011-03-23 00:00:00|summer|  0|   3| 21|      0|      3|         1|Light Rain-Snow|0.32|0.2879| 1.0|   0.4179|     0|        22| 22|\n   2083|2011-04-01 00:00:00|summer|  0|   4| 15|      0|      5|         1|          Clear|0.34| 0.303|0.46|   0.4179|    30|        81|111|\n   2084|2011-04-01 00:00:00|summer|  0|   4| 16|      0|      5|         1|          Clear|0.34| 0.303|0.46|   0.4179|    42|       125|167|\n   2125|2011-04-03 00:00:00|summer|  0|   4|  9|      0|      0|         0|          Clear|0.36|0.3182| 0.5|   0.4925|    68|        74|142|\n   2126|2011-04-03 00:00:00|summer|  0|   4| 10|      0|      0|         0|          Clear| 0.4|0.4091|0.43|   0.4179|   111|       104|215|\n   2152|2011-04-04 00:00:00|summer|  0|   4| 12|      0|      1|         1|          Clear|0.64|0.6212|0.36|   0.4627|    59|        98|157|\n   2154|2011-04-04 00:00:00|summer|  0|   4| 14|      0|      1|         1|           Mist|0.74|0.6515|0.27|   0.4925|    47|        76|123|\n   2155|2011-04-04 00:00:00|summer|  0|   4| 15|      0|      1|         1|          Clear|0.76|0.6667|0.23|   0.5522|    47|        96|143|\n   2156|2011-04-04 00:00:00|summer|  0|   4| 16|      0|      1|         1|          Clear|0.76|0.6515|0.22|   0.5224|    59|       130|189|\n   2157|2011-04-04 00:00:00|summer|  0|   4| 17|      0|      1|         1|          Clear|0.74|0.6515|0.23|   0.6119|    83|       283|366|\n   2158|2011-04-04 00:00:00|summer|  0|   4| 18|      0|      1|         1|           Mist|0.72|0.6364|0.23|   0.4925|    78|       308|386|\n   2159|2011-04-04 00:00:00|summer|  0|   4| 19|      0|      1|         1|          Clear| 0.7|0.6364|0.24|   0.4627|    51|       227|278|\n   2160|2011-04-04 00:00:00|summer|  0|   4| 20|      0|      1|         1|           Mist| 0.7|0.6364|0.24|   0.5522|    40|       133|173|\n   2161|2011-04-04 00:00:00|summer|  0|   4| 21|      0|      1|         1|           Mist| 0.7|0.6364| 0.3|   0.4478|    19|        76| 95|\n   2162|2011-04-04 00:00:00|summer|  0|   4| 22|      0|      1|         1|           Mist|0.68|0.6364|0.36|   0.4627|    17|        58| 75|\n+-------+-------------------+------+---+----+---+-------+-------+----------+---------------+----+------+----+---------+------+----------+---+\nonly showing top 20 rows\n\n</div>"
      ]
     }
    }
   ],
   "execution_count": 0
  },
  {
   "cell_type": "code",
   "source": [
    "# maximum booking in each season group in the newDF .\nmax_season_df = sqlContext.sql('select season, max(cnt) from bike_prediction_table group by season')"
   ],
   "metadata": {
    "application/vnd.databricks.v1+cell": {
     "title": "",
     "showTitle": false,
     "inputWidgets": {},
     "nuid": "7eda4625-24e6-49a3-8381-d24e58fc8115"
    }
   },
   "outputs": [
    {
     "output_type": "display_data",
     "metadata": {
      "application/vnd.databricks.v1+output": {
       "datasetInfos": [
        {
         "name": "max_season_df",
         "typeStr": "pyspark.sql.dataframe.DataFrame",
         "schema": {
          "fields": [
           {
            "metadata": {},
            "name": "season",
            "nullable": true,
            "type": "string"
           },
           {
            "metadata": {},
            "name": "max(cnt)",
            "nullable": true,
            "type": "integer"
           }
          ],
          "type": "struct"
         },
         "tableIdentifier": null
        }
       ],
       "data": "<div class=\"ansiout\"></div>",
       "removedWidgets": [],
       "addedWidgets": {},
       "type": "html",
       "arguments": {}
      }
     },
     "data": {
      "text/html": [
       "<style scoped>\n  .ansiout {\n    display: block;\n    unicode-bidi: embed;\n    white-space: pre-wrap;\n    word-wrap: break-word;\n    word-break: break-all;\n    font-family: \"Source Code Pro\", \"Menlo\", monospace;;\n    font-size: 13px;\n    color: #555;\n    margin-left: 4px;\n    line-height: 19px;\n  }\n</style>\n<div class=\"ansiout\"></div>"
      ]
     }
    }
   ],
   "execution_count": 0
  },
  {
   "cell_type": "code",
   "source": [
    "max_season_df.select(\"max(cnt)\").show()"
   ],
   "metadata": {
    "application/vnd.databricks.v1+cell": {
     "title": "",
     "showTitle": false,
     "inputWidgets": {},
     "nuid": "70752915-f999-47e0-b69d-800c91d7f4e2"
    }
   },
   "outputs": [
    {
     "output_type": "display_data",
     "metadata": {
      "application/vnd.databricks.v1+output": {
       "datasetInfos": [],
       "data": "<div class=\"ansiout\">+--------+\n|max(cnt)|\n+--------+\n|     967|\n|     957|\n|     801|\n|     977|\n+--------+\n\n</div>",
       "removedWidgets": [],
       "addedWidgets": {},
       "type": "html",
       "arguments": {}
      }
     },
     "data": {
      "text/html": [
       "<style scoped>\n  .ansiout {\n    display: block;\n    unicode-bidi: embed;\n    white-space: pre-wrap;\n    word-wrap: break-word;\n    word-break: break-all;\n    font-family: \"Source Code Pro\", \"Menlo\", monospace;;\n    font-size: 13px;\n    color: #555;\n    margin-left: 4px;\n    line-height: 19px;\n  }\n</style>\n<div class=\"ansiout\">+--------+\nmax(cnt)|\n+--------+\n     967|\n     957|\n     801|\n     977|\n+--------+\n\n</div>"
      ]
     }
    }
   ],
   "execution_count": 0
  },
  {
   "cell_type": "markdown",
   "source": [
    "# DataPreProcessing"
   ],
   "metadata": {
    "application/vnd.databricks.v1+cell": {
     "title": "",
     "showTitle": false,
     "inputWidgets": {},
     "nuid": "157aa5c4-b0bb-4709-a37d-605711e464b8"
    }
   }
  },
  {
   "cell_type": "markdown",
   "source": [
    "## Preprocessing the data\n\nSo what do we need to do to get our data ready for Machine Learning?\n\n**Recall our goal**: We want to learn to predict the count of bike rentals (the `cnt` column).  We refer to the count as our target \"label\".\n\n**Features**: What can we use as features to predict the `cnt` label?  \n\nAll the columns except `cnt`, and a few exceptions:\n* `casual` & `registered`\n  * The `cnt` column we want to predict equals the sum of the `casual` + `registered` columns.  We will remove the `casual` and `registered` columns from the data to make sure we do not use them to predict `cnt`.  (**Warning: This is a danger in careless Machine Learning.  Make sure you do not \"cheat\" by using information you will not have when making predictions**)\n* `season` and the date column `dteday`: We could keep them, but they are well-represented by the other date-related columns like `yr`, `mnth`, and `weekday`.\n* `holiday` and `weekday`: These features are highly correlated with the `workingday` column.\n* row index column `instant`: This is a useless column to us."
   ],
   "metadata": {
    "application/vnd.databricks.v1+cell": {
     "title": "",
     "showTitle": false,
     "inputWidgets": {},
     "nuid": "e7e60b1c-bd57-4aa4-83cc-88514d5d0ad5"
    }
   }
  },
  {
   "cell_type": "markdown",
   "source": [
    "## Data Cleaning"
   ],
   "metadata": {
    "application/vnd.databricks.v1+cell": {
     "title": "",
     "showTitle": false,
     "inputWidgets": {},
     "nuid": "025831a7-e686-42cf-9598-c000ae076f70"
    }
   }
  },
  {
   "cell_type": "markdown",
   "source": [
    "### Handling Missing Data\n\n1. Filter Out \n2. Fill In"
   ],
   "metadata": {
    "application/vnd.databricks.v1+cell": {
     "title": "",
     "showTitle": false,
     "inputWidgets": {},
     "nuid": "54ff0cbe-f52e-4c00-8c77-8e807cfee0db"
    }
   }
  },
  {
   "cell_type": "code",
   "source": [
    "%sh \ncat > movies.csv <<EOF \nname,rating,studio,date \nAvengers Endgame, 5, marvel,1260759144\nBatman Vs Superman,4 ,DC,835355664\nThe Joker ,, DC,835355681\nFrozen,4,Disney,835355604\nHitman,,,\nEOF \n"
   ],
   "metadata": {
    "application/vnd.databricks.v1+cell": {
     "title": "",
     "showTitle": false,
     "inputWidgets": {},
     "nuid": "264504c6-de88-4333-b1a6-13e907323fb2"
    }
   },
   "outputs": [
    {
     "output_type": "display_data",
     "metadata": {
      "application/vnd.databricks.v1+output": {
       "datasetInfos": [],
       "data": "<div class=\"ansiout\"></div>",
       "removedWidgets": [],
       "addedWidgets": {},
       "type": "html",
       "arguments": {}
      }
     },
     "data": {
      "text/html": [
       "<style scoped>\n  .ansiout {\n    display: block;\n    unicode-bidi: embed;\n    white-space: pre-wrap;\n    word-wrap: break-word;\n    word-break: break-all;\n    font-family: \"Source Code Pro\", \"Menlo\", monospace;;\n    font-size: 13px;\n    color: #555;\n    margin-left: 4px;\n    line-height: 19px;\n  }\n</style>\n<div class=\"ansiout\"></div>"
      ]
     }
    }
   ],
   "execution_count": 0
  },
  {
   "cell_type": "code",
   "source": [
    "%sh ls -alh  /databricks/driver/movies.csv\n"
   ],
   "metadata": {
    "application/vnd.databricks.v1+cell": {
     "title": "",
     "showTitle": false,
     "inputWidgets": {},
     "nuid": "3d0d0c65-b2d7-48d6-bf3d-a553e5d08294"
    }
   },
   "outputs": [
    {
     "output_type": "display_data",
     "metadata": {
      "application/vnd.databricks.v1+output": {
       "datasetInfos": [],
       "data": "<div class=\"ansiout\">-rw-r--r-- 1 root root 161 Oct 17 16:52 /databricks/driver/movies.csv\n</div>",
       "removedWidgets": [],
       "addedWidgets": {},
       "type": "html",
       "arguments": {}
      }
     },
     "data": {
      "text/html": [
       "<style scoped>\n  .ansiout {\n    display: block;\n    unicode-bidi: embed;\n    white-space: pre-wrap;\n    word-wrap: break-word;\n    word-break: break-all;\n    font-family: \"Source Code Pro\", \"Menlo\", monospace;;\n    font-size: 13px;\n    color: #555;\n    margin-left: 4px;\n    line-height: 19px;\n  }\n</style>\n<div class=\"ansiout\">-rw-r--r-- 1 root root 161 Oct 17 16:52 /databricks/driver/movies.csv\n</div>"
      ]
     }
    }
   ],
   "execution_count": 0
  },
  {
   "cell_type": "code",
   "source": [
    "path_to_file = \"file:///databricks/driver/movies.csv\"\n\nmoviesDF = (spark.read          # Our DataFrameReader\n  .option(\"header\", \"true\")      # Let Spark know we have a header\n  .option(\"inferSchema\", \"true\") # Infering the schema (it is a small dataset)\n  .csv(path_to_file)                 # Location of our data\n  .cache()                       # Mark the DataFrame as cached.\n)\n"
   ],
   "metadata": {
    "application/vnd.databricks.v1+cell": {
     "title": "",
     "showTitle": false,
     "inputWidgets": {},
     "nuid": "80d1f220-66b1-48b7-a8ec-ec3fc2de16d9"
    }
   },
   "outputs": [
    {
     "output_type": "display_data",
     "metadata": {
      "application/vnd.databricks.v1+output": {
       "datasetInfos": [
        {
         "name": "moviesDF",
         "typeStr": "pyspark.sql.dataframe.DataFrame",
         "schema": {
          "fields": [
           {
            "metadata": {},
            "name": "name",
            "nullable": true,
            "type": "string"
           },
           {
            "metadata": {},
            "name": "rating",
            "nullable": true,
            "type": "double"
           },
           {
            "metadata": {},
            "name": "studio",
            "nullable": true,
            "type": "string"
           },
           {
            "metadata": {},
            "name": "date ",
            "nullable": true,
            "type": "integer"
           }
          ],
          "type": "struct"
         },
         "tableIdentifier": null
        }
       ],
       "data": "<div class=\"ansiout\"></div>",
       "removedWidgets": [],
       "addedWidgets": {},
       "type": "html",
       "arguments": {}
      }
     },
     "data": {
      "text/html": [
       "<style scoped>\n  .ansiout {\n    display: block;\n    unicode-bidi: embed;\n    white-space: pre-wrap;\n    word-wrap: break-word;\n    word-break: break-all;\n    font-family: \"Source Code Pro\", \"Menlo\", monospace;;\n    font-size: 13px;\n    color: #555;\n    margin-left: 4px;\n    line-height: 19px;\n  }\n</style>\n<div class=\"ansiout\"></div>"
      ]
     }
    }
   ],
   "execution_count": 0
  },
  {
   "cell_type": "code",
   "source": [
    "moviesDF.printSchema()"
   ],
   "metadata": {
    "application/vnd.databricks.v1+cell": {
     "title": "",
     "showTitle": false,
     "inputWidgets": {},
     "nuid": "b4ea74e2-ab94-484b-b7e0-1fcddf1b0af7"
    }
   },
   "outputs": [
    {
     "output_type": "display_data",
     "metadata": {
      "application/vnd.databricks.v1+output": {
       "datasetInfos": [],
       "data": "<div class=\"ansiout\">root\n |-- name: string (nullable = true)\n |-- rating: double (nullable = true)\n |-- studio: string (nullable = true)\n |-- date : integer (nullable = true)\n\n</div>",
       "removedWidgets": [],
       "addedWidgets": {},
       "type": "html",
       "arguments": {}
      }
     },
     "data": {
      "text/html": [
       "<style scoped>\n  .ansiout {\n    display: block;\n    unicode-bidi: embed;\n    white-space: pre-wrap;\n    word-wrap: break-word;\n    word-break: break-all;\n    font-family: \"Source Code Pro\", \"Menlo\", monospace;;\n    font-size: 13px;\n    color: #555;\n    margin-left: 4px;\n    line-height: 19px;\n  }\n</style>\n<div class=\"ansiout\">root\n-- name: string (nullable = true)\n-- rating: double (nullable = true)\n-- studio: string (nullable = true)\n-- date : integer (nullable = true)\n\n</div>"
      ]
     }
    }
   ],
   "execution_count": 0
  },
  {
   "cell_type": "code",
   "source": [
    "moviesDF.show()"
   ],
   "metadata": {
    "application/vnd.databricks.v1+cell": {
     "title": "",
     "showTitle": false,
     "inputWidgets": {},
     "nuid": "c52d3fd5-c880-4033-bd24-e0fead56d0b2"
    }
   },
   "outputs": [
    {
     "output_type": "display_data",
     "metadata": {
      "application/vnd.databricks.v1+output": {
       "datasetInfos": [],
       "data": "<div class=\"ansiout\">+------------------+------+-------+----------+\n|              name|rating| studio|     date |\n+------------------+------+-------+----------+\n|  Avengers Endgame|   5.0| marvel|1260759144|\n|Batman Vs Superman|   4.0|     DC| 835355664|\n|        The Joker |  null|     DC| 835355681|\n|            Frozen|   4.0| Disney| 835355604|\n|            Hitman|  null|   null|      null|\n+------------------+------+-------+----------+\n\n</div>",
       "removedWidgets": [],
       "addedWidgets": {},
       "type": "html",
       "arguments": {}
      }
     },
     "data": {
      "text/html": [
       "<style scoped>\n  .ansiout {\n    display: block;\n    unicode-bidi: embed;\n    white-space: pre-wrap;\n    word-wrap: break-word;\n    word-break: break-all;\n    font-family: \"Source Code Pro\", \"Menlo\", monospace;;\n    font-size: 13px;\n    color: #555;\n    margin-left: 4px;\n    line-height: 19px;\n  }\n</style>\n<div class=\"ansiout\">+------------------+------+-------+----------+\n              name|rating| studio|     date |\n+------------------+------+-------+----------+\n  Avengers Endgame|   5.0| marvel|1260759144|\nBatman Vs Superman|   4.0|     DC| 835355664|\n        The Joker |  null|     DC| 835355681|\n            Frozen|   4.0| Disney| 835355604|\n            Hitman|  null|   null|      null|\n+------------------+------+-------+----------+\n\n</div>"
      ]
     }
    }
   ],
   "execution_count": 0
  },
  {
   "cell_type": "markdown",
   "source": [
    "#### 1. Filter OUT\n\n[DROP](https://spark.apache.org/docs/2.1.0/api/python/pyspark.sql.html#pyspark.sql.DataFrame.dropna)"
   ],
   "metadata": {
    "application/vnd.databricks.v1+cell": {
     "title": "",
     "showTitle": false,
     "inputWidgets": {},
     "nuid": "0cad73c4-2fa7-4b7e-b4b9-5bd20f35c657"
    }
   }
  },
  {
   "cell_type": "code",
   "source": [
    "# DROP Any Row with Any NULL Valu\nmoviesDF.na.drop().show()"
   ],
   "metadata": {
    "application/vnd.databricks.v1+cell": {
     "title": "",
     "showTitle": false,
     "inputWidgets": {},
     "nuid": "5007c8c3-b493-4607-9e51-b8a37fcff3fd"
    }
   },
   "outputs": [
    {
     "output_type": "display_data",
     "metadata": {
      "application/vnd.databricks.v1+output": {
       "datasetInfos": [],
       "data": "<div class=\"ansiout\">+------------------+------+-------+----------+\n|              name|rating| studio|     date |\n+------------------+------+-------+----------+\n|  Avengers Endgame|   5.0| marvel|1260759144|\n|Batman Vs Superman|   4.0|     DC| 835355664|\n|            Frozen|   4.0| Disney| 835355604|\n+------------------+------+-------+----------+\n\n</div>",
       "removedWidgets": [],
       "addedWidgets": {},
       "type": "html",
       "arguments": {}
      }
     },
     "data": {
      "text/html": [
       "<style scoped>\n  .ansiout {\n    display: block;\n    unicode-bidi: embed;\n    white-space: pre-wrap;\n    word-wrap: break-word;\n    word-break: break-all;\n    font-family: \"Source Code Pro\", \"Menlo\", monospace;;\n    font-size: 13px;\n    color: #555;\n    margin-left: 4px;\n    line-height: 19px;\n  }\n</style>\n<div class=\"ansiout\">+------------------+------+-------+----------+\n              name|rating| studio|     date |\n+------------------+------+-------+----------+\n  Avengers Endgame|   5.0| marvel|1260759144|\nBatman Vs Superman|   4.0|     DC| 835355664|\n            Frozen|   4.0| Disney| 835355604|\n+------------------+------+-------+----------+\n\n</div>"
      ]
     }
    }
   ],
   "execution_count": 0
  },
  {
   "cell_type": "code",
   "source": [
    "moviesDF.na.drop(\"all\").show()\nmoviesDF.na.drop(\"any\").show()"
   ],
   "metadata": {
    "application/vnd.databricks.v1+cell": {
     "title": "",
     "showTitle": false,
     "inputWidgets": {},
     "nuid": "52d6c5c1-958d-45c0-a5ca-a341667f3fa5"
    }
   },
   "outputs": [
    {
     "output_type": "display_data",
     "metadata": {
      "application/vnd.databricks.v1+output": {
       "datasetInfos": [],
       "data": "<div class=\"ansiout\">+------------------+------+-------+----------+\n|              name|rating| studio|     date |\n+------------------+------+-------+----------+\n|  Avengers Endgame|   5.0| marvel|1260759144|\n|Batman Vs Superman|   4.0|     DC| 835355664|\n|        The Joker |  null|     DC| 835355681|\n|            Frozen|   4.0| Disney| 835355604|\n|            Hitman|  null|   null|      null|\n+------------------+------+-------+----------+\n\n+------------------+------+-------+----------+\n|              name|rating| studio|     date |\n+------------------+------+-------+----------+\n|  Avengers Endgame|   5.0| marvel|1260759144|\n|Batman Vs Superman|   4.0|     DC| 835355664|\n|            Frozen|   4.0| Disney| 835355604|\n+------------------+------+-------+----------+\n\n</div>",
       "removedWidgets": [],
       "addedWidgets": {},
       "type": "html",
       "arguments": {}
      }
     },
     "data": {
      "text/html": [
       "<style scoped>\n  .ansiout {\n    display: block;\n    unicode-bidi: embed;\n    white-space: pre-wrap;\n    word-wrap: break-word;\n    word-break: break-all;\n    font-family: \"Source Code Pro\", \"Menlo\", monospace;;\n    font-size: 13px;\n    color: #555;\n    margin-left: 4px;\n    line-height: 19px;\n  }\n</style>\n<div class=\"ansiout\">+------------------+------+-------+----------+\n              name|rating| studio|     date |\n+------------------+------+-------+----------+\n  Avengers Endgame|   5.0| marvel|1260759144|\nBatman Vs Superman|   4.0|     DC| 835355664|\n        The Joker |  null|     DC| 835355681|\n            Frozen|   4.0| Disney| 835355604|\n            Hitman|  null|   null|      null|\n+------------------+------+-------+----------+\n\n+------------------+------+-------+----------+\n              name|rating| studio|     date |\n+------------------+------+-------+----------+\n  Avengers Endgame|   5.0| marvel|1260759144|\nBatman Vs Superman|   4.0|     DC| 835355664|\n            Frozen|   4.0| Disney| 835355604|\n+------------------+------+-------+----------+\n\n</div>"
      ]
     }
    }
   ],
   "execution_count": 0
  },
  {
   "cell_type": "code",
   "source": [
    "## APPLY to Specific Column\nmoviesDF.na.drop(\"all\", subset = ['studio','rating']).show()"
   ],
   "metadata": {
    "application/vnd.databricks.v1+cell": {
     "title": "",
     "showTitle": false,
     "inputWidgets": {},
     "nuid": "0ebe1b44-4f21-475f-b94e-0455dbc8b0c4"
    }
   },
   "outputs": [
    {
     "output_type": "display_data",
     "metadata": {
      "application/vnd.databricks.v1+output": {
       "datasetInfos": [],
       "data": "<div class=\"ansiout\">+------------------+------+-------+----------+\n|              name|rating| studio|     date |\n+------------------+------+-------+----------+\n|  Avengers Endgame|   5.0| marvel|1260759144|\n|Batman Vs Superman|   4.0|     DC| 835355664|\n|        The Joker |  null|     DC| 835355681|\n|            Frozen|   4.0| Disney| 835355604|\n+------------------+------+-------+----------+\n\n</div>",
       "removedWidgets": [],
       "addedWidgets": {},
       "type": "html",
       "arguments": {}
      }
     },
     "data": {
      "text/html": [
       "<style scoped>\n  .ansiout {\n    display: block;\n    unicode-bidi: embed;\n    white-space: pre-wrap;\n    word-wrap: break-word;\n    word-break: break-all;\n    font-family: \"Source Code Pro\", \"Menlo\", monospace;;\n    font-size: 13px;\n    color: #555;\n    margin-left: 4px;\n    line-height: 19px;\n  }\n</style>\n<div class=\"ansiout\">+------------------+------+-------+----------+\n              name|rating| studio|     date |\n+------------------+------+-------+----------+\n  Avengers Endgame|   5.0| marvel|1260759144|\nBatman Vs Superman|   4.0|     DC| 835355664|\n        The Joker |  null|     DC| 835355681|\n            Frozen|   4.0| Disney| 835355604|\n+------------------+------+-------+----------+\n\n</div>"
      ]
     }
    }
   ],
   "execution_count": 0
  },
  {
   "cell_type": "markdown",
   "source": [
    "#### 2. Fill In"
   ],
   "metadata": {
    "application/vnd.databricks.v1+cell": {
     "title": "",
     "showTitle": false,
     "inputWidgets": {},
     "nuid": "8173fc09-4b94-4f69-9371-42b1686618e6"
    }
   }
  },
  {
   "cell_type": "code",
   "source": [
    "## TYPE Inference of INT in DataFrames\n\nmoviesDF.na.fill(\"1\").show()\nmoviesDF.na.fill(835355604).show()\nmoviesDF.na.fill(\"OTHER STUDIO\").show()\nmoviesDF.na.fill({'rating':0.0})"
   ],
   "metadata": {
    "application/vnd.databricks.v1+cell": {
     "title": "",
     "showTitle": false,
     "inputWidgets": {},
     "nuid": "bbec7bfe-0261-416e-a87f-6f619c289c08"
    }
   },
   "outputs": [
    {
     "output_type": "display_data",
     "metadata": {
      "application/vnd.databricks.v1+output": {
       "datasetInfos": [],
       "data": "<div class=\"ansiout\">+------------------+------+-------+----------+\n|              name|rating| studio|     date |\n+------------------+------+-------+----------+\n|  Avengers Endgame|   5.0| marvel|1260759144|\n|Batman Vs Superman|   4.0|     DC| 835355664|\n|        The Joker |  null|     DC| 835355681|\n|            Frozen|   4.0| Disney| 835355604|\n|            Hitman|  null|      1|      null|\n+------------------+------+-------+----------+\n\n+------------------+------------+-------+----------+\n|              name|      rating| studio|     date |\n+------------------+------------+-------+----------+\n|  Avengers Endgame|         5.0| marvel|1260759144|\n|Batman Vs Superman|         4.0|     DC| 835355664|\n|        The Joker |8.35355604E8|     DC| 835355681|\n|            Frozen|         4.0| Disney| 835355604|\n|            Hitman|8.35355604E8|   null| 835355604|\n+------------------+------------+-------+----------+\n\n+------------------+------+------------+----------+\n|              name|rating|      studio|     date |\n+------------------+------+------------+----------+\n|  Avengers Endgame|   5.0|      marvel|1260759144|\n|Batman Vs Superman|   4.0|          DC| 835355664|\n|        The Joker |  null|          DC| 835355681|\n|            Frozen|   4.0|      Disney| 835355604|\n|            Hitman|  null|OTHER STUDIO|      null|\n+------------------+------+------------+----------+\n\nOut[50]: DataFrame[name: string, rating: double, studio: string, date : int]</div>",
       "removedWidgets": [],
       "addedWidgets": {},
       "type": "html",
       "arguments": {}
      }
     },
     "data": {
      "text/html": [
       "<style scoped>\n  .ansiout {\n    display: block;\n    unicode-bidi: embed;\n    white-space: pre-wrap;\n    word-wrap: break-word;\n    word-break: break-all;\n    font-family: \"Source Code Pro\", \"Menlo\", monospace;;\n    font-size: 13px;\n    color: #555;\n    margin-left: 4px;\n    line-height: 19px;\n  }\n</style>\n<div class=\"ansiout\">+------------------+------+-------+----------+\n              name|rating| studio|     date |\n+------------------+------+-------+----------+\n  Avengers Endgame|   5.0| marvel|1260759144|\nBatman Vs Superman|   4.0|     DC| 835355664|\n        The Joker |  null|     DC| 835355681|\n            Frozen|   4.0| Disney| 835355604|\n            Hitman|  null|      1|      null|\n+------------------+------+-------+----------+\n\n+------------------+------------+-------+----------+\n              name|      rating| studio|     date |\n+------------------+------------+-------+----------+\n  Avengers Endgame|         5.0| marvel|1260759144|\nBatman Vs Superman|         4.0|     DC| 835355664|\n        The Joker |8.35355604E8|     DC| 835355681|\n            Frozen|         4.0| Disney| 835355604|\n            Hitman|8.35355604E8|   null| 835355604|\n+------------------+------------+-------+----------+\n\n+------------------+------+------------+----------+\n              name|rating|      studio|     date |\n+------------------+------+------------+----------+\n  Avengers Endgame|   5.0|      marvel|1260759144|\nBatman Vs Superman|   4.0|          DC| 835355664|\n        The Joker |  null|          DC| 835355681|\n            Frozen|   4.0|      Disney| 835355604|\n            Hitman|  null|OTHER STUDIO|      null|\n+------------------+------+------------+----------+\n\nOut[50]: DataFrame[name: string, rating: double, studio: string, date : int]</div>"
      ]
     }
    }
   ],
   "execution_count": 0
  },
  {
   "cell_type": "code",
   "source": [
    "## NOTE : FOR PRODUCTION always use the names\nmoviesDF.select(\"rating\").describe().show()\nmoviesDF.select(avg(moviesDF['rating'] )).show()\nmoviesDF.fillna(4.3, subset=['rating']).show()\nmoviesDF.na.fill({'rating':0.0})"
   ],
   "metadata": {
    "application/vnd.databricks.v1+cell": {
     "title": "",
     "showTitle": false,
     "inputWidgets": {},
     "nuid": "c980a605-2ba9-467b-9f17-3003c8738653"
    }
   },
   "outputs": [
    {
     "output_type": "display_data",
     "metadata": {
      "application/vnd.databricks.v1+output": {
       "datasetInfos": [],
       "data": "<div class=\"ansiout\">+-------+------------------+\n|summary|            rating|\n+-------+------------------+\n|  count|                 3|\n|   mean| 4.333333333333333|\n| stddev|0.5773502691896258|\n|    min|               4.0|\n|    max|               5.0|\n+-------+------------------+\n\n+-----------------+\n|      avg(rating)|\n+-----------------+\n|4.333333333333333|\n+-----------------+\n\n+------------------+------+-------+----------+\n|              name|rating| studio|     date |\n+------------------+------+-------+----------+\n|  Avengers Endgame|   5.0| marvel|1260759144|\n|Batman Vs Superman|   4.0|     DC| 835355664|\n|        The Joker |   4.3|     DC| 835355681|\n|            Frozen|   4.0| Disney| 835355604|\n|            Hitman|   4.3|   null|      null|\n+------------------+------+-------+----------+\n\nOut[51]: DataFrame[name: string, rating: double, studio: string, date : int]</div>",
       "removedWidgets": [],
       "addedWidgets": {},
       "type": "html",
       "arguments": {}
      }
     },
     "data": {
      "text/html": [
       "<style scoped>\n  .ansiout {\n    display: block;\n    unicode-bidi: embed;\n    white-space: pre-wrap;\n    word-wrap: break-word;\n    word-break: break-all;\n    font-family: \"Source Code Pro\", \"Menlo\", monospace;;\n    font-size: 13px;\n    color: #555;\n    margin-left: 4px;\n    line-height: 19px;\n  }\n</style>\n<div class=\"ansiout\">+-------+------------------+\nsummary|            rating|\n+-------+------------------+\n  count|                 3|\n   mean| 4.333333333333333|\n stddev|0.5773502691896258|\n    min|               4.0|\n    max|               5.0|\n+-------+------------------+\n\n+-----------------+\n      avg(rating)|\n+-----------------+\n4.333333333333333|\n+-----------------+\n\n+------------------+------+-------+----------+\n              name|rating| studio|     date |\n+------------------+------+-------+----------+\n  Avengers Endgame|   5.0| marvel|1260759144|\nBatman Vs Superman|   4.0|     DC| 835355664|\n        The Joker |   4.3|     DC| 835355681|\n            Frozen|   4.0| Disney| 835355604|\n            Hitman|   4.3|   null|      null|\n+------------------+------+-------+----------+\n\nOut[51]: DataFrame[name: string, rating: double, studio: string, date : int]</div>"
      ]
     }
    }
   ],
   "execution_count": 0
  },
  {
   "cell_type": "markdown",
   "source": [
    "### Remove Trivial Data"
   ],
   "metadata": {
    "application/vnd.databricks.v1+cell": {
     "title": "",
     "showTitle": false,
     "inputWidgets": {},
     "nuid": "db9eeb44-9c24-45ce-b42e-55100a39ea55"
    }
   }
  },
  {
   "cell_type": "markdown",
   "source": [
    "Let's drop the columns `instant`, `dteday`, `season`, `casual`, `holiday`, `weekday`, and `registered` from our DataFrame and then review our schema:"
   ],
   "metadata": {
    "application/vnd.databricks.v1+cell": {
     "title": "",
     "showTitle": false,
     "inputWidgets": {},
     "nuid": "c47224eb-d4b2-48a8-a784-43943d5a7e16"
    }
   }
  },
  {
   "cell_type": "code",
   "source": [
    "preprocessedDF = initialDF.drop(\"instant\", \"dteday\", \"season\", \"casual\", \"registered\", \"holiday\", \"weekday\")\n\npreprocessedDF.printSchema()"
   ],
   "metadata": {
    "application/vnd.databricks.v1+cell": {
     "title": "",
     "showTitle": false,
     "inputWidgets": {},
     "nuid": "a09b824f-b145-4e73-a759-6ea431d54b03"
    }
   },
   "outputs": [
    {
     "output_type": "display_data",
     "metadata": {
      "application/vnd.databricks.v1+output": {
       "datasetInfos": [
        {
         "name": "preprocessedDF",
         "typeStr": "pyspark.sql.dataframe.DataFrame",
         "schema": {
          "fields": [
           {
            "metadata": {},
            "name": "yr",
            "nullable": true,
            "type": "integer"
           },
           {
            "metadata": {},
            "name": "mnth",
            "nullable": true,
            "type": "integer"
           },
           {
            "metadata": {},
            "name": "hr",
            "nullable": true,
            "type": "integer"
           },
           {
            "metadata": {},
            "name": "workingday",
            "nullable": true,
            "type": "integer"
           },
           {
            "metadata": {},
            "name": "weathersit",
            "nullable": true,
            "type": "integer"
           },
           {
            "metadata": {},
            "name": "temp",
            "nullable": true,
            "type": "double"
           },
           {
            "metadata": {},
            "name": "atemp",
            "nullable": true,
            "type": "double"
           },
           {
            "metadata": {},
            "name": "hum",
            "nullable": true,
            "type": "double"
           },
           {
            "metadata": {},
            "name": "windspeed",
            "nullable": true,
            "type": "double"
           },
           {
            "metadata": {},
            "name": "cnt",
            "nullable": true,
            "type": "integer"
           }
          ],
          "type": "struct"
         },
         "tableIdentifier": null
        }
       ],
       "data": "<div class=\"ansiout\">root\n |-- yr: integer (nullable = true)\n |-- mnth: integer (nullable = true)\n |-- hr: integer (nullable = true)\n |-- workingday: integer (nullable = true)\n |-- weathersit: integer (nullable = true)\n |-- temp: double (nullable = true)\n |-- atemp: double (nullable = true)\n |-- hum: double (nullable = true)\n |-- windspeed: double (nullable = true)\n |-- cnt: integer (nullable = true)\n\n</div>",
       "removedWidgets": [],
       "addedWidgets": {},
       "type": "html",
       "arguments": {}
      }
     },
     "data": {
      "text/html": [
       "<style scoped>\n  .ansiout {\n    display: block;\n    unicode-bidi: embed;\n    white-space: pre-wrap;\n    word-wrap: break-word;\n    word-break: break-all;\n    font-family: \"Source Code Pro\", \"Menlo\", monospace;;\n    font-size: 13px;\n    color: #555;\n    margin-left: 4px;\n    line-height: 19px;\n  }\n</style>\n<div class=\"ansiout\">root\n-- yr: integer (nullable = true)\n-- mnth: integer (nullable = true)\n-- hr: integer (nullable = true)\n-- workingday: integer (nullable = true)\n-- weathersit: integer (nullable = true)\n-- temp: double (nullable = true)\n-- atemp: double (nullable = true)\n-- hum: double (nullable = true)\n-- windspeed: double (nullable = true)\n-- cnt: integer (nullable = true)\n\n</div>"
      ]
     }
    }
   ],
   "execution_count": 0
  },
  {
   "cell_type": "markdown",
   "source": [
    "### dropDuplicates Columns"
   ],
   "metadata": {
    "application/vnd.databricks.v1+cell": {
     "title": "",
     "showTitle": false,
     "inputWidgets": {},
     "nuid": "a9c3d68b-769f-4429-a35b-db7da81ab13f"
    }
   }
  },
  {
   "cell_type": "code",
   "source": [
    "newDF.select('Season','windspeed','atemp').count()"
   ],
   "metadata": {
    "application/vnd.databricks.v1+cell": {
     "title": "",
     "showTitle": false,
     "inputWidgets": {},
     "nuid": "b7a3fa35-0a45-4a8d-9cbf-bf03ec640e88"
    }
   },
   "outputs": [
    {
     "output_type": "display_data",
     "metadata": {
      "application/vnd.databricks.v1+output": {
       "datasetInfos": [],
       "data": "<div class=\"ansiout\">Out[53]: 17379</div>",
       "removedWidgets": [],
       "addedWidgets": {},
       "type": "html",
       "arguments": {}
      }
     },
     "data": {
      "text/html": [
       "<style scoped>\n  .ansiout {\n    display: block;\n    unicode-bidi: embed;\n    white-space: pre-wrap;\n    word-wrap: break-word;\n    word-break: break-all;\n    font-family: \"Source Code Pro\", \"Menlo\", monospace;;\n    font-size: 13px;\n    color: #555;\n    margin-left: 4px;\n    line-height: 19px;\n  }\n</style>\n<div class=\"ansiout\">Out[53]: 17379</div>"
      ]
     }
    }
   ],
   "execution_count": 0
  },
  {
   "cell_type": "code",
   "source": [
    "newDF.select('Season','windspeed','atemp').dropDuplicates().count()\n"
   ],
   "metadata": {
    "application/vnd.databricks.v1+cell": {
     "title": "",
     "showTitle": false,
     "inputWidgets": {},
     "nuid": "166b7e29-3802-4f2c-9866-c6bb35fc3741"
    }
   },
   "outputs": [
    {
     "output_type": "display_data",
     "metadata": {
      "application/vnd.databricks.v1+output": {
       "datasetInfos": [],
       "data": "<div class=\"ansiout\">Out[54]: 1994</div>",
       "removedWidgets": [],
       "addedWidgets": {},
       "type": "html",
       "arguments": {}
      }
     },
     "data": {
      "text/html": [
       "<style scoped>\n  .ansiout {\n    display: block;\n    unicode-bidi: embed;\n    white-space: pre-wrap;\n    word-wrap: break-word;\n    word-break: break-all;\n    font-family: \"Source Code Pro\", \"Menlo\", monospace;;\n    font-size: 13px;\n    color: #555;\n    margin-left: 4px;\n    line-height: 19px;\n  }\n</style>\n<div class=\"ansiout\">Out[54]: 1994</div>"
      ]
     }
    }
   ],
   "execution_count": 0
  },
  {
   "cell_type": "code",
   "source": [
    "newDF.select('Season','windspeed','atemp').dropDuplicates().show()"
   ],
   "metadata": {
    "application/vnd.databricks.v1+cell": {
     "title": "",
     "showTitle": false,
     "inputWidgets": {},
     "nuid": "958cf5ac-5c35-4f1b-8204-d6ce40a395ad"
    }
   },
   "outputs": [
    {
     "output_type": "display_data",
     "metadata": {
      "application/vnd.databricks.v1+output": {
       "datasetInfos": [],
       "data": "<div class=\"ansiout\">+------+---------+------+\n|Season|windspeed| atemp|\n+------+---------+------+\n|spring|   0.2239|0.4091|\n|spring|   0.2537|0.4242|\n|spring|   0.2537|0.4394|\n|spring|      0.0|0.2879|\n|spring|   0.2985|0.4242|\n|spring|   0.2239|0.3939|\n|spring|   0.2985|0.4394|\n|spring|   0.2537|0.4091|\n|spring|   0.2985|0.4545|\n|spring|   0.2836|0.4394|\n|spring|   0.2836|0.3333|\n|spring|      0.0|0.3485|\n|spring|   0.2537|0.3939|\n|spring|   0.0896|0.2576|\n|spring|   0.2239|0.3485|\n|spring|   0.2836|0.4545|\n|spring|    0.194|0.4545|\n|spring|    0.194|0.4091|\n|spring|   0.2836|0.4242|\n|spring|      0.0|0.2576|\n+------+---------+------+\nonly showing top 20 rows\n\n</div>",
       "removedWidgets": [],
       "addedWidgets": {},
       "type": "html",
       "arguments": {}
      }
     },
     "data": {
      "text/html": [
       "<style scoped>\n  .ansiout {\n    display: block;\n    unicode-bidi: embed;\n    white-space: pre-wrap;\n    word-wrap: break-word;\n    word-break: break-all;\n    font-family: \"Source Code Pro\", \"Menlo\", monospace;;\n    font-size: 13px;\n    color: #555;\n    margin-left: 4px;\n    line-height: 19px;\n  }\n</style>\n<div class=\"ansiout\">+------+---------+------+\nSeason|windspeed| atemp|\n+------+---------+------+\nspring|   0.2239|0.4091|\nspring|   0.2537|0.4242|\nspring|   0.2537|0.4394|\nspring|      0.0|0.2879|\nspring|   0.2985|0.4242|\nspring|   0.2239|0.3939|\nspring|   0.2985|0.4394|\nspring|   0.2537|0.4091|\nspring|   0.2985|0.4545|\nspring|   0.2836|0.4394|\nspring|   0.2836|0.3333|\nspring|      0.0|0.3485|\nspring|   0.2537|0.3939|\nspring|   0.0896|0.2576|\nspring|   0.2239|0.3485|\nspring|   0.2836|0.4545|\nspring|    0.194|0.4545|\nspring|    0.194|0.4091|\nspring|   0.2836|0.4242|\nspring|      0.0|0.2576|\n+------+---------+------+\nonly showing top 20 rows\n\n</div>"
      ]
     }
    }
   ],
   "execution_count": 0
  },
  {
   "cell_type": "code",
   "source": [
    "newDF.select(\"Season\").distinct().show()"
   ],
   "metadata": {
    "application/vnd.databricks.v1+cell": {
     "title": "",
     "showTitle": false,
     "inputWidgets": {},
     "nuid": "b237831e-247c-4711-ada5-b3a9c92bb029"
    }
   },
   "outputs": [
    {
     "output_type": "display_data",
     "metadata": {
      "application/vnd.databricks.v1+output": {
       "datasetInfos": [],
       "data": "<div class=\"ansiout\">+------+\n|Season|\n+------+\n|winter|\n|summer|\n|spring|\n|  fall|\n+------+\n\n</div>",
       "removedWidgets": [],
       "addedWidgets": {},
       "type": "html",
       "arguments": {}
      }
     },
     "data": {
      "text/html": [
       "<style scoped>\n  .ansiout {\n    display: block;\n    unicode-bidi: embed;\n    white-space: pre-wrap;\n    word-wrap: break-word;\n    word-break: break-all;\n    font-family: \"Source Code Pro\", \"Menlo\", monospace;;\n    font-size: 13px;\n    color: #555;\n    margin-left: 4px;\n    line-height: 19px;\n  }\n</style>\n<div class=\"ansiout\">+------+\nSeason|\n+------+\nwinter|\nsummer|\nspring|\n  fall|\n+------+\n\n</div>"
      ]
     }
    }
   ],
   "execution_count": 0
  }
 ],
 "metadata": {
  "application/vnd.databricks.v1+notebook": {
   "notebookName": "spark-crash-course-python",
   "dashboards": [
    {
     "elements": [],
     "guid": "45ea8f0f-2caf-42eb-922f-d0bcfa468883",
     "layoutOption": {
      "stack": true,
      "grid": true
     },
     "version": "DashboardViewV1",
     "nuid": "6f00e8b8-bbf3-44a7-aabc-f66af49619d3",
     "origId": 3065232351535375,
     "title": "Untitled",
     "width": 1024,
     "globalVars": {}
    },
    {
     "elements": [],
     "guid": "fc48f6e8-e421-4403-b99e-0fe3749ee741",
     "layoutOption": {
      "stack": true,
      "grid": true
     },
     "version": "DashboardViewV1",
     "nuid": "f50ab189-b612-45d4-947a-2feee8ce1e85",
     "origId": 3065232351535376,
     "title": "Untitled",
     "width": 1024,
     "globalVars": {}
    },
    {
     "elements": [],
     "guid": "1ba4852b-cad1-48b8-a3a2-c590e9bb3228",
     "layoutOption": {
      "stack": true,
      "grid": true
     },
     "version": "DashboardViewV1",
     "nuid": "ddd8a9bf-2d80-42df-904c-3b7c96575be3",
     "origId": 3065232351535377,
     "title": "Results",
     "width": 1024,
     "globalVars": {}
    },
    {
     "elements": [],
     "guid": "292c4966-e506-4f10-82cb-7190d451d1f6",
     "layoutOption": {
      "stack": true,
      "grid": true
     },
     "version": "DashboardViewV1",
     "nuid": "e897fc5f-908a-4f51-9b27-3307f485c952",
     "origId": 3065232351535378,
     "title": "temp-cnt-hr",
     "width": 1024,
     "globalVars": {}
    }
   ],
   "language": "python",
   "widgets": {},
   "notebookOrigID": 3065232351535272
  }
 },
 "nbformat": 4,
 "nbformat_minor": 0
}